{
  "nbformat": 4,
  "nbformat_minor": 0,
  "metadata": {
    "colab": {
      "name": "Machine_hack_housing_price_prediction.ipynb",
      "provenance": [],
      "collapsed_sections": [],
      "toc_visible": true,
      "authorship_tag": "ABX9TyODJyr+HKBRbmJ58OOUwzN0",
      "include_colab_link": true
    },
    "kernelspec": {
      "name": "python3",
      "display_name": "Python 3"
    }
  },
  "cells": [
    {
      "cell_type": "markdown",
      "metadata": {
        "id": "view-in-github",
        "colab_type": "text"
      },
      "source": [
        "<a href=\"https://colab.research.google.com/github/plaban1981/MachineHack-1/blob/master/Machine_hack_housing_price_prediction.ipynb\" target=\"_parent\"><img src=\"https://colab.research.google.com/assets/colab-badge.svg\" alt=\"Open In Colab\"/></a>"
      ]
    },
    {
      "cell_type": "code",
      "metadata": {
        "id": "2D5kfG5wW576",
        "outputId": "a6a626dc-819e-4223-c392-17c716a073ce",
        "colab": {
          "base_uri": "https://localhost:8080/",
          "height": 343
        }
      },
      "source": [
        "!pip install catboost"
      ],
      "execution_count": 1,
      "outputs": [
        {
          "output_type": "stream",
          "text": [
            "Collecting catboost\n",
            "\u001b[?25l  Downloading https://files.pythonhosted.org/packages/52/39/128fff65072c8327371e3c594f3c826d29c85b21cb6485980353b168e0e4/catboost-0.24.2-cp36-none-manylinux1_x86_64.whl (66.1MB)\n",
            "\u001b[K     |████████████████████████████████| 66.2MB 57kB/s \n",
            "\u001b[?25hRequirement already satisfied: pandas>=0.24.0 in /usr/local/lib/python3.6/dist-packages (from catboost) (1.1.2)\n",
            "Requirement already satisfied: six in /usr/local/lib/python3.6/dist-packages (from catboost) (1.15.0)\n",
            "Requirement already satisfied: numpy>=1.16.0 in /usr/local/lib/python3.6/dist-packages (from catboost) (1.18.5)\n",
            "Requirement already satisfied: graphviz in /usr/local/lib/python3.6/dist-packages (from catboost) (0.10.1)\n",
            "Requirement already satisfied: scipy in /usr/local/lib/python3.6/dist-packages (from catboost) (1.4.1)\n",
            "Requirement already satisfied: plotly in /usr/local/lib/python3.6/dist-packages (from catboost) (4.4.1)\n",
            "Requirement already satisfied: matplotlib in /usr/local/lib/python3.6/dist-packages (from catboost) (3.2.2)\n",
            "Requirement already satisfied: pytz>=2017.2 in /usr/local/lib/python3.6/dist-packages (from pandas>=0.24.0->catboost) (2018.9)\n",
            "Requirement already satisfied: python-dateutil>=2.7.3 in /usr/local/lib/python3.6/dist-packages (from pandas>=0.24.0->catboost) (2.8.1)\n",
            "Requirement already satisfied: retrying>=1.3.3 in /usr/local/lib/python3.6/dist-packages (from plotly->catboost) (1.3.3)\n",
            "Requirement already satisfied: kiwisolver>=1.0.1 in /usr/local/lib/python3.6/dist-packages (from matplotlib->catboost) (1.2.0)\n",
            "Requirement already satisfied: cycler>=0.10 in /usr/local/lib/python3.6/dist-packages (from matplotlib->catboost) (0.10.0)\n",
            "Requirement already satisfied: pyparsing!=2.0.4,!=2.1.2,!=2.1.6,>=2.0.1 in /usr/local/lib/python3.6/dist-packages (from matplotlib->catboost) (2.4.7)\n",
            "Installing collected packages: catboost\n",
            "Successfully installed catboost-0.24.2\n"
          ],
          "name": "stdout"
        }
      ]
    },
    {
      "cell_type": "markdown",
      "metadata": {
        "id": "4lHF9MAWXntM"
      },
      "source": [
        "**bayesian-optimization**"
      ]
    },
    {
      "cell_type": "code",
      "metadata": {
        "id": "tS674yv4XoRs",
        "outputId": "a97ab3bc-dcf1-4c2c-c595-cba9af783777",
        "colab": {
          "base_uri": "https://localhost:8080/",
          "height": 258
        }
      },
      "source": [
        "pip install bayesian-optimization"
      ],
      "execution_count": 2,
      "outputs": [
        {
          "output_type": "stream",
          "text": [
            "Collecting bayesian-optimization\n",
            "  Downloading https://files.pythonhosted.org/packages/bb/7a/fd8059a3881d3ab37ac8f72f56b73937a14e8bb14a9733e68cc8b17dbe3c/bayesian-optimization-1.2.0.tar.gz\n",
            "Requirement already satisfied: numpy>=1.9.0 in /usr/local/lib/python3.6/dist-packages (from bayesian-optimization) (1.18.5)\n",
            "Requirement already satisfied: scipy>=0.14.0 in /usr/local/lib/python3.6/dist-packages (from bayesian-optimization) (1.4.1)\n",
            "Requirement already satisfied: scikit-learn>=0.18.0 in /usr/local/lib/python3.6/dist-packages (from bayesian-optimization) (0.22.2.post1)\n",
            "Requirement already satisfied: joblib>=0.11 in /usr/local/lib/python3.6/dist-packages (from scikit-learn>=0.18.0->bayesian-optimization) (0.16.0)\n",
            "Building wheels for collected packages: bayesian-optimization\n",
            "  Building wheel for bayesian-optimization (setup.py) ... \u001b[?25l\u001b[?25hdone\n",
            "  Created wheel for bayesian-optimization: filename=bayesian_optimization-1.2.0-cp36-none-any.whl size=11685 sha256=6eeeede1a63472b5691493690c169f703ef2bcb37e453e93cfe74c7210dc8826\n",
            "  Stored in directory: /root/.cache/pip/wheels/5a/56/ae/e0e3c1fc1954dc3ec712e2df547235ed072b448094d8f94aec\n",
            "Successfully built bayesian-optimization\n",
            "Installing collected packages: bayesian-optimization\n",
            "Successfully installed bayesian-optimization-1.2.0\n"
          ],
          "name": "stdout"
        }
      ]
    },
    {
      "cell_type": "code",
      "metadata": {
        "id": "uz8O9FH0Y0lO",
        "outputId": "fa72d5de-ea6d-48ee-e8a5-986b33b41a06",
        "colab": {
          "base_uri": "https://localhost:8080/",
          "height": 51
        }
      },
      "source": [
        "pip install geopy"
      ],
      "execution_count": null,
      "outputs": [
        {
          "output_type": "stream",
          "text": [
            "Requirement already satisfied: geopy in /usr/local/lib/python3.6/dist-packages (1.17.0)\n",
            "Requirement already satisfied: geographiclib<2,>=1.49 in /usr/local/lib/python3.6/dist-packages (from geopy) (1.50)\n"
          ],
          "name": "stdout"
        }
      ]
    },
    {
      "cell_type": "code",
      "metadata": {
        "id": "rlrwWH9vXGYU",
        "outputId": "c9ca7643-492d-4613-a577-e1d25571c8b4",
        "colab": {
          "base_uri": "https://localhost:8080/",
          "height": 34
        }
      },
      "source": [
        "from google.colab import drive\n",
        "drive.mount(\"/content/drive\")"
      ],
      "execution_count": 3,
      "outputs": [
        {
          "output_type": "stream",
          "text": [
            "Mounted at /content/drive\n"
          ],
          "name": "stdout"
        }
      ]
    },
    {
      "cell_type": "code",
      "metadata": {
        "id": "j8rqlqHiWwYW"
      },
      "source": [
        "#importing libraries\n",
        "import pandas as pd\n",
        "import numpy as np\n",
        "import matplotlib.pyplot as plt\n",
        "import seaborn as sns\n",
        "\n",
        "from sklearn.ensemble import ExtraTreesRegressor, RandomForestRegressor, StackingRegressor\n",
        "from lightgbm import LGBMRegressor\n",
        "from xgboost import XGBRegressor, XGBRFRegressor\n",
        "from catboost import CatBoostRegressor\n",
        "\n",
        "from sklearn.model_selection import cross_val_score\n",
        "from sklearn.metrics import mean_squared_error, make_scorer\n",
        "\n",
        "from bayes_opt import BayesianOptimization\n",
        "from bayes_opt.util import Colours"
      ],
      "execution_count": 4,
      "outputs": []
    },
    {
      "cell_type": "code",
      "metadata": {
        "id": "zc513t6vXBXO",
        "outputId": "9a3543ce-cf85-4b13-feff-78185c8a86b3",
        "colab": {
          "base_uri": "https://localhost:8080/",
          "height": 153
        }
      },
      "source": [
        "!unzip \"/content/drive/My Drive/AV_Hack/Participants_Data_HPP.zip\" "
      ],
      "execution_count": 5,
      "outputs": [
        {
          "output_type": "stream",
          "text": [
            "Archive:  /content/drive/My Drive/AV_Hack/Participants_Data_HPP.zip\n",
            "   creating: Participants_Data_HPP/\n",
            "  inflating: Participants_Data_HPP/Test.csv  \n",
            "  inflating: __MACOSX/Participants_Data_HPP/._Test.csv  \n",
            "  inflating: Participants_Data_HPP/Train.csv  \n",
            "  inflating: __MACOSX/Participants_Data_HPP/._Train.csv  \n",
            "  inflating: Participants_Data_HPP/sample_submission.csv  \n",
            "  inflating: __MACOSX/Participants_Data_HPP/._sample_submission.csv  \n"
          ],
          "name": "stdout"
        }
      ]
    },
    {
      "cell_type": "code",
      "metadata": {
        "id": "yxSV75cQX8lB"
      },
      "source": [
        "#importing files\n",
        "train = pd.read_csv('/content/Participants_Data_HPP/Train.csv')\n",
        "test = pd.read_csv('/content/Participants_Data_HPP/Test.csv')"
      ],
      "execution_count": 6,
      "outputs": []
    },
    {
      "cell_type": "code",
      "metadata": {
        "id": "QstN-37qYGTW",
        "outputId": "47d67e6f-ba9a-4ffd-e3c1-ac41c5955633",
        "colab": {
          "base_uri": "https://localhost:8080/",
          "height": 275
        }
      },
      "source": [
        "train.head()"
      ],
      "execution_count": null,
      "outputs": [
        {
          "output_type": "execute_result",
          "data": {
            "text/html": [
              "<div>\n",
              "<style scoped>\n",
              "    .dataframe tbody tr th:only-of-type {\n",
              "        vertical-align: middle;\n",
              "    }\n",
              "\n",
              "    .dataframe tbody tr th {\n",
              "        vertical-align: top;\n",
              "    }\n",
              "\n",
              "    .dataframe thead th {\n",
              "        text-align: right;\n",
              "    }\n",
              "</style>\n",
              "<table border=\"1\" class=\"dataframe\">\n",
              "  <thead>\n",
              "    <tr style=\"text-align: right;\">\n",
              "      <th></th>\n",
              "      <th>POSTED_BY</th>\n",
              "      <th>UNDER_CONSTRUCTION</th>\n",
              "      <th>RERA</th>\n",
              "      <th>BHK_NO.</th>\n",
              "      <th>BHK_OR_RK</th>\n",
              "      <th>SQUARE_FT</th>\n",
              "      <th>READY_TO_MOVE</th>\n",
              "      <th>RESALE</th>\n",
              "      <th>ADDRESS</th>\n",
              "      <th>LONGITUDE</th>\n",
              "      <th>LATITUDE</th>\n",
              "      <th>TARGET(PRICE_IN_LACS)</th>\n",
              "    </tr>\n",
              "  </thead>\n",
              "  <tbody>\n",
              "    <tr>\n",
              "      <th>0</th>\n",
              "      <td>Owner</td>\n",
              "      <td>0</td>\n",
              "      <td>0</td>\n",
              "      <td>2</td>\n",
              "      <td>BHK</td>\n",
              "      <td>1300.236407</td>\n",
              "      <td>1</td>\n",
              "      <td>1</td>\n",
              "      <td>Ksfc Layout,Bangalore</td>\n",
              "      <td>12.969910</td>\n",
              "      <td>77.597960</td>\n",
              "      <td>55.0</td>\n",
              "    </tr>\n",
              "    <tr>\n",
              "      <th>1</th>\n",
              "      <td>Dealer</td>\n",
              "      <td>0</td>\n",
              "      <td>0</td>\n",
              "      <td>2</td>\n",
              "      <td>BHK</td>\n",
              "      <td>1275.000000</td>\n",
              "      <td>1</td>\n",
              "      <td>1</td>\n",
              "      <td>Vishweshwara Nagar,Mysore</td>\n",
              "      <td>12.274538</td>\n",
              "      <td>76.644605</td>\n",
              "      <td>51.0</td>\n",
              "    </tr>\n",
              "    <tr>\n",
              "      <th>2</th>\n",
              "      <td>Owner</td>\n",
              "      <td>0</td>\n",
              "      <td>0</td>\n",
              "      <td>2</td>\n",
              "      <td>BHK</td>\n",
              "      <td>933.159722</td>\n",
              "      <td>1</td>\n",
              "      <td>1</td>\n",
              "      <td>Jigani,Bangalore</td>\n",
              "      <td>12.778033</td>\n",
              "      <td>77.632191</td>\n",
              "      <td>43.0</td>\n",
              "    </tr>\n",
              "    <tr>\n",
              "      <th>3</th>\n",
              "      <td>Owner</td>\n",
              "      <td>0</td>\n",
              "      <td>1</td>\n",
              "      <td>2</td>\n",
              "      <td>BHK</td>\n",
              "      <td>929.921143</td>\n",
              "      <td>1</td>\n",
              "      <td>1</td>\n",
              "      <td>Sector-1 Vaishali,Ghaziabad</td>\n",
              "      <td>28.642300</td>\n",
              "      <td>77.344500</td>\n",
              "      <td>62.5</td>\n",
              "    </tr>\n",
              "    <tr>\n",
              "      <th>4</th>\n",
              "      <td>Dealer</td>\n",
              "      <td>1</td>\n",
              "      <td>0</td>\n",
              "      <td>2</td>\n",
              "      <td>BHK</td>\n",
              "      <td>999.009247</td>\n",
              "      <td>0</td>\n",
              "      <td>1</td>\n",
              "      <td>New Town,Kolkata</td>\n",
              "      <td>22.592200</td>\n",
              "      <td>88.484911</td>\n",
              "      <td>60.5</td>\n",
              "    </tr>\n",
              "  </tbody>\n",
              "</table>\n",
              "</div>"
            ],
            "text/plain": [
              "  POSTED_BY  UNDER_CONSTRUCTION  ...   LATITUDE  TARGET(PRICE_IN_LACS)\n",
              "0     Owner                   0  ...  77.597960                   55.0\n",
              "1    Dealer                   0  ...  76.644605                   51.0\n",
              "2     Owner                   0  ...  77.632191                   43.0\n",
              "3     Owner                   0  ...  77.344500                   62.5\n",
              "4    Dealer                   1  ...  88.484911                   60.5\n",
              "\n",
              "[5 rows x 12 columns]"
            ]
          },
          "metadata": {
            "tags": []
          },
          "execution_count": 10
        }
      ]
    },
    {
      "cell_type": "code",
      "metadata": {
        "id": "LrJV0fFPbBDu"
      },
      "source": [
        "train[\"COORDINATES\"] = train[\"LONGITUDE\"].astype(str) +\",\" + train[\"LATITUDE\"].astype(str)"
      ],
      "execution_count": null,
      "outputs": []
    },
    {
      "cell_type": "code",
      "metadata": {
        "id": "YcR_B_DldvtM"
      },
      "source": [
        "test[\"COORDINATES\"] = test[\"LONGITUDE\"].astype(str) +\",\" + test[\"LATITUDE\"].astype(str)"
      ],
      "execution_count": null,
      "outputs": []
    },
    {
      "cell_type": "code",
      "metadata": {
        "id": "Eohz-mmVbawT",
        "outputId": "fd83f8e4-637a-40a3-be8e-6e3e7507b624",
        "colab": {
          "base_uri": "https://localhost:8080/",
          "height": 275
        }
      },
      "source": [
        "train.head()"
      ],
      "execution_count": null,
      "outputs": [
        {
          "output_type": "execute_result",
          "data": {
            "text/html": [
              "<div>\n",
              "<style scoped>\n",
              "    .dataframe tbody tr th:only-of-type {\n",
              "        vertical-align: middle;\n",
              "    }\n",
              "\n",
              "    .dataframe tbody tr th {\n",
              "        vertical-align: top;\n",
              "    }\n",
              "\n",
              "    .dataframe thead th {\n",
              "        text-align: right;\n",
              "    }\n",
              "</style>\n",
              "<table border=\"1\" class=\"dataframe\">\n",
              "  <thead>\n",
              "    <tr style=\"text-align: right;\">\n",
              "      <th></th>\n",
              "      <th>POSTED_BY</th>\n",
              "      <th>UNDER_CONSTRUCTION</th>\n",
              "      <th>RERA</th>\n",
              "      <th>BHK_NO.</th>\n",
              "      <th>BHK_OR_RK</th>\n",
              "      <th>SQUARE_FT</th>\n",
              "      <th>READY_TO_MOVE</th>\n",
              "      <th>RESALE</th>\n",
              "      <th>ADDRESS</th>\n",
              "      <th>LONGITUDE</th>\n",
              "      <th>LATITUDE</th>\n",
              "      <th>TARGET(PRICE_IN_LACS)</th>\n",
              "      <th>COORDINATES</th>\n",
              "    </tr>\n",
              "  </thead>\n",
              "  <tbody>\n",
              "    <tr>\n",
              "      <th>0</th>\n",
              "      <td>Owner</td>\n",
              "      <td>0</td>\n",
              "      <td>0</td>\n",
              "      <td>2</td>\n",
              "      <td>BHK</td>\n",
              "      <td>1300.236407</td>\n",
              "      <td>1</td>\n",
              "      <td>1</td>\n",
              "      <td>Ksfc Layout,Bangalore</td>\n",
              "      <td>12.969910</td>\n",
              "      <td>77.597960</td>\n",
              "      <td>55.0</td>\n",
              "      <td>12.96991,77.59796</td>\n",
              "    </tr>\n",
              "    <tr>\n",
              "      <th>1</th>\n",
              "      <td>Dealer</td>\n",
              "      <td>0</td>\n",
              "      <td>0</td>\n",
              "      <td>2</td>\n",
              "      <td>BHK</td>\n",
              "      <td>1275.000000</td>\n",
              "      <td>1</td>\n",
              "      <td>1</td>\n",
              "      <td>Vishweshwara Nagar,Mysore</td>\n",
              "      <td>12.274538</td>\n",
              "      <td>76.644605</td>\n",
              "      <td>51.0</td>\n",
              "      <td>12.274538,76.644605</td>\n",
              "    </tr>\n",
              "    <tr>\n",
              "      <th>2</th>\n",
              "      <td>Owner</td>\n",
              "      <td>0</td>\n",
              "      <td>0</td>\n",
              "      <td>2</td>\n",
              "      <td>BHK</td>\n",
              "      <td>933.159722</td>\n",
              "      <td>1</td>\n",
              "      <td>1</td>\n",
              "      <td>Jigani,Bangalore</td>\n",
              "      <td>12.778033</td>\n",
              "      <td>77.632191</td>\n",
              "      <td>43.0</td>\n",
              "      <td>12.778033,77.632191</td>\n",
              "    </tr>\n",
              "    <tr>\n",
              "      <th>3</th>\n",
              "      <td>Owner</td>\n",
              "      <td>0</td>\n",
              "      <td>1</td>\n",
              "      <td>2</td>\n",
              "      <td>BHK</td>\n",
              "      <td>929.921143</td>\n",
              "      <td>1</td>\n",
              "      <td>1</td>\n",
              "      <td>Sector-1 Vaishali,Ghaziabad</td>\n",
              "      <td>28.642300</td>\n",
              "      <td>77.344500</td>\n",
              "      <td>62.5</td>\n",
              "      <td>28.6423,77.3445</td>\n",
              "    </tr>\n",
              "    <tr>\n",
              "      <th>4</th>\n",
              "      <td>Dealer</td>\n",
              "      <td>1</td>\n",
              "      <td>0</td>\n",
              "      <td>2</td>\n",
              "      <td>BHK</td>\n",
              "      <td>999.009247</td>\n",
              "      <td>0</td>\n",
              "      <td>1</td>\n",
              "      <td>New Town,Kolkata</td>\n",
              "      <td>22.592200</td>\n",
              "      <td>88.484911</td>\n",
              "      <td>60.5</td>\n",
              "      <td>22.5922,88.484911</td>\n",
              "    </tr>\n",
              "  </tbody>\n",
              "</table>\n",
              "</div>"
            ],
            "text/plain": [
              "  POSTED_BY  UNDER_CONSTRUCTION  ...  TARGET(PRICE_IN_LACS)          COORDINATES\n",
              "0     Owner                   0  ...                   55.0    12.96991,77.59796\n",
              "1    Dealer                   0  ...                   51.0  12.274538,76.644605\n",
              "2     Owner                   0  ...                   43.0  12.778033,77.632191\n",
              "3     Owner                   0  ...                   62.5      28.6423,77.3445\n",
              "4    Dealer                   1  ...                   60.5    22.5922,88.484911\n",
              "\n",
              "[5 rows x 13 columns]"
            ]
          },
          "metadata": {
            "tags": []
          },
          "execution_count": 26
        }
      ]
    },
    {
      "cell_type": "code",
      "metadata": {
        "id": "kQDn_UO9kHCH",
        "outputId": "94ced38c-c407-4e04-8ec5-7abeca78489f",
        "colab": {
          "base_uri": "https://localhost:8080/",
          "height": 258
        }
      },
      "source": [
        "train.tail()"
      ],
      "execution_count": null,
      "outputs": [
        {
          "output_type": "execute_result",
          "data": {
            "text/html": [
              "<div>\n",
              "<style scoped>\n",
              "    .dataframe tbody tr th:only-of-type {\n",
              "        vertical-align: middle;\n",
              "    }\n",
              "\n",
              "    .dataframe tbody tr th {\n",
              "        vertical-align: top;\n",
              "    }\n",
              "\n",
              "    .dataframe thead th {\n",
              "        text-align: right;\n",
              "    }\n",
              "</style>\n",
              "<table border=\"1\" class=\"dataframe\">\n",
              "  <thead>\n",
              "    <tr style=\"text-align: right;\">\n",
              "      <th></th>\n",
              "      <th>POSTED_BY</th>\n",
              "      <th>UNDER_CONSTRUCTION</th>\n",
              "      <th>RERA</th>\n",
              "      <th>BHK_NO.</th>\n",
              "      <th>BHK_OR_RK</th>\n",
              "      <th>SQUARE_FT</th>\n",
              "      <th>READY_TO_MOVE</th>\n",
              "      <th>RESALE</th>\n",
              "      <th>ADDRESS</th>\n",
              "      <th>LONGITUDE</th>\n",
              "      <th>LATITUDE</th>\n",
              "      <th>TARGET(PRICE_IN_LACS)</th>\n",
              "      <th>COORDINATES</th>\n",
              "    </tr>\n",
              "  </thead>\n",
              "  <tbody>\n",
              "    <tr>\n",
              "      <th>29446</th>\n",
              "      <td>Owner</td>\n",
              "      <td>0</td>\n",
              "      <td>0</td>\n",
              "      <td>3</td>\n",
              "      <td>BHK</td>\n",
              "      <td>2500.000000</td>\n",
              "      <td>1</td>\n",
              "      <td>1</td>\n",
              "      <td>Shamshabad Road,Agra</td>\n",
              "      <td>27.140626</td>\n",
              "      <td>78.043277</td>\n",
              "      <td>45.0</td>\n",
              "      <td>27.140626,78.043277</td>\n",
              "    </tr>\n",
              "    <tr>\n",
              "      <th>29447</th>\n",
              "      <td>Owner</td>\n",
              "      <td>0</td>\n",
              "      <td>0</td>\n",
              "      <td>2</td>\n",
              "      <td>BHK</td>\n",
              "      <td>769.230769</td>\n",
              "      <td>1</td>\n",
              "      <td>1</td>\n",
              "      <td>E3-108, Lake View Recidency,,Vapi</td>\n",
              "      <td>39.945409</td>\n",
              "      <td>-86.150721</td>\n",
              "      <td>16.0</td>\n",
              "      <td>39.94540900000001,-86.15072099999998</td>\n",
              "    </tr>\n",
              "    <tr>\n",
              "      <th>29448</th>\n",
              "      <td>Dealer</td>\n",
              "      <td>0</td>\n",
              "      <td>0</td>\n",
              "      <td>2</td>\n",
              "      <td>BHK</td>\n",
              "      <td>1022.641509</td>\n",
              "      <td>1</td>\n",
              "      <td>1</td>\n",
              "      <td>Ajmer Road,Jaipur</td>\n",
              "      <td>26.928785</td>\n",
              "      <td>75.828002</td>\n",
              "      <td>27.1</td>\n",
              "      <td>26.928785,75.828002</td>\n",
              "    </tr>\n",
              "    <tr>\n",
              "      <th>29449</th>\n",
              "      <td>Owner</td>\n",
              "      <td>0</td>\n",
              "      <td>0</td>\n",
              "      <td>2</td>\n",
              "      <td>BHK</td>\n",
              "      <td>927.079009</td>\n",
              "      <td>1</td>\n",
              "      <td>1</td>\n",
              "      <td>Sholinganallur,Chennai</td>\n",
              "      <td>12.900150</td>\n",
              "      <td>80.227910</td>\n",
              "      <td>67.0</td>\n",
              "      <td>12.90015,80.22791</td>\n",
              "    </tr>\n",
              "    <tr>\n",
              "      <th>29450</th>\n",
              "      <td>Dealer</td>\n",
              "      <td>0</td>\n",
              "      <td>1</td>\n",
              "      <td>2</td>\n",
              "      <td>BHK</td>\n",
              "      <td>896.774194</td>\n",
              "      <td>1</td>\n",
              "      <td>1</td>\n",
              "      <td>Jagatpura,Jaipur</td>\n",
              "      <td>26.832353</td>\n",
              "      <td>75.841749</td>\n",
              "      <td>27.8</td>\n",
              "      <td>26.832353,75.841749</td>\n",
              "    </tr>\n",
              "  </tbody>\n",
              "</table>\n",
              "</div>"
            ],
            "text/plain": [
              "      POSTED_BY  ...                           COORDINATES\n",
              "29446     Owner  ...                   27.140626,78.043277\n",
              "29447     Owner  ...  39.94540900000001,-86.15072099999998\n",
              "29448    Dealer  ...                   26.928785,75.828002\n",
              "29449     Owner  ...                     12.90015,80.22791\n",
              "29450    Dealer  ...                   26.832353,75.841749\n",
              "\n",
              "[5 rows x 13 columns]"
            ]
          },
          "metadata": {
            "tags": []
          },
          "execution_count": 54
        }
      ]
    },
    {
      "cell_type": "code",
      "metadata": {
        "id": "IpcBa_ZkfrtW",
        "outputId": "77f7a012-a175-4e79-bc6d-b26dccd8f95f",
        "colab": {
          "base_uri": "https://localhost:8080/",
          "height": 163
        }
      },
      "source": [
        "test.head()"
      ],
      "execution_count": null,
      "outputs": [
        {
          "output_type": "error",
          "ename": "NameError",
          "evalue": "ignored",
          "traceback": [
            "\u001b[0;31m---------------------------------------------------------------------------\u001b[0m",
            "\u001b[0;31mNameError\u001b[0m                                 Traceback (most recent call last)",
            "\u001b[0;32m<ipython-input-3-ca7e793253ef>\u001b[0m in \u001b[0;36m<module>\u001b[0;34m()\u001b[0m\n\u001b[0;32m----> 1\u001b[0;31m \u001b[0mtest\u001b[0m\u001b[0;34m.\u001b[0m\u001b[0mhead\u001b[0m\u001b[0;34m(\u001b[0m\u001b[0;34m)\u001b[0m\u001b[0;34m\u001b[0m\u001b[0;34m\u001b[0m\u001b[0m\n\u001b[0m",
            "\u001b[0;31mNameError\u001b[0m: name 'test' is not defined"
          ]
        }
      ]
    },
    {
      "cell_type": "code",
      "metadata": {
        "id": "ChXxOooTYITN",
        "outputId": "6ba34662-f6dc-4a7a-e6cd-d5fa886cf029",
        "colab": {
          "base_uri": "https://localhost:8080/",
          "height": 34
        }
      },
      "source": [
        "train.POSTED_BY.unique()"
      ],
      "execution_count": null,
      "outputs": [
        {
          "output_type": "execute_result",
          "data": {
            "text/plain": [
              "array(['Owner', 'Dealer', 'Builder'], dtype=object)"
            ]
          },
          "metadata": {
            "tags": []
          },
          "execution_count": 14
        }
      ]
    },
    {
      "cell_type": "code",
      "metadata": {
        "id": "Rn2xkysiYN7S"
      },
      "source": [
        "import geopy\n",
        "from geopy.geocoders import Nominatim\n",
        "from geopy.extra.rate_limiter import RateLimiter\n",
        "import tqdm\n",
        "from tqdm.notebook import tqdm_notebook"
      ],
      "execution_count": null,
      "outputs": []
    },
    {
      "cell_type": "code",
      "metadata": {
        "id": "hvs6-sxOaWob",
        "outputId": "04d614e5-7160-4d99-800e-e1e05f735a8d",
        "colab": {
          "base_uri": "https://localhost:8080/",
          "height": 204
        }
      },
      "source": [
        "locator = Nominatim(user_agent=\"myGeocoder\")\n",
        "coordinates = \"12.969910,77.597960\"\n",
        "location = locator.reverse(coordinates)\n",
        "location.raw['address']"
      ],
      "execution_count": null,
      "outputs": [
        {
          "output_type": "execute_result",
          "data": {
            "text/plain": [
              "{'city': 'Bengaluru',\n",
              " 'city_district': 'East Zone',\n",
              " 'country': 'India',\n",
              " 'country_code': 'in',\n",
              " 'county': 'Bangalore North',\n",
              " 'neighbourhood': 'Shantala Nagar',\n",
              " 'postcode': '560001PH',\n",
              " 'road': '5th Cross Road',\n",
              " 'state': 'Karnataka',\n",
              " 'state_district': 'Bangalore Urban',\n",
              " 'suburb': 'Shantala Nagar'}"
            ]
          },
          "metadata": {
            "tags": []
          },
          "execution_count": 59
        }
      ]
    },
    {
      "cell_type": "code",
      "metadata": {
        "id": "i4Zreec-fYg7",
        "outputId": "4a786266-6441-45ae-e983-7f7fcb95622b",
        "colab": {
          "base_uri": "https://localhost:8080/",
          "height": 34
        }
      },
      "source": [
        "train.isnull().sum()[train.isnull().sum() > 0]"
      ],
      "execution_count": null,
      "outputs": [
        {
          "output_type": "execute_result",
          "data": {
            "text/plain": [
              "Series([], dtype: int64)"
            ]
          },
          "metadata": {
            "tags": []
          },
          "execution_count": 63
        }
      ]
    },
    {
      "cell_type": "code",
      "metadata": {
        "id": "qHcaQhLNfh_N",
        "outputId": "88c73f76-a064-4dd4-dfff-eea29677baed",
        "colab": {
          "base_uri": "https://localhost:8080/",
          "height": 34
        }
      },
      "source": [
        "test.isnull().sum()[test.isnull().sum() > 0]"
      ],
      "execution_count": null,
      "outputs": [
        {
          "output_type": "execute_result",
          "data": {
            "text/plain": [
              "Series([], dtype: int64)"
            ]
          },
          "metadata": {
            "tags": []
          },
          "execution_count": 64
        }
      ]
    },
    {
      "cell_type": "code",
      "metadata": {
        "id": "IHtlm5TAhCgE"
      },
      "source": [
        "locator = Nominatim(user_agent=\"myGeocoder\", timeout=10)\n",
        "rgeocode = RateLimiter(locator.reverse, min_delay_seconds=0.001)"
      ],
      "execution_count": null,
      "outputs": []
    },
    {
      "cell_type": "code",
      "metadata": {
        "id": "DdgFuheyhZ5v",
        "outputId": "8763cbd9-cae7-4d06-9b9a-3ed26f1af65c",
        "colab": {
          "base_uri": "https://localhost:8080/",
          "height": 34
        }
      },
      "source": [
        "coordinates = \"39.94540900000001,-86.15072099999998\"\n",
        "rgeocode(coordinates)"
      ],
      "execution_count": null,
      "outputs": [
        {
          "output_type": "execute_result",
          "data": {
            "text/plain": [
              "Location(None, (0.0, 0.0, 0.0))"
            ]
          },
          "metadata": {
            "tags": []
          },
          "execution_count": 66
        }
      ]
    },
    {
      "cell_type": "code",
      "metadata": {
        "id": "a7g_JHaGhISW"
      },
      "source": [
        "tqdm.pandas()\n",
        "train[\"ADDRESS\"] = df[‘geom’].progress_apply(rgeocode)\n",
        "df.head()"
      ],
      "execution_count": null,
      "outputs": []
    },
    {
      "cell_type": "code",
      "metadata": {
        "id": "kWWaG75JbjMw"
      },
      "source": [
        "def ret_state(coordinates):\n",
        "  location = locator.reverse(coordinates, timeout=50)\n",
        "\n",
        "  return location.raw['address']['country_code']\n"
      ],
      "execution_count": null,
      "outputs": []
    },
    {
      "cell_type": "code",
      "metadata": {
        "id": "RnDK-EaQdqRk",
        "outputId": "e83452b7-5b69-48b3-b1b8-e14381e805e4",
        "colab": {
          "base_uri": "https://localhost:8080/",
          "height": 340
        }
      },
      "source": [
        "train.info()"
      ],
      "execution_count": null,
      "outputs": [
        {
          "output_type": "stream",
          "text": [
            "<class 'pandas.core.frame.DataFrame'>\n",
            "RangeIndex: 29451 entries, 0 to 29450\n",
            "Data columns (total 12 columns):\n",
            " #   Column                 Non-Null Count  Dtype  \n",
            "---  ------                 --------------  -----  \n",
            " 0   POSTED_BY              29451 non-null  object \n",
            " 1   UNDER_CONSTRUCTION     29451 non-null  int64  \n",
            " 2   RERA                   29451 non-null  int64  \n",
            " 3   BHK_NO.                29451 non-null  int64  \n",
            " 4   BHK_OR_RK              29451 non-null  object \n",
            " 5   SQUARE_FT              29451 non-null  float64\n",
            " 6   READY_TO_MOVE          29451 non-null  int64  \n",
            " 7   RESALE                 29451 non-null  int64  \n",
            " 8   ADDRESS                29451 non-null  object \n",
            " 9   LONGITUDE              29451 non-null  float64\n",
            " 10  LATITUDE               29451 non-null  float64\n",
            " 11  TARGET(PRICE_IN_LACS)  29451 non-null  float64\n",
            "dtypes: float64(4), int64(5), object(3)\n",
            "memory usage: 2.7+ MB\n"
          ],
          "name": "stdout"
        }
      ]
    },
    {
      "cell_type": "code",
      "metadata": {
        "id": "DkX06H8XpewH"
      },
      "source": [
        "features = ['LONGITUDE','LATITUDE','TARGET(PRICE_IN_LACS)']\n"
      ],
      "execution_count": null,
      "outputs": []
    },
    {
      "cell_type": "code",
      "metadata": {
        "id": "MndoozBrq-az",
        "outputId": "59ab8afe-eb39-41ae-c5f2-38be8b577a79",
        "colab": {
          "base_uri": "https://localhost:8080/",
          "height": 351
        }
      },
      "source": [
        "import seaborn as sns\n",
        "sns.heatmap(train[features].corr(),annot=True,fmt=\".2f\")"
      ],
      "execution_count": null,
      "outputs": [
        {
          "output_type": "execute_result",
          "data": {
            "text/plain": [
              "<matplotlib.axes._subplots.AxesSubplot at 0x7f6ddc9c0668>"
            ]
          },
          "metadata": {
            "tags": []
          },
          "execution_count": 68
        },
        {
          "output_type": "display_data",
          "data": {
            "image/png": "[encoded data removed]",
            "text/plain": [
              "<Figure size 432x288 with 2 Axes>"
            ]
          },
          "metadata": {
            "tags": [],
            "needs_background": "light"
          }
        }
      ]
    },
    {
      "cell_type": "code",
      "metadata": {
        "id": "0Gx--8ZasCyy",
        "outputId": "2de227a3-b302-451d-e1a5-7e39a7fcd5e7",
        "colab": {
          "base_uri": "https://localhost:8080/",
          "height": 275
        }
      },
      "source": [
        "pip install plotly-express"
      ],
      "execution_count": null,
      "outputs": [
        {
          "output_type": "stream",
          "text": [
            "Collecting plotly-express\n",
            "  Downloading https://files.pythonhosted.org/packages/d4/d6/8a2906f51e073a4be80cab35cfa10e7a34853e60f3ed5304ac470852a08d/plotly_express-0.4.1-py2.py3-none-any.whl\n",
            "Requirement already satisfied: scipy>=0.18 in /usr/local/lib/python3.6/dist-packages (from plotly-express) (1.4.1)\n",
            "Requirement already satisfied: patsy>=0.5 in /usr/local/lib/python3.6/dist-packages (from plotly-express) (0.5.1)\n",
            "Requirement already satisfied: statsmodels>=0.9.0 in /usr/local/lib/python3.6/dist-packages (from plotly-express) (0.10.2)\n",
            "Requirement already satisfied: pandas>=0.20.0 in /usr/local/lib/python3.6/dist-packages (from plotly-express) (1.1.2)\n",
            "Requirement already satisfied: plotly>=4.1.0 in /usr/local/lib/python3.6/dist-packages (from plotly-express) (4.4.1)\n",
            "Requirement already satisfied: numpy>=1.11 in /usr/local/lib/python3.6/dist-packages (from plotly-express) (1.18.5)\n",
            "Requirement already satisfied: six in /usr/local/lib/python3.6/dist-packages (from patsy>=0.5->plotly-express) (1.15.0)\n",
            "Requirement already satisfied: pytz>=2017.2 in /usr/local/lib/python3.6/dist-packages (from pandas>=0.20.0->plotly-express) (2018.9)\n",
            "Requirement already satisfied: python-dateutil>=2.7.3 in /usr/local/lib/python3.6/dist-packages (from pandas>=0.20.0->plotly-express) (2.8.1)\n",
            "Requirement already satisfied: retrying>=1.3.3 in /usr/local/lib/python3.6/dist-packages (from plotly>=4.1.0->plotly-express) (1.3.3)\n",
            "Installing collected packages: plotly-express\n",
            "Successfully installed plotly-express-0.4.1\n"
          ],
          "name": "stdout"
        }
      ]
    },
    {
      "cell_type": "code",
      "metadata": {
        "id": "WypWLc6Dsh0u"
      },
      "source": [
        "%matplotlib inline"
      ],
      "execution_count": null,
      "outputs": []
    },
    {
      "cell_type": "code",
      "metadata": {
        "id": "lO6YZhp-rUh7",
        "outputId": "e674997c-5351-4a83-fa76-6e01e1da1992",
        "colab": {
          "base_uri": "https://localhost:8080/",
          "height": 34
        }
      },
      "source": [
        "import plotly_express as px\n",
        "px.scatter_mapbox(train, lat=\"LATITUDE\", lon=\"LONGITUDE\", zoom=15)\n",
        "plt.savefig(\"map.jpg\")"
      ],
      "execution_count": null,
      "outputs": [
        {
          "output_type": "display_data",
          "data": {
            "text/plain": [
              "<Figure size 432x288 with 0 Axes>"
            ]
          },
          "metadata": {
            "tags": []
          }
        }
      ]
    },
    {
      "cell_type": "code",
      "metadata": {
        "id": "x6L1qqz6rdfg",
        "outputId": "d897c420-e30e-4540-9898-e134c657ec9a",
        "colab": {
          "base_uri": "https://localhost:8080/",
          "height": 631
        }
      },
      "source": [
        "sns.set(style='darkgrid')\n",
        "plt.figure(figsize=(11,8))\n",
        "sns.heatmap(train.corr(),annot=True,fmt=\".2f\")"
      ],
      "execution_count": null,
      "outputs": [
        {
          "output_type": "execute_result",
          "data": {
            "text/plain": [
              "<matplotlib.axes._subplots.AxesSubplot at 0x7f6dd49196a0>"
            ]
          },
          "metadata": {
            "tags": []
          },
          "execution_count": 80
        },
        {
          "output_type": "display_data",
          "data": {
            "image/png": "[encoded data removed]",
            "text/plain": [
              "<Figure size 792x576 with 2 Axes>"
            ]
          },
          "metadata": {
            "tags": []
          }
        }
      ]
    },
    {
      "cell_type": "code",
      "metadata": {
        "id": "dUogM4bItvjP"
      },
      "source": [
        "cat_cols = [col for col in train.columns if train[col].dtypes == 'O']"
      ],
      "execution_count": 7,
      "outputs": []
    },
    {
      "cell_type": "code",
      "metadata": {
        "id": "1UL9LojouD6t",
        "outputId": "dd613c57-3df0-4912-a712-e958ae7e2d98",
        "colab": {
          "base_uri": "https://localhost:8080/",
          "height": 34
        }
      },
      "source": [
        "cat_cols"
      ],
      "execution_count": 8,
      "outputs": [
        {
          "output_type": "execute_result",
          "data": {
            "text/plain": [
              "['POSTED_BY', 'BHK_OR_RK', 'ADDRESS']"
            ]
          },
          "metadata": {
            "tags": []
          },
          "execution_count": 8
        }
      ]
    },
    {
      "cell_type": "code",
      "metadata": {
        "id": "OoGnrGsDuJy8",
        "outputId": "fdba63c4-1c88-42e1-a2c9-1153ffc9ae78",
        "colab": {
          "base_uri": "https://localhost:8080/",
          "height": 102
        }
      },
      "source": [
        "for cols in cat_cols:\n",
        "  print(train[cols].unique())"
      ],
      "execution_count": null,
      "outputs": [
        {
          "output_type": "stream",
          "text": [
            "['Owner' 'Dealer' 'Builder']\n",
            "['BHK' 'RK']\n",
            "['Ksfc Layout,Bangalore' 'Vishweshwara Nagar,Mysore' 'Jigani,Bangalore'\n",
            " ... 'west mambalam,Chennai' 'Gandhi Nagar,Gulbarga'\n",
            " 'E3-108, Lake View Recidency,,Vapi']\n"
          ],
          "name": "stdout"
        }
      ]
    },
    {
      "cell_type": "code",
      "metadata": {
        "id": "DZXFNa7q3pCW",
        "outputId": "4eb349cd-d51b-4f4b-daa2-d8bebd9004e5",
        "colab": {
          "base_uri": "https://localhost:8080/",
          "height": 306
        }
      },
      "source": [
        "train['BHK_NO.'].value_counts(normalize=True)"
      ],
      "execution_count": null,
      "outputs": [
        {
          "output_type": "execute_result",
          "data": {
            "text/plain": [
              "2     0.452412\n",
              "3     0.358086\n",
              "1     0.121354\n",
              "4     0.058504\n",
              "5     0.006451\n",
              "6     0.001766\n",
              "7     0.000374\n",
              "8     0.000340\n",
              "15    0.000136\n",
              "10    0.000136\n",
              "20    0.000136\n",
              "12    0.000102\n",
              "9     0.000102\n",
              "13    0.000034\n",
              "11    0.000034\n",
              "17    0.000034\n",
              "Name: BHK_NO., dtype: float64"
            ]
          },
          "metadata": {
            "tags": []
          },
          "execution_count": 108
        }
      ]
    },
    {
      "cell_type": "code",
      "metadata": {
        "id": "rB1jNp5t3WnO",
        "outputId": "6be1a72e-87dd-46ee-aa4f-c1ed9925317b",
        "colab": {
          "base_uri": "https://localhost:8080/",
          "height": 302
        }
      },
      "source": [
        "sns.lineplot(x='BHK_NO.',y='TARGET(PRICE_IN_LACS)',data=train)"
      ],
      "execution_count": null,
      "outputs": [
        {
          "output_type": "execute_result",
          "data": {
            "text/plain": [
              "<matplotlib.axes._subplots.AxesSubplot at 0x7f6c03025da0>"
            ]
          },
          "metadata": {
            "tags": []
          },
          "execution_count": 107
        },
        {
          "output_type": "display_data",
          "data": {
            "image/png": "[encoded data removed]",
            "text/plain": [
              "<Figure size 432x288 with 1 Axes>"
            ]
          },
          "metadata": {
            "tags": []
          }
        }
      ]
    },
    {
      "cell_type": "code",
      "metadata": {
        "id": "u780zxJc3NOy",
        "outputId": "bbec03a4-7c5f-40b6-c828-e9bd0aa50e64",
        "colab": {
          "base_uri": "https://localhost:8080/",
          "height": 302
        }
      },
      "source": [
        "sns.lineplot(x='RERA',y='TARGET(PRICE_IN_LACS)',data=train)"
      ],
      "execution_count": null,
      "outputs": [
        {
          "output_type": "execute_result",
          "data": {
            "text/plain": [
              "<matplotlib.axes._subplots.AxesSubplot at 0x7f6bd3e014e0>"
            ]
          },
          "metadata": {
            "tags": []
          },
          "execution_count": 104
        },
        {
          "output_type": "display_data",
          "data": {
            "image/png": "[encoded data removed]",
            "text/plain": [
              "<Figure size 432x288 with 1 Axes>"
            ]
          },
          "metadata": {
            "tags": []
          }
        }
      ]
    },
    {
      "cell_type": "code",
      "metadata": {
        "id": "ABJOIE4mw_6n",
        "outputId": "90df0c1c-c569-47d8-b02d-11feb9e34a0e",
        "colab": {
          "base_uri": "https://localhost:8080/",
          "height": 302
        }
      },
      "source": [
        "sns.lineplot(x='BHK_OR_RK',y='TARGET(PRICE_IN_LACS)',data=train)"
      ],
      "execution_count": null,
      "outputs": [
        {
          "output_type": "execute_result",
          "data": {
            "text/plain": [
              "<matplotlib.axes._subplots.AxesSubplot at 0x7f6dd434d518>"
            ]
          },
          "metadata": {
            "tags": []
          },
          "execution_count": 93
        },
        {
          "output_type": "display_data",
          "data": {
            "image/png": "[encoded data removed]",
            "text/plain": [
              "<Figure size 432x288 with 1 Axes>"
            ]
          },
          "metadata": {
            "tags": []
          }
        }
      ]
    },
    {
      "cell_type": "code",
      "metadata": {
        "id": "kYgZTGlzwYQn",
        "outputId": "37cd05c2-d906-4046-fef9-557f413ba833",
        "colab": {
          "base_uri": "https://localhost:8080/",
          "height": 302
        }
      },
      "source": [
        "sns.lineplot(x='BHK_OR_RK',y='TARGET(PRICE_IN_LACS)',data=train[train['BHK_OR_RK']=='RK'])"
      ],
      "execution_count": null,
      "outputs": [
        {
          "output_type": "execute_result",
          "data": {
            "text/plain": [
              "<matplotlib.axes._subplots.AxesSubplot at 0x7f6dd42dd2b0>"
            ]
          },
          "metadata": {
            "tags": []
          },
          "execution_count": 91
        },
        {
          "output_type": "display_data",
          "data": {
            "image/png": "[encoded data removed]",
            "text/plain": [
              "<Figure size 432x288 with 1 Axes>"
            ]
          },
          "metadata": {
            "tags": []
          }
        }
      ]
    },
    {
      "cell_type": "code",
      "metadata": {
        "id": "B-Cf-UDzw4tF",
        "outputId": "7aa9cdc4-ad15-418c-f983-fa8233704713",
        "colab": {
          "base_uri": "https://localhost:8080/",
          "height": 302
        }
      },
      "source": [
        "sns.lineplot(x='BHK_OR_RK',y='TARGET(PRICE_IN_LACS)',data=train[train['BHK_OR_RK']=='BHK'])"
      ],
      "execution_count": null,
      "outputs": [
        {
          "output_type": "execute_result",
          "data": {
            "text/plain": [
              "<matplotlib.axes._subplots.AxesSubplot at 0x7f6dd42c4cc0>"
            ]
          },
          "metadata": {
            "tags": []
          },
          "execution_count": 92
        },
        {
          "output_type": "display_data",
          "data": {
            "image/png": "[encoded data removed]",
            "text/plain": [
              "<Figure size 432x288 with 1 Axes>"
            ]
          },
          "metadata": {
            "tags": []
          }
        }
      ]
    },
    {
      "cell_type": "code",
      "metadata": {
        "id": "xXSKhkTqcYYS",
        "outputId": "e0d39508-8b90-4856-d859-057c82d9883b",
        "colab": {
          "base_uri": "https://localhost:8080/",
          "height": 191
        }
      },
      "source": [
        "pd.crosstab(train['BHK_OR_RK'],train['TARGET(PRICE_IN_LACS)'])"
      ],
      "execution_count": 9,
      "outputs": [
        {
          "output_type": "execute_result",
          "data": {
            "text/html": [
              "<div>\n",
              "<style scoped>\n",
              "    .dataframe tbody tr th:only-of-type {\n",
              "        vertical-align: middle;\n",
              "    }\n",
              "\n",
              "    .dataframe tbody tr th {\n",
              "        vertical-align: top;\n",
              "    }\n",
              "\n",
              "    .dataframe thead th {\n",
              "        text-align: right;\n",
              "    }\n",
              "</style>\n",
              "<table border=\"1\" class=\"dataframe\">\n",
              "  <thead>\n",
              "    <tr style=\"text-align: right;\">\n",
              "      <th>TARGET(PRICE_IN_LACS)</th>\n",
              "      <th>0.25</th>\n",
              "      <th>0.29</th>\n",
              "      <th>0.48</th>\n",
              "      <th>0.85</th>\n",
              "      <th>1.00</th>\n",
              "      <th>1.30</th>\n",
              "      <th>1.50</th>\n",
              "      <th>2.00</th>\n",
              "      <th>3.40</th>\n",
              "      <th>3.50</th>\n",
              "      <th>3.90</th>\n",
              "      <th>4.00</th>\n",
              "      <th>4.50</th>\n",
              "      <th>4.90</th>\n",
              "      <th>5.00</th>\n",
              "      <th>5.20</th>\n",
              "      <th>5.50</th>\n",
              "      <th>5.70</th>\n",
              "      <th>6.00</th>\n",
              "      <th>6.50</th>\n",
              "      <th>7.00</th>\n",
              "      <th>7.10</th>\n",
              "      <th>7.20</th>\n",
              "      <th>7.30</th>\n",
              "      <th>7.40</th>\n",
              "      <th>7.50</th>\n",
              "      <th>7.60</th>\n",
              "      <th>7.80</th>\n",
              "      <th>7.90</th>\n",
              "      <th>8.00</th>\n",
              "      <th>8.10</th>\n",
              "      <th>8.20</th>\n",
              "      <th>8.50</th>\n",
              "      <th>8.60</th>\n",
              "      <th>8.70</th>\n",
              "      <th>9.00</th>\n",
              "      <th>9.10</th>\n",
              "      <th>9.30</th>\n",
              "      <th>9.50</th>\n",
              "      <th>9.60</th>\n",
              "      <th>...</th>\n",
              "      <th>8920.00</th>\n",
              "      <th>9000.00</th>\n",
              "      <th>9010.00</th>\n",
              "      <th>9020.00</th>\n",
              "      <th>9110.00</th>\n",
              "      <th>9150.00</th>\n",
              "      <th>9160.00</th>\n",
              "      <th>9200.00</th>\n",
              "      <th>9240.00</th>\n",
              "      <th>9320.00</th>\n",
              "      <th>9370.00</th>\n",
              "      <th>9390.00</th>\n",
              "      <th>9400.00</th>\n",
              "      <th>9430.00</th>\n",
              "      <th>9440.00</th>\n",
              "      <th>9450.00</th>\n",
              "      <th>9460.00</th>\n",
              "      <th>9480.00</th>\n",
              "      <th>9500.00</th>\n",
              "      <th>9523.00</th>\n",
              "      <th>9530.00</th>\n",
              "      <th>9540.00</th>\n",
              "      <th>9560.00</th>\n",
              "      <th>9580.00</th>\n",
              "      <th>9590.00</th>\n",
              "      <th>9600.00</th>\n",
              "      <th>9620.00</th>\n",
              "      <th>9630.00</th>\n",
              "      <th>9640.00</th>\n",
              "      <th>9700.00</th>\n",
              "      <th>9760.00</th>\n",
              "      <th>9790.00</th>\n",
              "      <th>9800.00</th>\n",
              "      <th>9850.00</th>\n",
              "      <th>9900.00</th>\n",
              "      <th>9910.00</th>\n",
              "      <th>9990.00</th>\n",
              "      <th>25000.00</th>\n",
              "      <th>28000.00</th>\n",
              "      <th>30000.00</th>\n",
              "    </tr>\n",
              "    <tr>\n",
              "      <th>BHK_OR_RK</th>\n",
              "      <th></th>\n",
              "      <th></th>\n",
              "      <th></th>\n",
              "      <th></th>\n",
              "      <th></th>\n",
              "      <th></th>\n",
              "      <th></th>\n",
              "      <th></th>\n",
              "      <th></th>\n",
              "      <th></th>\n",
              "      <th></th>\n",
              "      <th></th>\n",
              "      <th></th>\n",
              "      <th></th>\n",
              "      <th></th>\n",
              "      <th></th>\n",
              "      <th></th>\n",
              "      <th></th>\n",
              "      <th></th>\n",
              "      <th></th>\n",
              "      <th></th>\n",
              "      <th></th>\n",
              "      <th></th>\n",
              "      <th></th>\n",
              "      <th></th>\n",
              "      <th></th>\n",
              "      <th></th>\n",
              "      <th></th>\n",
              "      <th></th>\n",
              "      <th></th>\n",
              "      <th></th>\n",
              "      <th></th>\n",
              "      <th></th>\n",
              "      <th></th>\n",
              "      <th></th>\n",
              "      <th></th>\n",
              "      <th></th>\n",
              "      <th></th>\n",
              "      <th></th>\n",
              "      <th></th>\n",
              "      <th></th>\n",
              "      <th></th>\n",
              "      <th></th>\n",
              "      <th></th>\n",
              "      <th></th>\n",
              "      <th></th>\n",
              "      <th></th>\n",
              "      <th></th>\n",
              "      <th></th>\n",
              "      <th></th>\n",
              "      <th></th>\n",
              "      <th></th>\n",
              "      <th></th>\n",
              "      <th></th>\n",
              "      <th></th>\n",
              "      <th></th>\n",
              "      <th></th>\n",
              "      <th></th>\n",
              "      <th></th>\n",
              "      <th></th>\n",
              "      <th></th>\n",
              "      <th></th>\n",
              "      <th></th>\n",
              "      <th></th>\n",
              "      <th></th>\n",
              "      <th></th>\n",
              "      <th></th>\n",
              "      <th></th>\n",
              "      <th></th>\n",
              "      <th></th>\n",
              "      <th></th>\n",
              "      <th></th>\n",
              "      <th></th>\n",
              "      <th></th>\n",
              "      <th></th>\n",
              "      <th></th>\n",
              "      <th></th>\n",
              "      <th></th>\n",
              "      <th></th>\n",
              "      <th></th>\n",
              "      <th></th>\n",
              "    </tr>\n",
              "  </thead>\n",
              "  <tbody>\n",
              "    <tr>\n",
              "      <th>BHK</th>\n",
              "      <td>1</td>\n",
              "      <td>1</td>\n",
              "      <td>1</td>\n",
              "      <td>1</td>\n",
              "      <td>1</td>\n",
              "      <td>1</td>\n",
              "      <td>1</td>\n",
              "      <td>2</td>\n",
              "      <td>1</td>\n",
              "      <td>2</td>\n",
              "      <td>1</td>\n",
              "      <td>3</td>\n",
              "      <td>3</td>\n",
              "      <td>3</td>\n",
              "      <td>6</td>\n",
              "      <td>1</td>\n",
              "      <td>1</td>\n",
              "      <td>1</td>\n",
              "      <td>4</td>\n",
              "      <td>5</td>\n",
              "      <td>6</td>\n",
              "      <td>1</td>\n",
              "      <td>3</td>\n",
              "      <td>1</td>\n",
              "      <td>1</td>\n",
              "      <td>9</td>\n",
              "      <td>1</td>\n",
              "      <td>2</td>\n",
              "      <td>4</td>\n",
              "      <td>17</td>\n",
              "      <td>1</td>\n",
              "      <td>2</td>\n",
              "      <td>13</td>\n",
              "      <td>1</td>\n",
              "      <td>4</td>\n",
              "      <td>17</td>\n",
              "      <td>1</td>\n",
              "      <td>2</td>\n",
              "      <td>9</td>\n",
              "      <td>1</td>\n",
              "      <td>...</td>\n",
              "      <td>1</td>\n",
              "      <td>3</td>\n",
              "      <td>2</td>\n",
              "      <td>2</td>\n",
              "      <td>1</td>\n",
              "      <td>4</td>\n",
              "      <td>1</td>\n",
              "      <td>8</td>\n",
              "      <td>1</td>\n",
              "      <td>1</td>\n",
              "      <td>1</td>\n",
              "      <td>1</td>\n",
              "      <td>1</td>\n",
              "      <td>1</td>\n",
              "      <td>1</td>\n",
              "      <td>2</td>\n",
              "      <td>1</td>\n",
              "      <td>1</td>\n",
              "      <td>2</td>\n",
              "      <td>1</td>\n",
              "      <td>1</td>\n",
              "      <td>2</td>\n",
              "      <td>1</td>\n",
              "      <td>1</td>\n",
              "      <td>1</td>\n",
              "      <td>3</td>\n",
              "      <td>2</td>\n",
              "      <td>3</td>\n",
              "      <td>1</td>\n",
              "      <td>3</td>\n",
              "      <td>2</td>\n",
              "      <td>1</td>\n",
              "      <td>1</td>\n",
              "      <td>1</td>\n",
              "      <td>1</td>\n",
              "      <td>1</td>\n",
              "      <td>1</td>\n",
              "      <td>1</td>\n",
              "      <td>1</td>\n",
              "      <td>1</td>\n",
              "    </tr>\n",
              "    <tr>\n",
              "      <th>RK</th>\n",
              "      <td>0</td>\n",
              "      <td>0</td>\n",
              "      <td>0</td>\n",
              "      <td>0</td>\n",
              "      <td>0</td>\n",
              "      <td>0</td>\n",
              "      <td>0</td>\n",
              "      <td>0</td>\n",
              "      <td>0</td>\n",
              "      <td>0</td>\n",
              "      <td>0</td>\n",
              "      <td>0</td>\n",
              "      <td>0</td>\n",
              "      <td>0</td>\n",
              "      <td>0</td>\n",
              "      <td>0</td>\n",
              "      <td>0</td>\n",
              "      <td>0</td>\n",
              "      <td>0</td>\n",
              "      <td>0</td>\n",
              "      <td>0</td>\n",
              "      <td>0</td>\n",
              "      <td>0</td>\n",
              "      <td>0</td>\n",
              "      <td>0</td>\n",
              "      <td>0</td>\n",
              "      <td>0</td>\n",
              "      <td>0</td>\n",
              "      <td>0</td>\n",
              "      <td>0</td>\n",
              "      <td>0</td>\n",
              "      <td>0</td>\n",
              "      <td>0</td>\n",
              "      <td>0</td>\n",
              "      <td>0</td>\n",
              "      <td>0</td>\n",
              "      <td>0</td>\n",
              "      <td>0</td>\n",
              "      <td>0</td>\n",
              "      <td>0</td>\n",
              "      <td>...</td>\n",
              "      <td>0</td>\n",
              "      <td>0</td>\n",
              "      <td>0</td>\n",
              "      <td>0</td>\n",
              "      <td>0</td>\n",
              "      <td>0</td>\n",
              "      <td>0</td>\n",
              "      <td>0</td>\n",
              "      <td>0</td>\n",
              "      <td>0</td>\n",
              "      <td>0</td>\n",
              "      <td>0</td>\n",
              "      <td>0</td>\n",
              "      <td>0</td>\n",
              "      <td>0</td>\n",
              "      <td>0</td>\n",
              "      <td>0</td>\n",
              "      <td>0</td>\n",
              "      <td>0</td>\n",
              "      <td>0</td>\n",
              "      <td>0</td>\n",
              "      <td>0</td>\n",
              "      <td>0</td>\n",
              "      <td>0</td>\n",
              "      <td>0</td>\n",
              "      <td>0</td>\n",
              "      <td>0</td>\n",
              "      <td>0</td>\n",
              "      <td>0</td>\n",
              "      <td>0</td>\n",
              "      <td>0</td>\n",
              "      <td>0</td>\n",
              "      <td>0</td>\n",
              "      <td>0</td>\n",
              "      <td>0</td>\n",
              "      <td>0</td>\n",
              "      <td>0</td>\n",
              "      <td>0</td>\n",
              "      <td>0</td>\n",
              "      <td>0</td>\n",
              "    </tr>\n",
              "  </tbody>\n",
              "</table>\n",
              "<p>2 rows × 1172 columns</p>\n",
              "</div>"
            ],
            "text/plain": [
              "TARGET(PRICE_IN_LACS)  0.25      0.29      ...  28000.00  30000.00\n",
              "BHK_OR_RK                                  ...                    \n",
              "BHK                           1         1  ...         1         1\n",
              "RK                            0         0  ...         0         0\n",
              "\n",
              "[2 rows x 1172 columns]"
            ]
          },
          "metadata": {
            "tags": []
          },
          "execution_count": 9
        }
      ]
    },
    {
      "cell_type": "code",
      "metadata": {
        "id": "PxlxszhOyU4j"
      },
      "source": [
        "pd.pivot_table(train,'TARGET(PRICE_IN_LACS)', index=['RERA', 'SQUR_FT'],\n",
        "                     columns=['BHK_OR_RK'])"
      ],
      "execution_count": null,
      "outputs": []
    },
    {
      "cell_type": "code",
      "metadata": {
        "id": "8ybg5WQJvUkb"
      },
      "source": [
        "owner_enc = pd.get_dummies(train['POSTED_BY'])"
      ],
      "execution_count": 10,
      "outputs": []
    },
    {
      "cell_type": "code",
      "metadata": {
        "id": "bXRcHBxt1X2O"
      },
      "source": [
        "bhk_enc = pd.get_dummies(train['BHK_OR_RK'])"
      ],
      "execution_count": 11,
      "outputs": []
    },
    {
      "cell_type": "code",
      "metadata": {
        "id": "W5jkcyHLwQIP"
      },
      "source": [
        "train = pd.concat([train,owner_enc,bhk_enc],axis=1)"
      ],
      "execution_count": 12,
      "outputs": []
    },
    {
      "cell_type": "code",
      "metadata": {
        "id": "UMamCNRGxggR",
        "outputId": "7ef6eec1-6c0e-4407-bc31-18580f70d3d5",
        "colab": {
          "base_uri": "https://localhost:8080/",
          "height": 631
        }
      },
      "source": [
        "plt.figure(figsize=(11,8))\n",
        "sns.heatmap(train.corr(),annot=True,fmt=\".2f\")"
      ],
      "execution_count": null,
      "outputs": [
        {
          "output_type": "execute_result",
          "data": {
            "text/plain": [
              "<matplotlib.axes._subplots.AxesSubplot at 0x7f6bd40fbc88>"
            ]
          },
          "metadata": {
            "tags": []
          },
          "execution_count": 101
        },
        {
          "output_type": "display_data",
          "data": {
            "image/png": "[encoded data removed]",
            "text/plain": [
              "<Figure size 792x576 with 2 Axes>"
            ]
          },
          "metadata": {
            "tags": []
          }
        }
      ]
    },
    {
      "cell_type": "code",
      "metadata": {
        "id": "aFSbo5Sp2F9j"
      },
      "source": [
        "train_new = train.drop(cat_cols,axis=1)"
      ],
      "execution_count": 13,
      "outputs": []
    },
    {
      "cell_type": "code",
      "metadata": {
        "id": "XGfo2Yu52MB2",
        "outputId": "93691b5a-0f32-4a6d-c53d-60aa1ad9cb50",
        "colab": {
          "base_uri": "https://localhost:8080/",
          "height": 391
        }
      },
      "source": [
        "sns.distplot(train_new['TARGET(PRICE_IN_LACS)'])"
      ],
      "execution_count": null,
      "outputs": [
        {
          "output_type": "stream",
          "text": [
            "/usr/local/lib/python3.6/dist-packages/seaborn/distributions.py:2551: FutureWarning:\n",
            "\n",
            "`distplot` is a deprecated function and will be removed in a future version. Please adapt your code to use either `displot` (a figure-level function with similar flexibility) or `histplot` (an axes-level function for histograms).\n",
            "\n"
          ],
          "name": "stderr"
        },
        {
          "output_type": "execute_result",
          "data": {
            "text/plain": [
              "<matplotlib.axes._subplots.AxesSubplot at 0x7f6bd3eb2c88>"
            ]
          },
          "metadata": {
            "tags": []
          },
          "execution_count": 103
        },
        {
          "output_type": "display_data",
          "data": {
            "image/png": "[encoded data removed]",
            "text/plain": [
              "<Figure size 432x288 with 1 Axes>"
            ]
          },
          "metadata": {
            "tags": []
          }
        }
      ]
    },
    {
      "cell_type": "code",
      "metadata": {
        "id": "BMRO-lAt4IVh",
        "outputId": "a5dbb815-00e0-4bfb-ff31-66713ffc83f5",
        "colab": {
          "base_uri": "https://localhost:8080/",
          "height": 374
        }
      },
      "source": [
        "train_new.info()"
      ],
      "execution_count": null,
      "outputs": [
        {
          "output_type": "stream",
          "text": [
            "<class 'pandas.core.frame.DataFrame'>\n",
            "RangeIndex: 29451 entries, 0 to 29450\n",
            "Data columns (total 14 columns):\n",
            " #   Column                 Non-Null Count  Dtype  \n",
            "---  ------                 --------------  -----  \n",
            " 0   UNDER_CONSTRUCTION     29451 non-null  int64  \n",
            " 1   RERA                   29451 non-null  int64  \n",
            " 2   BHK_NO.                29451 non-null  int64  \n",
            " 3   SQUARE_FT              29451 non-null  float64\n",
            " 4   READY_TO_MOVE          29451 non-null  int64  \n",
            " 5   RESALE                 29451 non-null  int64  \n",
            " 6   LONGITUDE              29451 non-null  float64\n",
            " 7   LATITUDE               29451 non-null  float64\n",
            " 8   TARGET(PRICE_IN_LACS)  29451 non-null  float64\n",
            " 9   Builder                29451 non-null  uint8  \n",
            " 10  Dealer                 29451 non-null  uint8  \n",
            " 11  Owner                  29451 non-null  uint8  \n",
            " 12  BHK                    29451 non-null  uint8  \n",
            " 13  RK                     29451 non-null  uint8  \n",
            "dtypes: float64(4), int64(5), uint8(5)\n",
            "memory usage: 2.2 MB\n"
          ],
          "name": "stdout"
        }
      ]
    },
    {
      "cell_type": "code",
      "metadata": {
        "id": "KryEqT4m4KPA"
      },
      "source": [
        "features = train_new.drop('TARGET(PRICE_IN_LACS)',axis=1).columns"
      ],
      "execution_count": 14,
      "outputs": []
    },
    {
      "cell_type": "code",
      "metadata": {
        "id": "lSmHT4974VDd"
      },
      "source": [
        "target = 'TARGET(PRICE_IN_LACS)'"
      ],
      "execution_count": 15,
      "outputs": []
    },
    {
      "cell_type": "code",
      "metadata": {
        "id": "yCk4YHk_4gfC"
      },
      "source": [
        "#defining metric\n",
        "\n",
        "def RMSE(y_true, y_pred):\n",
        "    return np.sqrt(mean_squared_error(y_true, y_pred))\n",
        "\n",
        "rmse = make_scorer(RMSE, greater_is_better=False)"
      ],
      "execution_count": 16,
      "outputs": []
    },
    {
      "cell_type": "code",
      "metadata": {
        "id": "IeiT8fQicxBn"
      },
      "source": [
        "X = train[features]\n",
        "Y = train[target]"
      ],
      "execution_count": 66,
      "outputs": []
    },
    {
      "cell_type": "markdown",
      "metadata": {
        "id": "OTz2xA_94kxF"
      },
      "source": [
        "#Hyperparameter tuning of extratrees Regressor using Bayesian optimization"
      ]
    },
    {
      "cell_type": "code",
      "metadata": {
        "id": "NH2klp5r4lWB"
      },
      "source": [
        "def etc_cv(n_estimators, min_samples_split, max_features, data, targets):\n",
        "    estimator = ExtraTreesRegressor(\n",
        "        n_estimators=n_estimators,\n",
        "        min_samples_split=min_samples_split,\n",
        "        max_features=max_features,\n",
        "        random_state=2,\n",
        "        n_jobs = -1\n",
        "    )\n",
        "    cval = cross_val_score(estimator, data, targets,\n",
        "                           scoring=rmse, cv=5)\n",
        "    return cval.mean()"
      ],
      "execution_count": null,
      "outputs": []
    },
    {
      "cell_type": "code",
      "metadata": {
        "id": "9LIWpDY-4tPU"
      },
      "source": [
        "def optimize_etc(data, targets):\n",
        "    def etc_crossval(n_estimators, min_samples_split, max_features):\n",
        "        return etc_cv(\n",
        "            n_estimators=int(n_estimators),\n",
        "            min_samples_split=int(min_samples_split),\n",
        "            max_features=max(min(max_features, 0.999), 1e-3),\n",
        "            data=data,\n",
        "            targets=targets,\n",
        "        )\n",
        "\n",
        "    optimizer = BayesianOptimization(\n",
        "        f=etc_crossval,\n",
        "        pbounds={\n",
        "            \"n_estimators\": (100, 400),\n",
        "            \"min_samples_split\": (2, 25),\n",
        "            \"max_features\": (0.1, 0.999),\n",
        "        },\n",
        "        random_state=1234,\n",
        "        verbose=2\n",
        "    )\n",
        "    optimizer.maximize(n_iter=15, init_points=10)\n",
        "\n",
        "    print(\"Final result:\", optimizer.max)"
      ],
      "execution_count": null,
      "outputs": []
    },
    {
      "cell_type": "code",
      "metadata": {
        "id": "-20P4c2j41KD",
        "outputId": "552d3e65-38d2-4216-d033-f0d6ea8900b1",
        "colab": {
          "base_uri": "https://localhost:8080/",
          "height": 547
        }
      },
      "source": [
        "\n",
        "print(Colours.yellow(\"--- Optimizing Extra Trees ---\"))\n",
        "optimize_etc(X, Y)"
      ],
      "execution_count": null,
      "outputs": [
        {
          "output_type": "stream",
          "text": [
            "\u001b[93m--- Optimizing Extra Trees ---\u001b[0m\n",
            "|   iter    |  target   | max_fe... | min_sa... | n_esti... |\n",
            "-------------------------------------------------------------\n",
            "| \u001b[0m 1       \u001b[0m | \u001b[0m-206.6   \u001b[0m | \u001b[0m 0.2722  \u001b[0m | \u001b[0m 16.31   \u001b[0m | \u001b[0m 231.3   \u001b[0m |\n",
            "| \u001b[95m 2       \u001b[0m | \u001b[95m-159.7   \u001b[0m | \u001b[95m 0.806   \u001b[0m | \u001b[95m 19.94   \u001b[0m | \u001b[95m 181.8   \u001b[0m |\n",
            "| \u001b[0m 3       \u001b[0m | \u001b[0m-199.7   \u001b[0m | \u001b[0m 0.3485  \u001b[0m | \u001b[0m 20.44   \u001b[0m | \u001b[0m 387.4   \u001b[0m |\n",
            "| \u001b[95m 4       \u001b[0m | \u001b[95m-151.3   \u001b[0m | \u001b[95m 0.8875  \u001b[0m | \u001b[95m 10.23   \u001b[0m | \u001b[95m 250.3   \u001b[0m |\n",
            "| \u001b[0m 5       \u001b[0m | \u001b[0m-166.4   \u001b[0m | \u001b[0m 0.7144  \u001b[0m | \u001b[0m 18.39   \u001b[0m | \u001b[0m 211.1   \u001b[0m |\n",
            "| \u001b[0m 6       \u001b[0m | \u001b[0m-166.9   \u001b[0m | \u001b[0m 0.6045  \u001b[0m | \u001b[0m 13.57   \u001b[0m | \u001b[0m 104.1   \u001b[0m |\n",
            "| \u001b[0m 7       \u001b[0m | \u001b[0m-160.4   \u001b[0m | \u001b[0m 0.7948  \u001b[0m | \u001b[0m 22.3    \u001b[0m | \u001b[0m 209.5   \u001b[0m |\n",
            "| \u001b[0m 8       \u001b[0m | \u001b[0m-162.1   \u001b[0m | \u001b[0m 0.6532  \u001b[0m | \u001b[0m 3.734   \u001b[0m | \u001b[0m 210.6   \u001b[0m |\n",
            "| \u001b[0m 9       \u001b[0m | \u001b[0m-153.2   \u001b[0m | \u001b[0m 0.9389  \u001b[0m | \u001b[0m 16.98   \u001b[0m | \u001b[0m 219.2   \u001b[0m |\n",
            "| \u001b[0m 10      \u001b[0m | \u001b[0m-156.0   \u001b[0m | \u001b[0m 0.8091  \u001b[0m | \u001b[0m 9.287   \u001b[0m | \u001b[0m 270.4   \u001b[0m |\n",
            "| \u001b[95m 11      \u001b[0m | \u001b[95m-151.2   \u001b[0m | \u001b[95m 0.8912  \u001b[0m | \u001b[95m 9.964   \u001b[0m | \u001b[95m 250.2   \u001b[0m |\n",
            "| \u001b[95m 12      \u001b[0m | \u001b[95m-150.4   \u001b[0m | \u001b[95m 0.9361  \u001b[0m | \u001b[95m 9.949   \u001b[0m | \u001b[95m 250.5   \u001b[0m |\n",
            "| \u001b[0m 13      \u001b[0m | \u001b[0m-173.3   \u001b[0m | \u001b[0m 0.4865  \u001b[0m | \u001b[0m 9.667   \u001b[0m | \u001b[0m 250.8   \u001b[0m |\n",
            "| \u001b[0m 14      \u001b[0m | \u001b[0m-157.4   \u001b[0m | \u001b[0m 0.8968  \u001b[0m | \u001b[0m 19.69   \u001b[0m | \u001b[0m 181.9   \u001b[0m |\n",
            "| \u001b[0m 15      \u001b[0m | \u001b[0m-169.5   \u001b[0m | \u001b[0m 0.6201  \u001b[0m | \u001b[0m 9.345   \u001b[0m | \u001b[0m 270.5   \u001b[0m |\n",
            "| \u001b[0m 16      \u001b[0m | \u001b[0m-168.8   \u001b[0m | \u001b[0m 0.6566  \u001b[0m | \u001b[0m 9.815   \u001b[0m | \u001b[0m 250.4   \u001b[0m |\n",
            "| \u001b[0m 17      \u001b[0m | \u001b[0m-156.9   \u001b[0m | \u001b[0m 0.7674  \u001b[0m | \u001b[0m 5.795   \u001b[0m | \u001b[0m 336.3   \u001b[0m |\n",
            "| \u001b[0m 18      \u001b[0m | \u001b[0m-238.2   \u001b[0m | \u001b[0m 0.1433  \u001b[0m | \u001b[0m 17.69   \u001b[0m | \u001b[0m 389.4   \u001b[0m |\n",
            "| \u001b[0m 19      \u001b[0m | \u001b[0m-164.1   \u001b[0m | \u001b[0m 0.6625  \u001b[0m | \u001b[0m 7.271   \u001b[0m | \u001b[0m 301.2   \u001b[0m |\n",
            "| \u001b[0m 20      \u001b[0m | \u001b[0m-178.0   \u001b[0m | \u001b[0m 0.4881  \u001b[0m | \u001b[0m 15.32   \u001b[0m | \u001b[0m 295.2   \u001b[0m |\n",
            "| \u001b[0m 21      \u001b[0m | \u001b[0m-153.0   \u001b[0m | \u001b[0m 0.7955  \u001b[0m | \u001b[0m 5.593   \u001b[0m | \u001b[0m 336.4   \u001b[0m |\n",
            "| \u001b[0m 22      \u001b[0m | \u001b[0m-164.1   \u001b[0m | \u001b[0m 0.6877  \u001b[0m | \u001b[0m 7.364   \u001b[0m | \u001b[0m 301.5   \u001b[0m |\n",
            "| \u001b[0m 23      \u001b[0m | \u001b[0m-151.0   \u001b[0m | \u001b[0m 0.9929  \u001b[0m | \u001b[0m 9.275   \u001b[0m | \u001b[0m 270.6   \u001b[0m |\n",
            "| \u001b[0m 24      \u001b[0m | \u001b[0m-151.0   \u001b[0m | \u001b[0m 0.9339  \u001b[0m | \u001b[0m 9.319   \u001b[0m | \u001b[0m 270.6   \u001b[0m |\n",
            "| \u001b[0m 25      \u001b[0m | \u001b[0m-179.4   \u001b[0m | \u001b[0m 0.5297  \u001b[0m | \u001b[0m 16.4    \u001b[0m | \u001b[0m 184.6   \u001b[0m |\n",
            "=============================================================\n",
            "Final result: {'target': -150.37171582591068, 'params': {'max_features': 0.9361287564089558, 'min_samples_split': 9.94925097176899, 'n_estimators': 250.4962645661292}}\n"
          ],
          "name": "stdout"
        }
      ]
    },
    {
      "cell_type": "code",
      "metadata": {
        "id": "2pn0j7aP9j9j"
      },
      "source": [
        "etc = ExtraTreesRegressor(n_estimators=int(250.4962645661292),\n",
        "                         min_samples_split=int(9.94925097176899),\n",
        "                         max_features=0.9361287564089558,\n",
        "                         n_jobs = -1,\n",
        "                         random_state = 42)"
      ],
      "execution_count": 18,
      "outputs": []
    },
    {
      "cell_type": "markdown",
      "metadata": {
        "id": "6DavmyD_5_-u"
      },
      "source": [
        "#Hyperparameter tuning of RandomForest Regressor using Bayesian optimization"
      ]
    },
    {
      "cell_type": "code",
      "metadata": {
        "id": "ZB7EBrvx6AnY"
      },
      "source": [
        "def rfc_cv(n_estimators, min_samples_split, max_features, data, targets):\n",
        "    estimator = RandomForestRegressor(\n",
        "        n_estimators=n_estimators,\n",
        "        min_samples_split=min_samples_split,\n",
        "        max_features=max_features,\n",
        "        random_state=2,\n",
        "        n_jobs = -1\n",
        "    )\n",
        "    cval = cross_val_score(estimator, data, targets,\n",
        "                           scoring=rmse, cv=5)\n",
        "    return cval.mean()"
      ],
      "execution_count": null,
      "outputs": []
    },
    {
      "cell_type": "code",
      "metadata": {
        "id": "yVCJjE9L65JI"
      },
      "source": [
        "def optimize_rfc(data, targets):\n",
        "    def rfc_crossval(n_estimators, min_samples_split, max_features):\n",
        "        return rfc_cv(\n",
        "            n_estimators=int(n_estimators),\n",
        "            min_samples_split=int(min_samples_split),\n",
        "            max_features=max(min(max_features, 0.999), 1e-3),\n",
        "            data=data,\n",
        "            targets=targets,\n",
        "        )\n",
        "\n",
        "    optimizer = BayesianOptimization(\n",
        "        f=rfc_crossval,\n",
        "        pbounds={\n",
        "            \"n_estimators\": (100, 450),\n",
        "            \"min_samples_split\": (2, 25),\n",
        "            \"max_features\": (0.1, 0.999),\n",
        "        },\n",
        "        random_state=1234,\n",
        "        verbose=2\n",
        "    )\n",
        "    optimizer.maximize(n_iter=15, init_points=10)\n",
        "\n",
        "    print(\"Final result:\", optimizer.max)"
      ],
      "execution_count": null,
      "outputs": []
    },
    {
      "cell_type": "code",
      "metadata": {
        "id": "mG1vWjNe69UW",
        "outputId": "3230b7f7-c81b-4eb5-884c-85b5d8f94a0f",
        "colab": {
          "base_uri": "https://localhost:8080/",
          "height": 547
        }
      },
      "source": [
        "\n",
        "print(Colours.green(\"--- Optimizing Random Forest ---\"))\n",
        "optimize_rfc(X,Y)"
      ],
      "execution_count": null,
      "outputs": [
        {
          "output_type": "stream",
          "text": [
            "\u001b[92m--- Optimizing Random Forest ---\u001b[0m\n",
            "|   iter    |  target   | max_fe... | min_sa... | n_esti... |\n",
            "-------------------------------------------------------------\n",
            "| \u001b[0m 1       \u001b[0m | \u001b[0m-250.4   \u001b[0m | \u001b[0m 0.2722  \u001b[0m | \u001b[0m 16.31   \u001b[0m | \u001b[0m 253.2   \u001b[0m |\n",
            "| \u001b[95m 2       \u001b[0m | \u001b[95m-221.9   \u001b[0m | \u001b[95m 0.806   \u001b[0m | \u001b[95m 19.94   \u001b[0m | \u001b[95m 195.4   \u001b[0m |\n",
            "| \u001b[0m 3       \u001b[0m | \u001b[0m-238.0   \u001b[0m | \u001b[0m 0.3485  \u001b[0m | \u001b[0m 20.44   \u001b[0m | \u001b[0m 435.3   \u001b[0m |\n",
            "| \u001b[95m 4       \u001b[0m | \u001b[95m-214.2   \u001b[0m | \u001b[95m 0.8875  \u001b[0m | \u001b[95m 10.23   \u001b[0m | \u001b[95m 275.3   \u001b[0m |\n",
            "| \u001b[0m 5       \u001b[0m | \u001b[0m-226.9   \u001b[0m | \u001b[0m 0.7144  \u001b[0m | \u001b[0m 18.39   \u001b[0m | \u001b[0m 229.6   \u001b[0m |\n",
            "| \u001b[0m 6       \u001b[0m | \u001b[0m-226.1   \u001b[0m | \u001b[0m 0.6045  \u001b[0m | \u001b[0m 13.57   \u001b[0m | \u001b[0m 104.8   \u001b[0m |\n",
            "| \u001b[0m 7       \u001b[0m | \u001b[0m-222.6   \u001b[0m | \u001b[0m 0.7948  \u001b[0m | \u001b[0m 22.3    \u001b[0m | \u001b[0m 227.7   \u001b[0m |\n",
            "| \u001b[95m 8       \u001b[0m | \u001b[95m-209.1   \u001b[0m | \u001b[95m 0.6532  \u001b[0m | \u001b[95m 3.734   \u001b[0m | \u001b[95m 229.1   \u001b[0m |\n",
            "| \u001b[0m 9       \u001b[0m | \u001b[0m-221.3   \u001b[0m | \u001b[0m 0.9389  \u001b[0m | \u001b[0m 16.98   \u001b[0m | \u001b[0m 239.0   \u001b[0m |\n",
            "| \u001b[0m 10      \u001b[0m | \u001b[0m-213.7   \u001b[0m | \u001b[0m 0.8091  \u001b[0m | \u001b[0m 9.287   \u001b[0m | \u001b[0m 298.8   \u001b[0m |\n",
            "| \u001b[0m 11      \u001b[0m | \u001b[0m-220.1   \u001b[0m | \u001b[0m 0.8021  \u001b[0m | \u001b[0m 18.14   \u001b[0m | \u001b[0m 421.8   \u001b[0m |\n",
            "| \u001b[0m 12      \u001b[0m | \u001b[0m-220.7   \u001b[0m | \u001b[0m 0.9241  \u001b[0m | \u001b[0m 16.19   \u001b[0m | \u001b[0m 202.2   \u001b[0m |\n",
            "| \u001b[0m 13      \u001b[0m | \u001b[0m-221.4   \u001b[0m | \u001b[0m 0.8985  \u001b[0m | \u001b[0m 23.55   \u001b[0m | \u001b[0m 192.6   \u001b[0m |\n",
            "| \u001b[0m 14      \u001b[0m | \u001b[0m-227.4   \u001b[0m | \u001b[0m 0.3412  \u001b[0m | \u001b[0m 4.032   \u001b[0m | \u001b[0m 162.2   \u001b[0m |\n",
            "| \u001b[0m 15      \u001b[0m | \u001b[0m-220.0   \u001b[0m | \u001b[0m 0.6201  \u001b[0m | \u001b[0m 9.345   \u001b[0m | \u001b[0m 298.9   \u001b[0m |\n",
            "| \u001b[0m 16      \u001b[0m | \u001b[0m-224.3   \u001b[0m | \u001b[0m 0.4254  \u001b[0m | \u001b[0m 3.675   \u001b[0m | \u001b[0m 229.0   \u001b[0m |\n",
            "| \u001b[0m 17      \u001b[0m | \u001b[0m-211.5   \u001b[0m | \u001b[0m 0.7674  \u001b[0m | \u001b[0m 5.795   \u001b[0m | \u001b[0m 375.7   \u001b[0m |\n",
            "| \u001b[0m 18      \u001b[0m | \u001b[0m-220.1   \u001b[0m | \u001b[0m 0.6423  \u001b[0m | \u001b[0m 9.304   \u001b[0m | \u001b[0m 299.0   \u001b[0m |\n",
            "| \u001b[0m 19      \u001b[0m | \u001b[0m-214.2   \u001b[0m | \u001b[0m 0.6625  \u001b[0m | \u001b[0m 7.271   \u001b[0m | \u001b[0m 334.7   \u001b[0m |\n",
            "| \u001b[0m 20      \u001b[0m | \u001b[0m-228.8   \u001b[0m | \u001b[0m 0.4881  \u001b[0m | \u001b[0m 15.32   \u001b[0m | \u001b[0m 327.8   \u001b[0m |\n",
            "| \u001b[95m 21      \u001b[0m | \u001b[95m-205.9   \u001b[0m | \u001b[95m 0.7955  \u001b[0m | \u001b[95m 5.593   \u001b[0m | \u001b[95m 375.8   \u001b[0m |\n",
            "| \u001b[0m 22      \u001b[0m | \u001b[0m-220.1   \u001b[0m | \u001b[0m 0.7952  \u001b[0m | \u001b[0m 18.09   \u001b[0m | \u001b[0m 421.9   \u001b[0m |\n",
            "| \u001b[0m 23      \u001b[0m | \u001b[0m-213.7   \u001b[0m | \u001b[0m 0.7933  \u001b[0m | \u001b[0m 9.474   \u001b[0m | \u001b[0m 298.8   \u001b[0m |\n",
            "| \u001b[0m 24      \u001b[0m | \u001b[0m-213.8   \u001b[0m | \u001b[0m 0.8164  \u001b[0m | \u001b[0m 9.128   \u001b[0m | \u001b[0m 308.5   \u001b[0m |\n",
            "| \u001b[0m 25      \u001b[0m | \u001b[0m-230.7   \u001b[0m | \u001b[0m 0.5297  \u001b[0m | \u001b[0m 16.4    \u001b[0m | \u001b[0m 198.7   \u001b[0m |\n",
            "=============================================================\n",
            "Final result: {'target': -205.94008754805117, 'params': {'max_features': 0.7954899986214853, 'min_samples_split': 5.593308599448148, 'n_estimators': 375.8035389777535}}\n"
          ],
          "name": "stdout"
        }
      ]
    },
    {
      "cell_type": "code",
      "metadata": {
        "id": "lFx2dUYD98Fl"
      },
      "source": [
        "rfc = RandomForestRegressor(n_estimators = int(375.8035389777535),\n",
        "                           min_samples_split=int(5.593308599448148),\n",
        "                           max_features = 0.7954899986214853,\n",
        "                           n_jobs = -1, \n",
        "                           random_state = 42)"
      ],
      "execution_count": 19,
      "outputs": []
    },
    {
      "cell_type": "markdown",
      "metadata": {
        "id": "kjApn54r98rK"
      },
      "source": [
        "#Hyperparameter tuning of LightGBM Regressor using Bayesian optimization"
      ]
    },
    {
      "cell_type": "code",
      "metadata": {
        "id": "vakabnD2-A7z"
      },
      "source": [
        "def lgb_cv(n_estimators, num_leaves, min_child_samples, subsample, data, targets):\n",
        "    estimator = LGBMRegressor(\n",
        "        n_estimators=n_estimators,\n",
        "        num_leaves = num_leaves,\n",
        "        min_child_samples=min_child_samples,\n",
        "        subsample = subsample,\n",
        "        random_state = 2\n",
        "    )\n",
        "    cval = cross_val_score(estimator, data, targets,\n",
        "                           scoring=rmse, cv=5)\n",
        "    return cval.mean()"
      ],
      "execution_count": null,
      "outputs": []
    },
    {
      "cell_type": "code",
      "metadata": {
        "id": "w7rZBU2z-ESv"
      },
      "source": [
        "def optimize_lgb(data, targets):\n",
        "    def lgb_crossval(n_estimators, num_leaves, min_child_samples, subsample):\n",
        "        return lgb_cv(\n",
        "            n_estimators=int(n_estimators),\n",
        "            num_leaves = int(num_leaves),\n",
        "            min_child_samples=int(min_child_samples),\n",
        "            subsample=subsample,\n",
        "            data=data,\n",
        "            targets=targets,\n",
        "        )\n",
        "\n",
        "    optimizer = BayesianOptimization(\n",
        "        f=lgb_crossval,\n",
        "        pbounds={\n",
        "            \"n_estimators\": (200,500),\n",
        "            \"num_leaves\": (30,80),\n",
        "            \"min_child_samples\": (5,30),\n",
        "            \"subsample\": (0.6,1.0)\n",
        "        },\n",
        "        random_state=1234,\n",
        "        verbose=2\n",
        "    )\n",
        "    optimizer.maximize(n_iter=25, init_points=20)\n",
        "\n",
        "    print(\"Final result:\", optimizer.max)"
      ],
      "execution_count": null,
      "outputs": []
    },
    {
      "cell_type": "code",
      "metadata": {
        "id": "urZ8bDC2-Ljg",
        "outputId": "37d058fe-8900-4121-cd62-268b2bd53c8c",
        "colab": {
          "base_uri": "https://localhost:8080/",
          "height": 887
        }
      },
      "source": [
        "print(Colours.blue(\"--- Optimizing Light GBM ---\"))\n",
        "optimize_lgb(X,Y)"
      ],
      "execution_count": null,
      "outputs": [
        {
          "output_type": "stream",
          "text": [
            "\u001b[94m--- Optimizing Light GBM ---\u001b[0m\n",
            "|   iter    |  target   | min_ch... | n_esti... | num_le... | subsample |\n",
            "-------------------------------------------------------------------------\n",
            "| \u001b[0m 1       \u001b[0m | \u001b[0m-312.3   \u001b[0m | \u001b[0m 9.788   \u001b[0m | \u001b[0m 386.6   \u001b[0m | \u001b[0m 51.89   \u001b[0m | \u001b[0m 0.9141  \u001b[0m |\n",
            "| \u001b[95m 2       \u001b[0m | \u001b[95m-287.4   \u001b[0m | \u001b[95m 24.5    \u001b[0m | \u001b[95m 281.8   \u001b[0m | \u001b[95m 43.82   \u001b[0m | \u001b[95m 0.9207  \u001b[0m |\n",
            "| \u001b[0m 3       \u001b[0m | \u001b[0m-300.4   \u001b[0m | \u001b[0m 28.95   \u001b[0m | \u001b[0m 462.8   \u001b[0m | \u001b[0m 47.89   \u001b[0m | \u001b[0m 0.8004  \u001b[0m |\n",
            "| \u001b[0m 4       \u001b[0m | \u001b[0m-300.2   \u001b[0m | \u001b[0m 22.09   \u001b[0m | \u001b[0m 413.8   \u001b[0m | \u001b[0m 48.51   \u001b[0m | \u001b[0m 0.8245  \u001b[0m |\n",
            "| \u001b[95m 5       \u001b[0m | \u001b[95m-284.5   \u001b[0m | \u001b[95m 17.58   \u001b[0m | \u001b[95m 204.1   \u001b[0m | \u001b[95m 68.64   \u001b[0m | \u001b[95m 0.9531  \u001b[0m |\n",
            "| \u001b[0m 6       \u001b[0m | \u001b[0m-292.1   \u001b[0m | \u001b[0m 14.12   \u001b[0m | \u001b[0m 384.6   \u001b[0m | \u001b[0m 33.77   \u001b[0m | \u001b[0m 0.7475  \u001b[0m |\n",
            "| \u001b[0m 7       \u001b[0m | \u001b[0m-295.7   \u001b[0m | \u001b[0m 28.33   \u001b[0m | \u001b[0m 395.4   \u001b[0m | \u001b[0m 49.86   \u001b[0m | \u001b[0m 0.9155  \u001b[0m |\n",
            "| \u001b[0m 8       \u001b[0m | \u001b[0m-302.9   \u001b[0m | \u001b[0m 12.92   \u001b[0m | \u001b[0m 370.4   \u001b[0m | \u001b[0m 73.46   \u001b[0m | \u001b[0m 0.7745  \u001b[0m |\n",
            "| \u001b[0m 9       \u001b[0m | \u001b[0m-285.3   \u001b[0m | \u001b[0m 25.05   \u001b[0m | \u001b[0m 243.1   \u001b[0m | \u001b[0m 65.21   \u001b[0m | \u001b[0m 0.8818  \u001b[0m |\n",
            "| \u001b[0m 10      \u001b[0m | \u001b[0m-311.5   \u001b[0m | \u001b[0m 10.47   \u001b[0m | \u001b[0m 477.5   \u001b[0m | \u001b[0m 52.11   \u001b[0m | \u001b[0m 0.9637  \u001b[0m |\n",
            "| \u001b[0m 11      \u001b[0m | \u001b[0m-319.6   \u001b[0m | \u001b[0m 6.495   \u001b[0m | \u001b[0m 255.3   \u001b[0m | \u001b[0m 32.37   \u001b[0m | \u001b[0m 0.87    \u001b[0m |\n",
            "| \u001b[0m 12      \u001b[0m | \u001b[0m-294.4   \u001b[0m | \u001b[0m 19.87   \u001b[0m | \u001b[0m 360.0   \u001b[0m | \u001b[0m 32.17   \u001b[0m | \u001b[0m 0.8246  \u001b[0m |\n",
            "| \u001b[0m 13      \u001b[0m | \u001b[0m-292.3   \u001b[0m | \u001b[0m 13.24   \u001b[0m | \u001b[0m 350.9   \u001b[0m | \u001b[0m 35.59   \u001b[0m | \u001b[0m 0.8429  \u001b[0m |\n",
            "| \u001b[0m 14      \u001b[0m | \u001b[0m-285.7   \u001b[0m | \u001b[0m 19.15   \u001b[0m | \u001b[0m 202.0   \u001b[0m | \u001b[0m 60.87   \u001b[0m | \u001b[0m 0.9648  \u001b[0m |\n",
            "| \u001b[0m 15      \u001b[0m | \u001b[0m-301.1   \u001b[0m | \u001b[0m 24.76   \u001b[0m | \u001b[0m 497.6   \u001b[0m | \u001b[0m 77.94   \u001b[0m | \u001b[0m 0.9168  \u001b[0m |\n",
            "| \u001b[0m 16      \u001b[0m | \u001b[0m-296.8   \u001b[0m | \u001b[0m 12.13   \u001b[0m | \u001b[0m 387.5   \u001b[0m | \u001b[0m 53.9    \u001b[0m | \u001b[0m 0.6783  \u001b[0m |\n",
            "| \u001b[0m 17      \u001b[0m | \u001b[0m-287.0   \u001b[0m | \u001b[0m 14.56   \u001b[0m | \u001b[0m 216.2   \u001b[0m | \u001b[0m 52.58   \u001b[0m | \u001b[0m 0.9928  \u001b[0m |\n",
            "| \u001b[0m 18      \u001b[0m | \u001b[0m-312.6   \u001b[0m | \u001b[0m 8.099   \u001b[0m | \u001b[0m 235.8   \u001b[0m | \u001b[0m 66.93   \u001b[0m | \u001b[0m 0.8349  \u001b[0m |\n",
            "| \u001b[0m 19      \u001b[0m | \u001b[0m-287.3   \u001b[0m | \u001b[0m 16.79   \u001b[0m | \u001b[0m 232.1   \u001b[0m | \u001b[0m 41.46   \u001b[0m | \u001b[0m 0.96    \u001b[0m |\n",
            "| \u001b[0m 20      \u001b[0m | \u001b[0m-295.4   \u001b[0m | \u001b[0m 15.42   \u001b[0m | \u001b[0m 360.8   \u001b[0m | \u001b[0m 30.31   \u001b[0m | \u001b[0m 0.7203  \u001b[0m |\n",
            "| \u001b[0m 21      \u001b[0m | \u001b[0m-303.2   \u001b[0m | \u001b[0m 13.33   \u001b[0m | \u001b[0m 416.9   \u001b[0m | \u001b[0m 53.65   \u001b[0m | \u001b[0m 0.7453  \u001b[0m |\n",
            "| \u001b[0m 22      \u001b[0m | \u001b[0m-294.0   \u001b[0m | \u001b[0m 27.03   \u001b[0m | \u001b[0m 377.8   \u001b[0m | \u001b[0m 65.5    \u001b[0m | \u001b[0m 0.9274  \u001b[0m |\n",
            "| \u001b[0m 23      \u001b[0m | \u001b[0m-287.1   \u001b[0m | \u001b[0m 18.78   \u001b[0m | \u001b[0m 284.0   \u001b[0m | \u001b[0m 55.13   \u001b[0m | \u001b[0m 0.7054  \u001b[0m |\n",
            "| \u001b[0m 24      \u001b[0m | \u001b[0m-296.8   \u001b[0m | \u001b[0m 29.85   \u001b[0m | \u001b[0m 418.1   \u001b[0m | \u001b[0m 66.61   \u001b[0m | \u001b[0m 0.898   \u001b[0m |\n",
            "| \u001b[0m 25      \u001b[0m | \u001b[0m-292.9   \u001b[0m | \u001b[0m 20.06   \u001b[0m | \u001b[0m 362.7   \u001b[0m | \u001b[0m 48.44   \u001b[0m | \u001b[0m 0.8171  \u001b[0m |\n",
            "| \u001b[0m 26      \u001b[0m | \u001b[0m-289.0   \u001b[0m | \u001b[0m 14.9    \u001b[0m | \u001b[0m 216.1   \u001b[0m | \u001b[0m 53.42   \u001b[0m | \u001b[0m 0.7167  \u001b[0m |\n",
            "| \u001b[0m 27      \u001b[0m | \u001b[0m-291.3   \u001b[0m | \u001b[0m 18.7    \u001b[0m | \u001b[0m 283.9   \u001b[0m | \u001b[0m 56.44   \u001b[0m | \u001b[0m 0.737   \u001b[0m |\n",
            "| \u001b[0m 28      \u001b[0m | \u001b[0m-287.1   \u001b[0m | \u001b[0m 24.75   \u001b[0m | \u001b[0m 242.2   \u001b[0m | \u001b[0m 65.43   \u001b[0m | \u001b[0m 0.6837  \u001b[0m |\n",
            "| \u001b[0m 29      \u001b[0m | \u001b[0m-287.9   \u001b[0m | \u001b[0m 18.27   \u001b[0m | \u001b[0m 202.7   \u001b[0m | \u001b[0m 60.51   \u001b[0m | \u001b[0m 0.7695  \u001b[0m |\n",
            "| \u001b[0m 30      \u001b[0m | \u001b[0m-287.0   \u001b[0m | \u001b[0m 14.87   \u001b[0m | \u001b[0m 216.1   \u001b[0m | \u001b[0m 52.41   \u001b[0m | \u001b[0m 0.9572  \u001b[0m |\n",
            "| \u001b[95m 31      \u001b[0m | \u001b[95m-284.1   \u001b[0m | \u001b[95m 17.92   \u001b[0m | \u001b[95m 203.3   \u001b[0m | \u001b[95m 67.82   \u001b[0m | \u001b[95m 0.9083  \u001b[0m |\n",
            "| \u001b[0m 32      \u001b[0m | \u001b[0m-288.9   \u001b[0m | \u001b[0m 18.18   \u001b[0m | \u001b[0m 204.9   \u001b[0m | \u001b[0m 68.16   \u001b[0m | \u001b[0m 0.909   \u001b[0m |\n",
            "| \u001b[0m 33      \u001b[0m | \u001b[0m-284.1   \u001b[0m | \u001b[0m 17.54   \u001b[0m | \u001b[0m 203.7   \u001b[0m | \u001b[0m 67.97   \u001b[0m | \u001b[0m 0.8496  \u001b[0m |\n",
            "| \u001b[0m 34      \u001b[0m | \u001b[0m-286.9   \u001b[0m | \u001b[0m 25.12   \u001b[0m | \u001b[0m 242.7   \u001b[0m | \u001b[0m 64.6    \u001b[0m | \u001b[0m 0.8796  \u001b[0m |\n",
            "| \u001b[0m 35      \u001b[0m | \u001b[0m-288.4   \u001b[0m | \u001b[0m 13.33   \u001b[0m | \u001b[0m 216.2   \u001b[0m | \u001b[0m 51.39   \u001b[0m | \u001b[0m 0.8481  \u001b[0m |\n",
            "| \u001b[0m 36      \u001b[0m | \u001b[0m-285.8   \u001b[0m | \u001b[0m 19.02   \u001b[0m | \u001b[0m 201.6   \u001b[0m | \u001b[0m 60.2    \u001b[0m | \u001b[0m 0.6548  \u001b[0m |\n",
            "| \u001b[0m 37      \u001b[0m | \u001b[0m-287.9   \u001b[0m | \u001b[0m 18.7    \u001b[0m | \u001b[0m 202.4   \u001b[0m | \u001b[0m 60.18   \u001b[0m | \u001b[0m 0.8787  \u001b[0m |\n",
            "| \u001b[0m 38      \u001b[0m | \u001b[0m-287.3   \u001b[0m | \u001b[0m 16.36   \u001b[0m | \u001b[0m 204.5   \u001b[0m | \u001b[0m 69.22   \u001b[0m | \u001b[0m 0.8313  \u001b[0m |\n",
            "| \u001b[0m 39      \u001b[0m | \u001b[0m-284.4   \u001b[0m | \u001b[0m 17.62   \u001b[0m | \u001b[0m 203.3   \u001b[0m | \u001b[0m 68.48   \u001b[0m | \u001b[0m 0.9856  \u001b[0m |\n",
            "| \u001b[0m 40      \u001b[0m | \u001b[0m-284.3   \u001b[0m | \u001b[0m 17.51   \u001b[0m | \u001b[0m 202.6   \u001b[0m | \u001b[0m 68.26   \u001b[0m | \u001b[0m 0.8311  \u001b[0m |\n",
            "| \u001b[95m 41      \u001b[0m | \u001b[95m-283.2   \u001b[0m | \u001b[95m 17.39   \u001b[0m | \u001b[95m 202.8   \u001b[0m | \u001b[95m 66.74   \u001b[0m | \u001b[95m 0.7323  \u001b[0m |\n",
            "| \u001b[95m 42      \u001b[0m | \u001b[95m-282.9   \u001b[0m | \u001b[95m 17.1    \u001b[0m | \u001b[95m 203.9   \u001b[0m | \u001b[95m 69.5    \u001b[0m | \u001b[95m 0.6017  \u001b[0m |\n",
            "| \u001b[0m 43      \u001b[0m | \u001b[0m-286.3   \u001b[0m | \u001b[0m 17.41   \u001b[0m | \u001b[0m 203.7   \u001b[0m | \u001b[0m 70.43   \u001b[0m | \u001b[0m 0.719   \u001b[0m |\n",
            "| \u001b[0m 44      \u001b[0m | \u001b[0m-289.0   \u001b[0m | \u001b[0m 18.46   \u001b[0m | \u001b[0m 202.8   \u001b[0m | \u001b[0m 68.44   \u001b[0m | \u001b[0m 0.6111  \u001b[0m |\n",
            "| \u001b[0m 45      \u001b[0m | \u001b[0m-283.0   \u001b[0m | \u001b[0m 17.17   \u001b[0m | \u001b[0m 203.5   \u001b[0m | \u001b[0m 66.11   \u001b[0m | \u001b[0m 0.8096  \u001b[0m |\n",
            "=========================================================================\n",
            "Final result: {'target': -282.8989556597658, 'params': {'min_child_samples': 17.097640410918434, 'n_estimators': 203.94506329369526, 'num_leaves': 69.4967773968443, 'subsample': 0.6017035953446536}}\n"
          ],
          "name": "stdout"
        }
      ]
    },
    {
      "cell_type": "code",
      "metadata": {
        "id": "JPj0688SSjts",
        "outputId": "4284aaae-7b8e-4b48-fa9d-a8ed70646dc5",
        "colab": {
          "base_uri": "https://localhost:8080/",
          "height": 34
        }
      },
      "source": [
        "np.sqrt(len(features))"
      ],
      "execution_count": null,
      "outputs": [
        {
          "output_type": "execute_result",
          "data": {
            "text/plain": [
              "3.605551275463989"
            ]
          },
          "metadata": {
            "tags": []
          },
          "execution_count": 125
        }
      ]
    },
    {
      "cell_type": "code",
      "metadata": {
        "id": "nkIikZHCopM0"
      },
      "source": [
        "lgb = LGBMRegressor(\n",
        "        n_estimators=int(203.94506329369526),\n",
        "        num_leaves = int(69.4967773968443),\n",
        "        min_child_samples=int(17.097640410918434),\n",
        "        subsample =  0.6017035953446536,\n",
        "        random_state = 42\n",
        "    )"
      ],
      "execution_count": 28,
      "outputs": []
    },
    {
      "cell_type": "markdown",
      "metadata": {
        "id": "NYqaNQi0o8_J"
      },
      "source": [
        "\n",
        "#Hyperparameter tuning of XGBoost Regressor using Bayesian optimization"
      ]
    },
    {
      "cell_type": "code",
      "metadata": {
        "id": "S3YRC79ho9ip"
      },
      "source": [
        "def xgb_cv(n_estimators, max_depth, gamma, min_child_weight, subsample, data, targets):\n",
        "    estimator = XGBRegressor(\n",
        "        n_estimators=n_estimators,\n",
        "        max_depth = max_depth,\n",
        "        gamma = gamma,\n",
        "        min_child_weight=min_child_weight,\n",
        "        subsample = subsample,\n",
        "        random_state = 2,\n",
        "    )\n",
        "    cval = cross_val_score(estimator, data, targets,\n",
        "                           scoring=rmse, cv=5)\n",
        "    return cval.mean()"
      ],
      "execution_count": 29,
      "outputs": []
    },
    {
      "cell_type": "code",
      "metadata": {
        "id": "JAd1Csq6pFQ3"
      },
      "source": [
        "def optimize_xgb(data, targets):\n",
        "    def xgb_crossval(n_estimators, max_depth, gamma, min_child_weight, subsample):\n",
        "        return xgb_cv(\n",
        "            n_estimators=int(n_estimators),\n",
        "            max_depth = int(max_depth),\n",
        "            gamma = gamma,\n",
        "            min_child_weight=min_child_weight,\n",
        "            subsample=subsample,\n",
        "            data=data,\n",
        "            targets=targets,\n",
        "        )\n",
        "\n",
        "    optimizer = BayesianOptimization(\n",
        "        f=xgb_crossval,\n",
        "        pbounds={\n",
        "            \"n_estimators\": (200, 500),\n",
        "            \"max_depth\": (6,15),\n",
        "            \"gamma\": (0,10),\n",
        "            \"min_child_weight\": (0,10),\n",
        "            \"subsample\": (0.8,1.0)\n",
        "        },\n",
        "        random_state=1234,\n",
        "        verbose=2\n",
        "    )\n",
        "    optimizer.maximize(n_iter=25, init_points=20)\n",
        "\n",
        "    print(\"Final result:\", optimizer.max)"
      ],
      "execution_count": 30,
      "outputs": []
    },
    {
      "cell_type": "code",
      "metadata": {
        "id": "roM9ikQupJ3Q",
        "outputId": "60c54bd2-a7da-4620-c826-8e6e2478c02e",
        "colab": {
          "base_uri": "https://localhost:8080/",
          "height": 1000
        }
      },
      "source": [
        "print(Colours.red(\"--- Optimizing XGBoost ---\"))\n",
        "optimize_xgb(X,Y)"
      ],
      "execution_count": 31,
      "outputs": [
        {
          "output_type": "stream",
          "text": [
            "\u001b[91m--- Optimizing XGBoost ---\u001b[0m\n",
            "|   iter    |  target   |   gamma   | max_depth | min_ch... | n_esti... | subsample |\n",
            "-------------------------------------------------------------------------------------\n",
            "[12:45:56] WARNING: /workspace/src/objective/regression_obj.cu:152: reg:linear is now deprecated in favor of reg:squarederror.\n",
            "[12:46:15] WARNING: /workspace/src/objective/regression_obj.cu:152: reg:linear is now deprecated in favor of reg:squarederror.\n",
            "[12:46:31] WARNING: /workspace/src/objective/regression_obj.cu:152: reg:linear is now deprecated in favor of reg:squarederror.\n",
            "[12:46:48] WARNING: /workspace/src/objective/regression_obj.cu:152: reg:linear is now deprecated in favor of reg:squarederror.\n",
            "[12:47:04] WARNING: /workspace/src/objective/regression_obj.cu:152: reg:linear is now deprecated in favor of reg:squarederror.\n",
            "| \u001b[0m 1       \u001b[0m | \u001b[0m-269.7   \u001b[0m | \u001b[0m 1.915   \u001b[0m | \u001b[0m 11.6    \u001b[0m | \u001b[0m 4.377   \u001b[0m | \u001b[0m 435.6   \u001b[0m | \u001b[0m 0.956   \u001b[0m |\n",
            "[12:47:21] WARNING: /workspace/src/objective/regression_obj.cu:152: reg:linear is now deprecated in favor of reg:squarederror.\n",
            "[12:47:34] WARNING: /workspace/src/objective/regression_obj.cu:152: reg:linear is now deprecated in favor of reg:squarederror.\n",
            "[12:47:47] WARNING: /workspace/src/objective/regression_obj.cu:152: reg:linear is now deprecated in favor of reg:squarederror.\n",
            "[12:48:00] WARNING: /workspace/src/objective/regression_obj.cu:152: reg:linear is now deprecated in favor of reg:squarederror.\n",
            "[12:48:13] WARNING: /workspace/src/objective/regression_obj.cu:152: reg:linear is now deprecated in favor of reg:squarederror.\n",
            "| \u001b[0m 2       \u001b[0m | \u001b[0m-311.4   \u001b[0m | \u001b[0m 2.726   \u001b[0m | \u001b[0m 8.488   \u001b[0m | \u001b[0m 8.019   \u001b[0m | \u001b[0m 487.4   \u001b[0m | \u001b[0m 0.9752  \u001b[0m |\n",
            "[12:48:27] WARNING: /workspace/src/objective/regression_obj.cu:152: reg:linear is now deprecated in favor of reg:squarederror.\n",
            "[12:48:42] WARNING: /workspace/src/objective/regression_obj.cu:152: reg:linear is now deprecated in favor of reg:squarederror.\n",
            "[12:48:57] WARNING: /workspace/src/objective/regression_obj.cu:152: reg:linear is now deprecated in favor of reg:squarederror.\n",
            "[12:49:12] WARNING: /workspace/src/objective/regression_obj.cu:152: reg:linear is now deprecated in favor of reg:squarederror.\n",
            "[12:49:28] WARNING: /workspace/src/objective/regression_obj.cu:152: reg:linear is now deprecated in favor of reg:squarederror.\n",
            "| \u001b[0m 3       \u001b[0m | \u001b[0m-300.0   \u001b[0m | \u001b[0m 3.578   \u001b[0m | \u001b[0m 10.51   \u001b[0m | \u001b[0m 6.835   \u001b[0m | \u001b[0m 413.8   \u001b[0m | \u001b[0m 0.8741  \u001b[0m |\n",
            "[12:49:43] WARNING: /workspace/src/objective/regression_obj.cu:152: reg:linear is now deprecated in favor of reg:squarederror.\n",
            "[12:50:00] WARNING: /workspace/src/objective/regression_obj.cu:152: reg:linear is now deprecated in favor of reg:squarederror.\n",
            "[12:50:18] WARNING: /workspace/src/objective/regression_obj.cu:152: reg:linear is now deprecated in favor of reg:squarederror.\n",
            "[12:50:36] WARNING: /workspace/src/objective/regression_obj.cu:152: reg:linear is now deprecated in favor of reg:squarederror.\n",
            "[12:50:54] WARNING: /workspace/src/objective/regression_obj.cu:152: reg:linear is now deprecated in favor of reg:squarederror.\n",
            "| \u001b[95m 4       \u001b[0m | \u001b[95m-177.4   \u001b[0m | \u001b[95m 5.612   \u001b[0m | \u001b[95m 10.53   \u001b[0m | \u001b[95m 0.1377  \u001b[0m | \u001b[95m 431.8   \u001b[0m | \u001b[95m 0.9765  \u001b[0m |\n",
            "[12:51:12] WARNING: /workspace/src/objective/regression_obj.cu:152: reg:linear is now deprecated in favor of reg:squarederror.\n",
            "[12:51:26] WARNING: /workspace/src/objective/regression_obj.cu:152: reg:linear is now deprecated in favor of reg:squarederror.\n",
            "[12:51:40] WARNING: /workspace/src/objective/regression_obj.cu:152: reg:linear is now deprecated in favor of reg:squarederror.\n",
            "[12:51:54] WARNING: /workspace/src/objective/regression_obj.cu:152: reg:linear is now deprecated in favor of reg:squarederror.\n",
            "[12:52:08] WARNING: /workspace/src/objective/regression_obj.cu:152: reg:linear is now deprecated in favor of reg:squarederror.\n",
            "| \u001b[95m 5       \u001b[0m | \u001b[95m-176.0   \u001b[0m | \u001b[95m 3.649   \u001b[0m | \u001b[95m 11.54   \u001b[0m | \u001b[95m 0.7538  \u001b[0m | \u001b[95m 310.6   \u001b[0m | \u001b[95m 0.9866  \u001b[0m |\n",
            "[12:52:25] WARNING: /workspace/src/objective/regression_obj.cu:152: reg:linear is now deprecated in favor of reg:squarederror.\n",
            "[12:52:35] WARNING: /workspace/src/objective/regression_obj.cu:152: reg:linear is now deprecated in favor of reg:squarederror.\n",
            "[12:52:44] WARNING: /workspace/src/objective/regression_obj.cu:152: reg:linear is now deprecated in favor of reg:squarederror.\n",
            "[12:52:53] WARNING: /workspace/src/objective/regression_obj.cu:152: reg:linear is now deprecated in favor of reg:squarederror.\n",
            "[12:53:02] WARNING: /workspace/src/objective/regression_obj.cu:152: reg:linear is now deprecated in favor of reg:squarederror.\n",
            "| \u001b[0m 6       \u001b[0m | \u001b[0m-308.1   \u001b[0m | \u001b[0m 6.514   \u001b[0m | \u001b[0m 9.575   \u001b[0m | \u001b[0m 7.887   \u001b[0m | \u001b[0m 295.1   \u001b[0m | \u001b[0m 0.9136  \u001b[0m |\n",
            "[12:53:11] WARNING: /workspace/src/objective/regression_obj.cu:152: reg:linear is now deprecated in favor of reg:squarederror.\n",
            "[12:53:19] WARNING: /workspace/src/objective/regression_obj.cu:152: reg:linear is now deprecated in favor of reg:squarederror.\n",
            "[12:53:26] WARNING: /workspace/src/objective/regression_obj.cu:152: reg:linear is now deprecated in favor of reg:squarederror.\n",
            "[12:53:33] WARNING: /workspace/src/objective/regression_obj.cu:152: reg:linear is now deprecated in favor of reg:squarederror.\n",
            "[12:53:41] WARNING: /workspace/src/objective/regression_obj.cu:152: reg:linear is now deprecated in favor of reg:squarederror.\n",
            "| \u001b[0m 7       \u001b[0m | \u001b[0m-304.0   \u001b[0m | \u001b[0m 8.691   \u001b[0m | \u001b[0m 9.926   \u001b[0m | \u001b[0m 8.021   \u001b[0m | \u001b[0m 243.1   \u001b[0m | \u001b[0m 0.9409  \u001b[0m |\n",
            "[12:53:48] WARNING: /workspace/src/objective/regression_obj.cu:152: reg:linear is now deprecated in favor of reg:squarederror.\n",
            "[12:53:56] WARNING: /workspace/src/objective/regression_obj.cu:152: reg:linear is now deprecated in favor of reg:squarederror.\n",
            "[12:54:04] WARNING: /workspace/src/objective/regression_obj.cu:152: reg:linear is now deprecated in favor of reg:squarederror.\n",
            "[12:54:12] WARNING: /workspace/src/objective/regression_obj.cu:152: reg:linear is now deprecated in favor of reg:squarederror.\n",
            "[12:54:20] WARNING: /workspace/src/objective/regression_obj.cu:152: reg:linear is now deprecated in favor of reg:squarederror.\n",
            "| \u001b[0m 8       \u001b[0m | \u001b[0m-298.5   \u001b[0m | \u001b[0m 7.046   \u001b[0m | \u001b[0m 7.969   \u001b[0m | \u001b[0m 9.249   \u001b[0m | \u001b[0m 332.6   \u001b[0m | \u001b[0m 0.9819  \u001b[0m |\n",
            "[12:54:28] WARNING: /workspace/src/objective/regression_obj.cu:152: reg:linear is now deprecated in favor of reg:squarederror.\n",
            "[12:54:40] WARNING: /workspace/src/objective/regression_obj.cu:152: reg:linear is now deprecated in favor of reg:squarederror.\n",
            "[12:54:51] WARNING: /workspace/src/objective/regression_obj.cu:152: reg:linear is now deprecated in favor of reg:squarederror.\n",
            "[12:55:02] WARNING: /workspace/src/objective/regression_obj.cu:152: reg:linear is now deprecated in favor of reg:squarederror.\n",
            "[12:55:14] WARNING: /workspace/src/objective/regression_obj.cu:152: reg:linear is now deprecated in favor of reg:squarederror.\n",
            "| \u001b[95m 9       \u001b[0m | \u001b[95m-175.0   \u001b[0m | \u001b[95m 0.5981  \u001b[0m | \u001b[95m 7.659   \u001b[0m | \u001b[95m 0.4736  \u001b[0m | \u001b[95m 402.5   \u001b[0m | \u001b[95m 0.9189  \u001b[0m |\n",
            "[12:55:25] WARNING: /workspace/src/objective/regression_obj.cu:152: reg:linear is now deprecated in favor of reg:squarederror.\n",
            "[12:55:32] WARNING: /workspace/src/objective/regression_obj.cu:152: reg:linear is now deprecated in favor of reg:squarederror.\n",
            "[12:55:38] WARNING: /workspace/src/objective/regression_obj.cu:152: reg:linear is now deprecated in favor of reg:squarederror.\n",
            "[12:55:45] WARNING: /workspace/src/objective/regression_obj.cu:152: reg:linear is now deprecated in favor of reg:squarederror.\n",
            "[12:55:52] WARNING: /workspace/src/objective/regression_obj.cu:152: reg:linear is now deprecated in favor of reg:squarederror.\n",
            "| \u001b[0m 10      \u001b[0m | \u001b[0m-269.9   \u001b[0m | \u001b[0m 5.333   \u001b[0m | \u001b[0m 6.39    \u001b[0m | \u001b[0m 5.614   \u001b[0m | \u001b[0m 298.9   \u001b[0m | \u001b[0m 0.9006  \u001b[0m |\n",
            "[12:55:58] WARNING: /workspace/src/objective/regression_obj.cu:152: reg:linear is now deprecated in favor of reg:squarederror.\n",
            "[12:56:06] WARNING: /workspace/src/objective/regression_obj.cu:152: reg:linear is now deprecated in favor of reg:squarederror.\n",
            "[12:56:14] WARNING: /workspace/src/objective/regression_obj.cu:152: reg:linear is now deprecated in favor of reg:squarederror.\n",
            "[12:56:22] WARNING: /workspace/src/objective/regression_obj.cu:152: reg:linear is now deprecated in favor of reg:squarederror.\n",
            "[12:56:30] WARNING: /workspace/src/objective/regression_obj.cu:152: reg:linear is now deprecated in favor of reg:squarederror.\n",
            "| \u001b[0m 11      \u001b[0m | \u001b[0m-269.0   \u001b[0m | \u001b[0m 1.119   \u001b[0m | \u001b[0m 11.46   \u001b[0m | \u001b[0m 5.659   \u001b[0m | \u001b[0m 202.0   \u001b[0m | \u001b[0m 0.9235  \u001b[0m |\n",
            "[12:56:38] WARNING: /workspace/src/objective/regression_obj.cu:152: reg:linear is now deprecated in favor of reg:squarederror.\n",
            "[12:56:59] WARNING: /workspace/src/objective/regression_obj.cu:152: reg:linear is now deprecated in favor of reg:squarederror.\n",
            "[12:57:19] WARNING: /workspace/src/objective/regression_obj.cu:152: reg:linear is now deprecated in favor of reg:squarederror.\n",
            "[12:57:40] WARNING: /workspace/src/objective/regression_obj.cu:152: reg:linear is now deprecated in favor of reg:squarederror.\n",
            "[12:58:01] WARNING: /workspace/src/objective/regression_obj.cu:152: reg:linear is now deprecated in favor of reg:squarederror.\n",
            "| \u001b[0m 12      \u001b[0m | \u001b[0m-302.7   \u001b[0m | \u001b[0m 9.121   \u001b[0m | \u001b[0m 13.11   \u001b[0m | \u001b[0m 9.921   \u001b[0m | \u001b[0m 487.6   \u001b[0m | \u001b[0m 0.9584  \u001b[0m |\n",
            "[12:58:21] WARNING: /workspace/src/objective/regression_obj.cu:152: reg:linear is now deprecated in favor of reg:squarederror.\n",
            "[12:58:31] WARNING: /workspace/src/objective/regression_obj.cu:152: reg:linear is now deprecated in favor of reg:squarederror.\n",
            "[12:58:42] WARNING: /workspace/src/objective/regression_obj.cu:152: reg:linear is now deprecated in favor of reg:squarederror.\n",
            "[12:58:52] WARNING: /workspace/src/objective/regression_obj.cu:152: reg:linear is now deprecated in favor of reg:squarederror.\n",
            "[12:59:02] WARNING: /workspace/src/objective/regression_obj.cu:152: reg:linear is now deprecated in favor of reg:squarederror.\n",
            "| \u001b[0m 13      \u001b[0m | \u001b[0m-261.7   \u001b[0m | \u001b[0m 2.853   \u001b[0m | \u001b[0m 11.62   \u001b[0m | \u001b[0m 4.781   \u001b[0m | \u001b[0m 258.7   \u001b[0m | \u001b[0m 0.8765  \u001b[0m |\n",
            "[12:59:12] WARNING: /workspace/src/objective/regression_obj.cu:152: reg:linear is now deprecated in favor of reg:squarederror.\n",
            "[12:59:21] WARNING: /workspace/src/objective/regression_obj.cu:152: reg:linear is now deprecated in favor of reg:squarederror.\n",
            "[12:59:30] WARNING: /workspace/src/objective/regression_obj.cu:152: reg:linear is now deprecated in favor of reg:squarederror.\n",
            "[12:59:38] WARNING: /workspace/src/objective/regression_obj.cu:152: reg:linear is now deprecated in favor of reg:squarederror.\n",
            "[12:59:47] WARNING: /workspace/src/objective/regression_obj.cu:152: reg:linear is now deprecated in favor of reg:squarederror.\n",
            "| \u001b[0m 14      \u001b[0m | \u001b[0m-297.2   \u001b[0m | \u001b[0m 0.5387  \u001b[0m | \u001b[0m 10.06   \u001b[0m | \u001b[0m 9.82    \u001b[0m | \u001b[0m 237.2   \u001b[0m | \u001b[0m 0.8239  \u001b[0m |\n",
            "[12:59:55] WARNING: /workspace/src/objective/regression_obj.cu:152: reg:linear is now deprecated in favor of reg:squarederror.\n",
            "[13:00:05] WARNING: /workspace/src/objective/regression_obj.cu:152: reg:linear is now deprecated in favor of reg:squarederror.\n",
            "[13:00:14] WARNING: /workspace/src/objective/regression_obj.cu:152: reg:linear is now deprecated in favor of reg:squarederror.\n",
            "[13:00:24] WARNING: /workspace/src/objective/regression_obj.cu:152: reg:linear is now deprecated in favor of reg:squarederror.\n",
            "[13:00:33] WARNING: /workspace/src/objective/regression_obj.cu:152: reg:linear is now deprecated in favor of reg:squarederror.\n",
            "| \u001b[0m 15      \u001b[0m | \u001b[0m-260.7   \u001b[0m | \u001b[0m 7.385   \u001b[0m | \u001b[0m 11.29   \u001b[0m | \u001b[0m 4.716   \u001b[0m | \u001b[0m 232.1   \u001b[0m | \u001b[0m 0.8458  \u001b[0m |\n",
            "[13:00:42] WARNING: /workspace/src/objective/regression_obj.cu:152: reg:linear is now deprecated in favor of reg:squarederror.\n",
            "[13:00:49] WARNING: /workspace/src/objective/regression_obj.cu:152: reg:linear is now deprecated in favor of reg:squarederror.\n",
            "[13:00:56] WARNING: /workspace/src/objective/regression_obj.cu:152: reg:linear is now deprecated in favor of reg:squarederror.\n",
            "[13:01:02] WARNING: /workspace/src/objective/regression_obj.cu:152: reg:linear is now deprecated in favor of reg:squarederror.\n",
            "[13:01:09] WARNING: /workspace/src/objective/regression_obj.cu:152: reg:linear is now deprecated in favor of reg:squarederror.\n",
            "| \u001b[0m 16      \u001b[0m | \u001b[0m-272.6   \u001b[0m | \u001b[0m 9.0     \u001b[0m | \u001b[0m 9.751   \u001b[0m | \u001b[0m 5.359   \u001b[0m | \u001b[0m 201.9   \u001b[0m | \u001b[0m 0.8601  \u001b[0m |\n",
            "[13:01:16] WARNING: /workspace/src/objective/regression_obj.cu:152: reg:linear is now deprecated in favor of reg:squarederror.\n",
            "[13:01:30] WARNING: /workspace/src/objective/regression_obj.cu:152: reg:linear is now deprecated in favor of reg:squarederror.\n",
            "[13:01:44] WARNING: /workspace/src/objective/regression_obj.cu:152: reg:linear is now deprecated in favor of reg:squarederror.\n",
            "[13:01:58] WARNING: /workspace/src/objective/regression_obj.cu:152: reg:linear is now deprecated in favor of reg:squarederror.\n",
            "[13:02:12] WARNING: /workspace/src/objective/regression_obj.cu:152: reg:linear is now deprecated in favor of reg:squarederror.\n",
            "| \u001b[0m 17      \u001b[0m | \u001b[0m-303.5   \u001b[0m | \u001b[0m 4.369   \u001b[0m | \u001b[0m 11.51   \u001b[0m | \u001b[0m 9.182   \u001b[0m | \u001b[0m 387.7   \u001b[0m | \u001b[0m 0.9412  \u001b[0m |\n",
            "[13:02:26] WARNING: /workspace/src/objective/regression_obj.cu:152: reg:linear is now deprecated in favor of reg:squarederror.\n",
            "[13:02:42] WARNING: /workspace/src/objective/regression_obj.cu:152: reg:linear is now deprecated in favor of reg:squarederror.\n",
            "[13:02:58] WARNING: /workspace/src/objective/regression_obj.cu:152: reg:linear is now deprecated in favor of reg:squarederror.\n",
            "[13:03:15] WARNING: /workspace/src/objective/regression_obj.cu:152: reg:linear is now deprecated in favor of reg:squarederror.\n",
            "[13:03:31] WARNING: /workspace/src/objective/regression_obj.cu:152: reg:linear is now deprecated in favor of reg:squarederror.\n",
            "| \u001b[0m 18      \u001b[0m | \u001b[0m-303.6   \u001b[0m | \u001b[0m 1.498   \u001b[0m | \u001b[0m 12.71   \u001b[0m | \u001b[0m 8.31    \u001b[0m | \u001b[0m 390.1   \u001b[0m | \u001b[0m 0.8877  \u001b[0m |\n",
            "[13:03:47] WARNING: /workspace/src/objective/regression_obj.cu:152: reg:linear is now deprecated in favor of reg:squarederror.\n",
            "[13:04:06] WARNING: /workspace/src/objective/regression_obj.cu:152: reg:linear is now deprecated in favor of reg:squarederror.\n",
            "[13:04:25] WARNING: /workspace/src/objective/regression_obj.cu:152: reg:linear is now deprecated in favor of reg:squarederror.\n",
            "[13:04:44] WARNING: /workspace/src/objective/regression_obj.cu:152: reg:linear is now deprecated in favor of reg:squarederror.\n",
            "[13:05:03] WARNING: /workspace/src/objective/regression_obj.cu:152: reg:linear is now deprecated in favor of reg:squarederror.\n",
            "| \u001b[0m 19      \u001b[0m | \u001b[0m-269.5   \u001b[0m | \u001b[0m 1.526   \u001b[0m | \u001b[0m 11.12   \u001b[0m | \u001b[0m 5.282   \u001b[0m | \u001b[0m 485.4   \u001b[0m | \u001b[0m 0.8961  \u001b[0m |\n",
            "[13:05:22] WARNING: /workspace/src/objective/regression_obj.cu:152: reg:linear is now deprecated in favor of reg:squarederror.\n",
            "[13:05:29] WARNING: /workspace/src/objective/regression_obj.cu:152: reg:linear is now deprecated in favor of reg:squarederror.\n",
            "[13:05:36] WARNING: /workspace/src/objective/regression_obj.cu:152: reg:linear is now deprecated in favor of reg:squarederror.\n",
            "[13:05:44] WARNING: /workspace/src/objective/regression_obj.cu:152: reg:linear is now deprecated in favor of reg:squarederror.\n",
            "[13:05:51] WARNING: /workspace/src/objective/regression_obj.cu:152: reg:linear is now deprecated in favor of reg:squarederror.\n",
            "| \u001b[0m 20      \u001b[0m | \u001b[0m-295.7   \u001b[0m | \u001b[0m 5.026   \u001b[0m | \u001b[0m 10.83   \u001b[0m | \u001b[0m 8.192   \u001b[0m | \u001b[0m 217.1   \u001b[0m | \u001b[0m 0.9339  \u001b[0m |\n",
            "[13:05:59] WARNING: /workspace/src/objective/regression_obj.cu:152: reg:linear is now deprecated in favor of reg:squarederror.\n",
            "[13:06:10] WARNING: /workspace/src/objective/regression_obj.cu:152: reg:linear is now deprecated in favor of reg:squarederror.\n",
            "[13:06:21] WARNING: /workspace/src/objective/regression_obj.cu:152: reg:linear is now deprecated in favor of reg:squarederror.\n",
            "[13:06:33] WARNING: /workspace/src/objective/regression_obj.cu:152: reg:linear is now deprecated in favor of reg:squarederror.\n",
            "[13:06:44] WARNING: /workspace/src/objective/regression_obj.cu:152: reg:linear is now deprecated in favor of reg:squarederror.\n",
            "| \u001b[0m 21      \u001b[0m | \u001b[0m-175.2   \u001b[0m | \u001b[0m 0.583   \u001b[0m | \u001b[0m 7.64    \u001b[0m | \u001b[0m 0.4351  \u001b[0m | \u001b[0m 402.4   \u001b[0m | \u001b[0m 0.9192  \u001b[0m |\n",
            "[13:06:55] WARNING: /workspace/src/objective/regression_obj.cu:152: reg:linear is now deprecated in favor of reg:squarederror.\n",
            "[13:07:07] WARNING: /workspace/src/objective/regression_obj.cu:152: reg:linear is now deprecated in favor of reg:squarederror.\n",
            "[13:07:18] WARNING: /workspace/src/objective/regression_obj.cu:152: reg:linear is now deprecated in favor of reg:squarederror.\n",
            "[13:07:29] WARNING: /workspace/src/objective/regression_obj.cu:152: reg:linear is now deprecated in favor of reg:squarederror.\n",
            "[13:07:41] WARNING: /workspace/src/objective/regression_obj.cu:152: reg:linear is now deprecated in favor of reg:squarederror.\n",
            "| \u001b[95m 22      \u001b[0m | \u001b[95m-173.3   \u001b[0m | \u001b[95m 0.6604  \u001b[0m | \u001b[95m 7.718   \u001b[0m | \u001b[95m 0.5629  \u001b[0m | \u001b[95m 402.6   \u001b[0m | \u001b[95m 0.9138  \u001b[0m |\n",
            "[13:07:53] WARNING: /workspace/src/objective/regression_obj.cu:152: reg:linear is now deprecated in favor of reg:squarederror.\n",
            "[13:08:04] WARNING: /workspace/src/objective/regression_obj.cu:152: reg:linear is now deprecated in favor of reg:squarederror.\n",
            "[13:08:16] WARNING: /workspace/src/objective/regression_obj.cu:152: reg:linear is now deprecated in favor of reg:squarederror.\n",
            "[13:08:27] WARNING: /workspace/src/objective/regression_obj.cu:152: reg:linear is now deprecated in favor of reg:squarederror.\n",
            "[13:08:39] WARNING: /workspace/src/objective/regression_obj.cu:152: reg:linear is now deprecated in favor of reg:squarederror.\n",
            "| \u001b[0m 23      \u001b[0m | \u001b[0m-174.4   \u001b[0m | \u001b[0m 0.7916  \u001b[0m | \u001b[0m 7.682   \u001b[0m | \u001b[0m 0.188   \u001b[0m | \u001b[0m 403.0   \u001b[0m | \u001b[0m 0.8692  \u001b[0m |\n",
            "[13:08:51] WARNING: /workspace/src/objective/regression_obj.cu:152: reg:linear is now deprecated in favor of reg:squarederror.\n",
            "[13:09:02] WARNING: /workspace/src/objective/regression_obj.cu:152: reg:linear is now deprecated in favor of reg:squarederror.\n",
            "[13:09:14] WARNING: /workspace/src/objective/regression_obj.cu:152: reg:linear is now deprecated in favor of reg:squarederror.\n",
            "[13:09:25] WARNING: /workspace/src/objective/regression_obj.cu:152: reg:linear is now deprecated in favor of reg:squarederror.\n",
            "[13:09:37] WARNING: /workspace/src/objective/regression_obj.cu:152: reg:linear is now deprecated in favor of reg:squarederror.\n",
            "| \u001b[0m 24      \u001b[0m | \u001b[0m-174.7   \u001b[0m | \u001b[0m 0.7102  \u001b[0m | \u001b[0m 7.689   \u001b[0m | \u001b[0m 0.3659  \u001b[0m | \u001b[0m 402.8   \u001b[0m | \u001b[0m 0.8936  \u001b[0m |\n",
            "[13:09:48] WARNING: /workspace/src/objective/regression_obj.cu:152: reg:linear is now deprecated in favor of reg:squarederror.\n",
            "[13:10:06] WARNING: /workspace/src/objective/regression_obj.cu:152: reg:linear is now deprecated in favor of reg:squarederror.\n",
            "[13:10:23] WARNING: /workspace/src/objective/regression_obj.cu:152: reg:linear is now deprecated in favor of reg:squarederror.\n",
            "[13:10:40] WARNING: /workspace/src/objective/regression_obj.cu:152: reg:linear is now deprecated in favor of reg:squarederror.\n",
            "[13:10:57] WARNING: /workspace/src/objective/regression_obj.cu:152: reg:linear is now deprecated in favor of reg:squarederror.\n",
            "| \u001b[0m 25      \u001b[0m | \u001b[0m-177.1   \u001b[0m | \u001b[0m 5.609   \u001b[0m | \u001b[0m 10.55   \u001b[0m | \u001b[0m 0.1387  \u001b[0m | \u001b[0m 431.8   \u001b[0m | \u001b[0m 0.9754  \u001b[0m |\n",
            "[13:11:15] WARNING: /workspace/src/objective/regression_obj.cu:152: reg:linear is now deprecated in favor of reg:squarederror.\n",
            "[13:11:26] WARNING: /workspace/src/objective/regression_obj.cu:152: reg:linear is now deprecated in favor of reg:squarederror.\n",
            "[13:11:37] WARNING: /workspace/src/objective/regression_obj.cu:152: reg:linear is now deprecated in favor of reg:squarederror.\n",
            "[13:11:49] WARNING: /workspace/src/objective/regression_obj.cu:152: reg:linear is now deprecated in favor of reg:squarederror.\n",
            "[13:12:00] WARNING: /workspace/src/objective/regression_obj.cu:152: reg:linear is now deprecated in favor of reg:squarederror.\n",
            "| \u001b[0m 26      \u001b[0m | \u001b[0m-175.2   \u001b[0m | \u001b[0m 0.701   \u001b[0m | \u001b[0m 7.748   \u001b[0m | \u001b[0m 0.5911  \u001b[0m | \u001b[0m 402.7   \u001b[0m | \u001b[0m 0.9083  \u001b[0m |\n",
            "[13:12:12] WARNING: /workspace/src/objective/regression_obj.cu:152: reg:linear is now deprecated in favor of reg:squarederror.\n",
            "[13:12:29] WARNING: /workspace/src/objective/regression_obj.cu:152: reg:linear is now deprecated in favor of reg:squarederror.\n",
            "[13:12:47] WARNING: /workspace/src/objective/regression_obj.cu:152: reg:linear is now deprecated in favor of reg:squarederror.\n",
            "[13:13:04] WARNING: /workspace/src/objective/regression_obj.cu:152: reg:linear is now deprecated in favor of reg:squarederror.\n",
            "[13:13:21] WARNING: /workspace/src/objective/regression_obj.cu:152: reg:linear is now deprecated in favor of reg:squarederror.\n",
            "| \u001b[0m 27      \u001b[0m | \u001b[0m-177.5   \u001b[0m | \u001b[0m 5.603   \u001b[0m | \u001b[0m 10.58   \u001b[0m | \u001b[0m 0.1567  \u001b[0m | \u001b[0m 431.8   \u001b[0m | \u001b[0m 0.9711  \u001b[0m |\n",
            "[13:13:39] WARNING: /workspace/src/objective/regression_obj.cu:152: reg:linear is now deprecated in favor of reg:squarederror.\n",
            "[13:13:51] WARNING: /workspace/src/objective/regression_obj.cu:152: reg:linear is now deprecated in favor of reg:squarederror.\n",
            "[13:14:03] WARNING: /workspace/src/objective/regression_obj.cu:152: reg:linear is now deprecated in favor of reg:squarederror.\n",
            "[13:14:16] WARNING: /workspace/src/objective/regression_obj.cu:152: reg:linear is now deprecated in favor of reg:squarederror.\n",
            "[13:14:29] WARNING: /workspace/src/objective/regression_obj.cu:152: reg:linear is now deprecated in favor of reg:squarederror.\n",
            "| \u001b[0m 28      \u001b[0m | \u001b[0m-203.5   \u001b[0m | \u001b[0m 3.565   \u001b[0m | \u001b[0m 11.7    \u001b[0m | \u001b[0m 1.204   \u001b[0m | \u001b[0m 310.7   \u001b[0m | \u001b[0m 0.9937  \u001b[0m |\n",
            "[13:14:42] WARNING: /workspace/src/objective/regression_obj.cu:152: reg:linear is now deprecated in favor of reg:squarederror.\n",
            "[13:14:55] WARNING: /workspace/src/objective/regression_obj.cu:152: reg:linear is now deprecated in favor of reg:squarederror.\n",
            "[13:15:09] WARNING: /workspace/src/objective/regression_obj.cu:152: reg:linear is now deprecated in favor of reg:squarederror.\n",
            "[13:15:22] WARNING: /workspace/src/objective/regression_obj.cu:152: reg:linear is now deprecated in favor of reg:squarederror.\n",
            "[13:15:35] WARNING: /workspace/src/objective/regression_obj.cu:152: reg:linear is now deprecated in favor of reg:squarederror.\n",
            "| \u001b[0m 29      \u001b[0m | \u001b[0m-176.7   \u001b[0m | \u001b[0m 0.7035  \u001b[0m | \u001b[0m 8.442   \u001b[0m | \u001b[0m 0.7878  \u001b[0m | \u001b[0m 402.7   \u001b[0m | \u001b[0m 0.8725  \u001b[0m |\n",
            "[13:15:49] WARNING: /workspace/src/objective/regression_obj.cu:152: reg:linear is now deprecated in favor of reg:squarederror.\n",
            "[13:16:05] WARNING: /workspace/src/objective/regression_obj.cu:152: reg:linear is now deprecated in favor of reg:squarederror.\n",
            "[13:16:20] WARNING: /workspace/src/objective/regression_obj.cu:152: reg:linear is now deprecated in favor of reg:squarederror.\n",
            "[13:16:36] WARNING: /workspace/src/objective/regression_obj.cu:152: reg:linear is now deprecated in favor of reg:squarederror.\n",
            "[13:16:52] WARNING: /workspace/src/objective/regression_obj.cu:152: reg:linear is now deprecated in favor of reg:squarederror.\n",
            "| \u001b[0m 30      \u001b[0m | \u001b[0m-175.9   \u001b[0m | \u001b[0m 4.532   \u001b[0m | \u001b[0m 9.544   \u001b[0m | \u001b[0m 0.9973  \u001b[0m | \u001b[0m 431.5   \u001b[0m | \u001b[0m 0.9412  \u001b[0m |\n",
            "[13:17:08] WARNING: /workspace/src/objective/regression_obj.cu:152: reg:linear is now deprecated in favor of reg:squarederror.\n",
            "[13:17:21] WARNING: /workspace/src/objective/regression_obj.cu:152: reg:linear is now deprecated in favor of reg:squarederror.\n",
            "[13:17:35] WARNING: /workspace/src/objective/regression_obj.cu:152: reg:linear is now deprecated in favor of reg:squarederror.\n",
            "[13:17:49] WARNING: /workspace/src/objective/regression_obj.cu:152: reg:linear is now deprecated in favor of reg:squarederror.\n",
            "[13:18:03] WARNING: /workspace/src/objective/regression_obj.cu:152: reg:linear is now deprecated in favor of reg:squarederror.\n",
            "| \u001b[0m 31      \u001b[0m | \u001b[0m-175.1   \u001b[0m | \u001b[0m 5.189   \u001b[0m | \u001b[0m 8.426   \u001b[0m | \u001b[0m 0.821   \u001b[0m | \u001b[0m 431.6   \u001b[0m | \u001b[0m 0.9434  \u001b[0m |\n",
            "[13:18:17] WARNING: /workspace/src/objective/regression_obj.cu:152: reg:linear is now deprecated in favor of reg:squarederror.\n",
            "[13:18:33] WARNING: /workspace/src/objective/regression_obj.cu:152: reg:linear is now deprecated in favor of reg:squarederror.\n",
            "[13:18:48] WARNING: /workspace/src/objective/regression_obj.cu:152: reg:linear is now deprecated in favor of reg:squarederror.\n",
            "[13:19:04] WARNING: /workspace/src/objective/regression_obj.cu:152: reg:linear is now deprecated in favor of reg:squarederror.\n",
            "[13:19:20] WARNING: /workspace/src/objective/regression_obj.cu:152: reg:linear is now deprecated in favor of reg:squarederror.\n",
            "| \u001b[0m 32      \u001b[0m | \u001b[0m-175.9   \u001b[0m | \u001b[0m 4.679   \u001b[0m | \u001b[0m 9.356   \u001b[0m | \u001b[0m 0.9389  \u001b[0m | \u001b[0m 431.5   \u001b[0m | \u001b[0m 0.9435  \u001b[0m |\n",
            "[13:19:35] WARNING: /workspace/src/objective/regression_obj.cu:152: reg:linear is now deprecated in favor of reg:squarederror.\n",
            "[13:19:49] WARNING: /workspace/src/objective/regression_obj.cu:152: reg:linear is now deprecated in favor of reg:squarederror.\n",
            "[13:20:03] WARNING: /workspace/src/objective/regression_obj.cu:152: reg:linear is now deprecated in favor of reg:squarederror.\n",
            "[13:20:17] WARNING: /workspace/src/objective/regression_obj.cu:152: reg:linear is now deprecated in favor of reg:squarederror.\n",
            "[13:20:30] WARNING: /workspace/src/objective/regression_obj.cu:152: reg:linear is now deprecated in favor of reg:squarederror.\n",
            "| \u001b[0m 33      \u001b[0m | \u001b[0m-176.1   \u001b[0m | \u001b[0m 5.111   \u001b[0m | \u001b[0m 8.574   \u001b[0m | \u001b[0m 0.8377  \u001b[0m | \u001b[0m 431.6   \u001b[0m | \u001b[0m 0.9435  \u001b[0m |\n",
            "[13:20:44] WARNING: /workspace/src/objective/regression_obj.cu:152: reg:linear is now deprecated in favor of reg:squarederror.\n",
            "[13:20:58] WARNING: /workspace/src/objective/regression_obj.cu:152: reg:linear is now deprecated in favor of reg:squarederror.\n",
            "[13:21:11] WARNING: /workspace/src/objective/regression_obj.cu:152: reg:linear is now deprecated in favor of reg:squarederror.\n",
            "[13:21:25] WARNING: /workspace/src/objective/regression_obj.cu:152: reg:linear is now deprecated in favor of reg:squarederror.\n",
            "[13:21:38] WARNING: /workspace/src/objective/regression_obj.cu:152: reg:linear is now deprecated in favor of reg:squarederror.\n",
            "| \u001b[0m 34      \u001b[0m | \u001b[0m-206.2   \u001b[0m | \u001b[0m 4.553   \u001b[0m | \u001b[0m 8.567   \u001b[0m | \u001b[0m 1.122   \u001b[0m | \u001b[0m 432.0   \u001b[0m | \u001b[0m 0.8958  \u001b[0m |\n",
            "[13:21:52] WARNING: /workspace/src/objective/regression_obj.cu:152: reg:linear is now deprecated in favor of reg:squarederror.\n",
            "[13:22:06] WARNING: /workspace/src/objective/regression_obj.cu:152: reg:linear is now deprecated in favor of reg:squarederror.\n",
            "[13:22:19] WARNING: /workspace/src/objective/regression_obj.cu:152: reg:linear is now deprecated in favor of reg:squarederror.\n",
            "[13:22:33] WARNING: /workspace/src/objective/regression_obj.cu:152: reg:linear is now deprecated in favor of reg:squarederror.\n",
            "[13:22:46] WARNING: /workspace/src/objective/regression_obj.cu:152: reg:linear is now deprecated in favor of reg:squarederror.\n",
            "| \u001b[0m 35      \u001b[0m | \u001b[0m-176.2   \u001b[0m | \u001b[0m 1.064   \u001b[0m | \u001b[0m 8.645   \u001b[0m | \u001b[0m 0.414   \u001b[0m | \u001b[0m 402.6   \u001b[0m | \u001b[0m 0.8652  \u001b[0m |\n",
            "[13:23:00] WARNING: /workspace/src/objective/regression_obj.cu:152: reg:linear is now deprecated in favor of reg:squarederror.\n",
            "[13:23:14] WARNING: /workspace/src/objective/regression_obj.cu:152: reg:linear is now deprecated in favor of reg:squarederror.\n",
            "[13:23:28] WARNING: /workspace/src/objective/regression_obj.cu:152: reg:linear is now deprecated in favor of reg:squarederror.\n",
            "[13:23:42] WARNING: /workspace/src/objective/regression_obj.cu:152: reg:linear is now deprecated in favor of reg:squarederror.\n",
            "[13:23:56] WARNING: /workspace/src/objective/regression_obj.cu:152: reg:linear is now deprecated in favor of reg:squarederror.\n",
            "| \u001b[0m 36      \u001b[0m | \u001b[0m-214.6   \u001b[0m | \u001b[0m 3.667   \u001b[0m | \u001b[0m 11.37   \u001b[0m | \u001b[0m 1.162   \u001b[0m | \u001b[0m 310.9   \u001b[0m | \u001b[0m 0.831   \u001b[0m |\n",
            "[13:24:11] WARNING: /workspace/src/objective/regression_obj.cu:152: reg:linear is now deprecated in favor of reg:squarederror.\n",
            "[13:24:29] WARNING: /workspace/src/objective/regression_obj.cu:152: reg:linear is now deprecated in favor of reg:squarederror.\n",
            "[13:24:47] WARNING: /workspace/src/objective/regression_obj.cu:152: reg:linear is now deprecated in favor of reg:squarederror.\n",
            "[13:25:05] WARNING: /workspace/src/objective/regression_obj.cu:152: reg:linear is now deprecated in favor of reg:squarederror.\n",
            "[13:25:23] WARNING: /workspace/src/objective/regression_obj.cu:152: reg:linear is now deprecated in favor of reg:squarederror.\n",
            "| \u001b[0m 37      \u001b[0m | \u001b[0m-176.5   \u001b[0m | \u001b[0m 3.916   \u001b[0m | \u001b[0m 10.62   \u001b[0m | \u001b[0m 0.3074  \u001b[0m | \u001b[0m 430.8   \u001b[0m | \u001b[0m 0.9158  \u001b[0m |\n",
            "[13:25:41] WARNING: /workspace/src/objective/regression_obj.cu:152: reg:linear is now deprecated in favor of reg:squarederror.\n",
            "[13:25:59] WARNING: /workspace/src/objective/regression_obj.cu:152: reg:linear is now deprecated in favor of reg:squarederror.\n",
            "[13:26:16] WARNING: /workspace/src/objective/regression_obj.cu:152: reg:linear is now deprecated in favor of reg:squarederror.\n",
            "[13:26:34] WARNING: /workspace/src/objective/regression_obj.cu:152: reg:linear is now deprecated in favor of reg:squarederror.\n",
            "[13:26:52] WARNING: /workspace/src/objective/regression_obj.cu:152: reg:linear is now deprecated in favor of reg:squarederror.\n",
            "| \u001b[0m 38      \u001b[0m | \u001b[0m-208.7   \u001b[0m | \u001b[0m 3.781   \u001b[0m | \u001b[0m 10.86   \u001b[0m | \u001b[0m 1.023   \u001b[0m | \u001b[0m 430.7   \u001b[0m | \u001b[0m 0.8451  \u001b[0m |\n",
            "[13:27:10] WARNING: /workspace/src/objective/regression_obj.cu:152: reg:linear is now deprecated in favor of reg:squarederror.\n",
            "[13:27:23] WARNING: /workspace/src/objective/regression_obj.cu:152: reg:linear is now deprecated in favor of reg:squarederror.\n",
            "[13:27:35] WARNING: /workspace/src/objective/regression_obj.cu:152: reg:linear is now deprecated in favor of reg:squarederror.\n",
            "[13:27:47] WARNING: /workspace/src/objective/regression_obj.cu:152: reg:linear is now deprecated in favor of reg:squarederror.\n",
            "[13:27:59] WARNING: /workspace/src/objective/regression_obj.cu:152: reg:linear is now deprecated in favor of reg:squarederror.\n",
            "| \u001b[0m 39      \u001b[0m | \u001b[0m-175.2   \u001b[0m | \u001b[0m 0.8186  \u001b[0m | \u001b[0m 8.581   \u001b[0m | \u001b[0m 0.1596  \u001b[0m | \u001b[0m 401.9   \u001b[0m | \u001b[0m 0.9955  \u001b[0m |\n",
            "[13:28:12] WARNING: /workspace/src/objective/regression_obj.cu:152: reg:linear is now deprecated in favor of reg:squarederror.\n",
            "[13:28:26] WARNING: /workspace/src/objective/regression_obj.cu:152: reg:linear is now deprecated in favor of reg:squarederror.\n",
            "[13:28:40] WARNING: /workspace/src/objective/regression_obj.cu:152: reg:linear is now deprecated in favor of reg:squarederror.\n",
            "[13:28:54] WARNING: /workspace/src/objective/regression_obj.cu:152: reg:linear is now deprecated in favor of reg:squarederror.\n",
            "[13:29:08] WARNING: /workspace/src/objective/regression_obj.cu:152: reg:linear is now deprecated in favor of reg:squarederror.\n",
            "| \u001b[0m 40      \u001b[0m | \u001b[0m-176.0   \u001b[0m | \u001b[0m 5.567   \u001b[0m | \u001b[0m 8.153   \u001b[0m | \u001b[0m 0.636   \u001b[0m | \u001b[0m 432.4   \u001b[0m | \u001b[0m 0.9334  \u001b[0m |\n",
            "[13:29:22] WARNING: /workspace/src/objective/regression_obj.cu:152: reg:linear is now deprecated in favor of reg:squarederror.\n",
            "[13:29:35] WARNING: /workspace/src/objective/regression_obj.cu:152: reg:linear is now deprecated in favor of reg:squarederror.\n",
            "[13:29:48] WARNING: /workspace/src/objective/regression_obj.cu:152: reg:linear is now deprecated in favor of reg:squarederror.\n",
            "[13:30:01] WARNING: /workspace/src/objective/regression_obj.cu:152: reg:linear is now deprecated in favor of reg:squarederror.\n",
            "[13:30:14] WARNING: /workspace/src/objective/regression_obj.cu:152: reg:linear is now deprecated in favor of reg:squarederror.\n",
            "| \u001b[0m 41      \u001b[0m | \u001b[0m-176.8   \u001b[0m | \u001b[0m 0.765   \u001b[0m | \u001b[0m 8.231   \u001b[0m | \u001b[0m 0.3789  \u001b[0m | \u001b[0m 402.4   \u001b[0m | \u001b[0m 0.918   \u001b[0m |\n",
            "[13:30:27] WARNING: /workspace/src/objective/regression_obj.cu:152: reg:linear is now deprecated in favor of reg:squarederror.\n",
            "[13:30:41] WARNING: /workspace/src/objective/regression_obj.cu:152: reg:linear is now deprecated in favor of reg:squarederror.\n",
            "[13:30:55] WARNING: /workspace/src/objective/regression_obj.cu:152: reg:linear is now deprecated in favor of reg:squarederror.\n",
            "[13:31:09] WARNING: /workspace/src/objective/regression_obj.cu:152: reg:linear is now deprecated in favor of reg:squarederror.\n",
            "[13:31:23] WARNING: /workspace/src/objective/regression_obj.cu:152: reg:linear is now deprecated in favor of reg:squarederror.\n",
            "| \u001b[0m 42      \u001b[0m | \u001b[0m-211.3   \u001b[0m | \u001b[0m 5.211   \u001b[0m | \u001b[0m 8.345   \u001b[0m | \u001b[0m 1.804   \u001b[0m | \u001b[0m 431.7   \u001b[0m | \u001b[0m 0.8373  \u001b[0m |\n",
            "[13:31:38] WARNING: /workspace/src/objective/regression_obj.cu:152: reg:linear is now deprecated in favor of reg:squarederror.\n",
            "[13:31:56] WARNING: /workspace/src/objective/regression_obj.cu:152: reg:linear is now deprecated in favor of reg:squarederror.\n",
            "[13:32:11] WARNING: /workspace/src/objective/regression_obj.cu:152: reg:linear is now deprecated in favor of reg:squarederror.\n",
            "[13:32:26] WARNING: /workspace/src/objective/regression_obj.cu:152: reg:linear is now deprecated in favor of reg:squarederror.\n",
            "[13:32:41] WARNING: /workspace/src/objective/regression_obj.cu:152: reg:linear is now deprecated in favor of reg:squarederror.\n",
            "| \u001b[0m 43      \u001b[0m | \u001b[0m-176.1   \u001b[0m | \u001b[0m 4.812   \u001b[0m | \u001b[0m 8.629   \u001b[0m | \u001b[0m 0.5381  \u001b[0m | \u001b[0m 431.5   \u001b[0m | \u001b[0m 0.8154  \u001b[0m |\n",
            "[13:32:56] WARNING: /workspace/src/objective/regression_obj.cu:152: reg:linear is now deprecated in favor of reg:squarederror.\n",
            "[13:33:07] WARNING: /workspace/src/objective/regression_obj.cu:152: reg:linear is now deprecated in favor of reg:squarederror.\n",
            "[13:33:18] WARNING: /workspace/src/objective/regression_obj.cu:152: reg:linear is now deprecated in favor of reg:squarederror.\n",
            "[13:33:29] WARNING: /workspace/src/objective/regression_obj.cu:152: reg:linear is now deprecated in favor of reg:squarederror.\n",
            "[13:33:41] WARNING: /workspace/src/objective/regression_obj.cu:152: reg:linear is now deprecated in favor of reg:squarederror.\n",
            "| \u001b[0m 44      \u001b[0m | \u001b[0m-173.6   \u001b[0m | \u001b[0m 0.7637  \u001b[0m | \u001b[0m 7.303   \u001b[0m | \u001b[0m 0.1821  \u001b[0m | \u001b[0m 402.1   \u001b[0m | \u001b[0m 0.9318  \u001b[0m |\n",
            "[13:33:52] WARNING: /workspace/src/objective/regression_obj.cu:152: reg:linear is now deprecated in favor of reg:squarederror.\n",
            "[13:34:12] WARNING: /workspace/src/objective/regression_obj.cu:152: reg:linear is now deprecated in favor of reg:squarederror.\n",
            "[13:34:31] WARNING: /workspace/src/objective/regression_obj.cu:152: reg:linear is now deprecated in favor of reg:squarederror.\n",
            "[13:34:51] WARNING: /workspace/src/objective/regression_obj.cu:152: reg:linear is now deprecated in favor of reg:squarederror.\n",
            "[13:35:10] WARNING: /workspace/src/objective/regression_obj.cu:152: reg:linear is now deprecated in favor of reg:squarederror.\n",
            "| \u001b[0m 45      \u001b[0m | \u001b[0m-178.4   \u001b[0m | \u001b[0m 6.33    \u001b[0m | \u001b[0m 11.37   \u001b[0m | \u001b[0m 0.3367  \u001b[0m | \u001b[0m 431.6   \u001b[0m | \u001b[0m 0.9588  \u001b[0m |\n",
            "=====================================================================================\n",
            "Final result: {'target': -173.34316941199845, 'params': {'gamma': 0.6604220629070646, 'max_depth': 7.717585482730352, 'min_child_weight': 0.5628674807074144, 'n_estimators': 402.62301199186254, 'subsample': 0.9138065740563963}}\n"
          ],
          "name": "stdout"
        }
      ]
    },
    {
      "cell_type": "code",
      "metadata": {
        "id": "L-4Fh6L_BsMM"
      },
      "source": [
        "\n",
        "xgb = XGBRegressor(\n",
        "        n_estimators=int(402.62301199186254),\n",
        "        max_depth = int(7.717585482730352),\n",
        "        gamma = 0.6604220629070646,\n",
        "        min_child_weight=0.5628674807074144,\n",
        "        subsample =0.9138065740563963,\n",
        "        random_state = 42,\n",
        "    )"
      ],
      "execution_count": 32,
      "outputs": []
    },
    {
      "cell_type": "markdown",
      "metadata": {
        "id": "-fooobY0Bucg"
      },
      "source": [
        "#Hyperparameter tuning of Catboost Regressor using Bayesian optimization"
      ]
    },
    {
      "cell_type": "code",
      "metadata": {
        "id": "AZiz08MRByAy"
      },
      "source": [
        "def cb_cv(n_estimators, depth,data, targets):\n",
        "    estimator = CatBoostRegressor(\n",
        "        n_estimators=n_estimators,\n",
        "#         learning_rate=learning_rate,\n",
        "        depth=depth,\n",
        "        random_state = 2,\n",
        "        verbose = 0,\n",
        "    )\n",
        "    cval = cross_val_score(estimator, data, targets,\n",
        "                           scoring=rmse, cv=5)\n",
        "    return cval.mean()"
      ],
      "execution_count": null,
      "outputs": []
    },
    {
      "cell_type": "code",
      "metadata": {
        "id": "ZhYC7mGnB0ag"
      },
      "source": [
        "def optimize_cb(data, targets):\n",
        "    def cb_crossval(n_estimators, depth):\n",
        "        return cb_cv(\n",
        "            n_estimators=int(n_estimators),\n",
        "#             learning_rate = learning_rate,\n",
        "            depth = int(depth),\n",
        "            data=data,\n",
        "            targets=targets,\n",
        "        )\n",
        "\n",
        "    optimizer = BayesianOptimization(\n",
        "        f=cb_crossval,\n",
        "        pbounds={\n",
        "            \"n_estimators\": (200, 600),\n",
        "#             \"learning_rate\": (0.01,10),\n",
        "            \"depth\": (4,16),\n",
        "        },\n",
        "        random_state=1234,\n",
        "        verbose=2\n",
        "    )\n",
        "    optimizer.maximize(n_iter=25, init_points=20)\n",
        "\n",
        "    print(\"Final result:\", optimizer.max)\n"
      ],
      "execution_count": null,
      "outputs": []
    },
    {
      "cell_type": "code",
      "metadata": {
        "id": "yewSrOHTXX5u",
        "outputId": "58ca31ac-9919-40ee-9177-d7ad57c341f0",
        "colab": {
          "base_uri": "https://localhost:8080/",
          "height": 85
        }
      },
      "source": [
        "train_new.columns"
      ],
      "execution_count": null,
      "outputs": [
        {
          "output_type": "execute_result",
          "data": {
            "text/plain": [
              "Index(['UNDER_CONSTRUCTION', 'RERA', 'BHK_NO.', 'SQUARE_FT', 'READY_TO_MOVE',\n",
              "       'RESALE', 'LONGITUDE', 'LATITUDE', 'TARGET(PRICE_IN_LACS)', 'Builder',\n",
              "       'Dealer', 'Owner', 'BHK', 'RK'],\n",
              "      dtype='object')"
            ]
          },
          "metadata": {
            "tags": []
          },
          "execution_count": 24
        }
      ]
    },
    {
      "cell_type": "code",
      "metadata": {
        "id": "T0E1oE9aXykQ",
        "outputId": "a73b04e2-a558-4059-f77c-a0bdb244286b",
        "colab": {
          "base_uri": "https://localhost:8080/",
          "height": 85
        }
      },
      "source": [
        "features"
      ],
      "execution_count": null,
      "outputs": [
        {
          "output_type": "execute_result",
          "data": {
            "text/plain": [
              "Index(['UNDER_CONSTRUCTION', 'RERA', 'BHK_NO.', 'SQUARE_FT', 'READY_TO_MOVE',\n",
              "       'RESALE', 'LONGITUDE', 'LATITUDE', 'Builder', 'Dealer', 'Owner', 'BHK',\n",
              "       'RK'],\n",
              "      dtype='object')"
            ]
          },
          "metadata": {
            "tags": []
          },
          "execution_count": 26
        }
      ]
    },
    {
      "cell_type": "code",
      "metadata": {
        "id": "9C7e9S-1B7Ve",
        "outputId": "1768ac2b-bb21-4b8b-d377-573e52469b36",
        "colab": {
          "base_uri": "https://localhost:8080/",
          "height": 867
        }
      },
      "source": [
        "X = train_new[features]\n",
        "Y = train[target]\n",
        "print(Colours.bold(\"--- Optimizing Catboost ---\"))\n",
        "optimize_cb(X,Y)"
      ],
      "execution_count": null,
      "outputs": [
        {
          "output_type": "stream",
          "text": [
            "\u001b[1m--- Optimizing Catboost ---\u001b[0m\n",
            "|   iter    |  target   |   depth   | n_esti... |\n",
            "-------------------------------------------------\n",
            "| \u001b[0m 1       \u001b[0m | \u001b[0m-299.7   \u001b[0m | \u001b[0m 6.298   \u001b[0m | \u001b[0m 448.8   \u001b[0m |\n",
            "| \u001b[0m 2       \u001b[0m | \u001b[0m-307.7   \u001b[0m | \u001b[0m 9.253   \u001b[0m | \u001b[0m 514.1   \u001b[0m |\n",
            "| \u001b[0m 3       \u001b[0m | \u001b[0m-306.2   \u001b[0m | \u001b[0m 13.36   \u001b[0m | \u001b[0m 309.0   \u001b[0m |\n",
            "| \u001b[0m 4       \u001b[0m | \u001b[0m-301.6   \u001b[0m | \u001b[0m 7.318   \u001b[0m | \u001b[0m 520.7   \u001b[0m |\n",
            "| \u001b[95m 5       \u001b[0m | \u001b[95m-290.9   \u001b[0m | \u001b[95m 15.5    \u001b[0m | \u001b[95m 550.4   \u001b[0m |\n",
            "| \u001b[0m 6       \u001b[0m | \u001b[0m-296.2   \u001b[0m | \u001b[0m 8.294   \u001b[0m | \u001b[0m 400.4   \u001b[0m |\n",
            "| \u001b[0m 7       \u001b[0m | \u001b[0m-301.5   \u001b[0m | \u001b[0m 12.2    \u001b[0m | \u001b[0m 485.1   \u001b[0m |\n",
            "| \u001b[95m 8       \u001b[0m | \u001b[95m-289.1   \u001b[0m | \u001b[95m 8.443   \u001b[0m | \u001b[95m 424.5   \u001b[0m |\n",
            "| \u001b[0m 9       \u001b[0m | \u001b[0m-294.6   \u001b[0m | \u001b[0m 10.04   \u001b[0m | \u001b[0m 205.5   \u001b[0m |\n",
            "| \u001b[0m 10      \u001b[0m | \u001b[0m-299.1   \u001b[0m | \u001b[0m 13.27   \u001b[0m | \u001b[0m 553.1   \u001b[0m |\n",
            "| \u001b[0m 11      \u001b[0m | \u001b[0m-299.1   \u001b[0m | \u001b[0m 8.379   \u001b[0m | \u001b[0m 446.2   \u001b[0m |\n",
            "| \u001b[95m 12      \u001b[0m | \u001b[95m-284.9   \u001b[0m | \u001b[95m 4.905   \u001b[0m | \u001b[95m 347.5   \u001b[0m |\n",
            "| \u001b[0m 13      \u001b[0m | \u001b[0m-300.2   \u001b[0m | \u001b[0m 15.2    \u001b[0m | \u001b[0m 460.6   \u001b[0m |\n",
            "| \u001b[0m 14      \u001b[0m | \u001b[0m-300.7   \u001b[0m | \u001b[0m 8.766   \u001b[0m | \u001b[0m 515.5   \u001b[0m |\n",
            "| \u001b[0m 15      \u001b[0m | \u001b[0m-306.4   \u001b[0m | \u001b[0m 7.802   \u001b[0m | \u001b[0m 427.2   \u001b[0m |\n",
            "| \u001b[0m 16      \u001b[0m | \u001b[0m-306.6   \u001b[0m | \u001b[0m 14.43   \u001b[0m | \u001b[0m 374.5   \u001b[0m |\n",
            "| \u001b[0m 17      \u001b[0m | \u001b[0m-294.7   \u001b[0m | \u001b[0m 13.63   \u001b[0m | \u001b[0m 257.5   \u001b[0m |\n",
            "| \u001b[0m 18      \u001b[0m | \u001b[0m-300.8   \u001b[0m | \u001b[0m 12.45   \u001b[0m | \u001b[0m 481.8   \u001b[0m |\n",
            "| \u001b[0m 19      \u001b[0m | \u001b[0m-288.2   \u001b[0m | \u001b[0m 6.626   \u001b[0m | \u001b[0m 569.9   \u001b[0m |\n",
            "| \u001b[0m 20      \u001b[0m | \u001b[0m-305.0   \u001b[0m | \u001b[0m 9.306   \u001b[0m | \u001b[0m 563.7   \u001b[0m |\n",
            "| \u001b[0m 21      \u001b[0m | \u001b[0m-287.5   \u001b[0m | \u001b[0m 5.274   \u001b[0m | \u001b[0m 347.7   \u001b[0m |\n",
            "| \u001b[0m 22      \u001b[0m | \u001b[0m-284.9   \u001b[0m | \u001b[0m 4.49    \u001b[0m | \u001b[0m 347.8   \u001b[0m |\n",
            "| \u001b[0m 23      \u001b[0m | \u001b[0m-284.9   \u001b[0m | \u001b[0m 4.762   \u001b[0m | \u001b[0m 347.4   \u001b[0m |\n",
            "| \u001b[0m 24      \u001b[0m | \u001b[0m-287.5   \u001b[0m | \u001b[0m 5.012   \u001b[0m | \u001b[0m 347.7   \u001b[0m |\n",
            "| \u001b[0m 25      \u001b[0m | \u001b[0m-284.9   \u001b[0m | \u001b[0m 4.812   \u001b[0m | \u001b[0m 347.5   \u001b[0m |\n",
            "| \u001b[0m 26      \u001b[0m | \u001b[0m-284.9   \u001b[0m | \u001b[0m 4.887   \u001b[0m | \u001b[0m 347.4   \u001b[0m |\n",
            "| \u001b[0m 27      \u001b[0m | \u001b[0m-284.9   \u001b[0m | \u001b[0m 4.633   \u001b[0m | \u001b[0m 347.5   \u001b[0m |\n",
            "| \u001b[0m 28      \u001b[0m | \u001b[0m-284.9   \u001b[0m | \u001b[0m 4.864   \u001b[0m | \u001b[0m 347.5   \u001b[0m |\n",
            "| \u001b[0m 29      \u001b[0m | \u001b[0m-284.9   \u001b[0m | \u001b[0m 4.586   \u001b[0m | \u001b[0m 347.7   \u001b[0m |\n",
            "| \u001b[0m 30      \u001b[0m | \u001b[0m-284.9   \u001b[0m | \u001b[0m 4.52    \u001b[0m | \u001b[0m 347.9   \u001b[0m |\n",
            "| \u001b[0m 31      \u001b[0m | \u001b[0m-302.5   \u001b[0m | \u001b[0m 9.851   \u001b[0m | \u001b[0m 315.5   \u001b[0m |\n",
            "| \u001b[0m 32      \u001b[0m | \u001b[0m-293.3   \u001b[0m | \u001b[0m 14.1    \u001b[0m | \u001b[0m 597.9   \u001b[0m |\n",
            "| \u001b[0m 33      \u001b[0m | \u001b[0m-289.3   \u001b[0m | \u001b[0m 10.42   \u001b[0m | \u001b[0m 586.4   \u001b[0m |\n",
            "| \u001b[0m 34      \u001b[0m | \u001b[0m-284.9   \u001b[0m | \u001b[0m 4.445   \u001b[0m | \u001b[0m 347.6   \u001b[0m |\n",
            "| \u001b[0m 35      \u001b[0m | \u001b[0m-284.9   \u001b[0m | \u001b[0m 4.227   \u001b[0m | \u001b[0m 347.5   \u001b[0m |\n",
            "| \u001b[0m 36      \u001b[0m | \u001b[0m-284.9   \u001b[0m | \u001b[0m 4.627   \u001b[0m | \u001b[0m 347.4   \u001b[0m |\n",
            "| \u001b[0m 37      \u001b[0m | \u001b[0m-296.0   \u001b[0m | \u001b[0m 15.22   \u001b[0m | \u001b[0m 501.1   \u001b[0m |\n",
            "| \u001b[0m 38      \u001b[0m | \u001b[0m-285.7   \u001b[0m | \u001b[0m 4.649   \u001b[0m | \u001b[0m 273.0   \u001b[0m |\n",
            "| \u001b[0m 39      \u001b[0m | \u001b[0m-300.1   \u001b[0m | \u001b[0m 7.266   \u001b[0m | \u001b[0m 272.2   \u001b[0m |\n",
            "| \u001b[0m 40      \u001b[0m | \u001b[0m-284.9   \u001b[0m | \u001b[0m 4.418   \u001b[0m | \u001b[0m 347.7   \u001b[0m |\n",
            "| \u001b[0m 41      \u001b[0m | \u001b[0m-284.9   \u001b[0m | \u001b[0m 4.801   \u001b[0m | \u001b[0m 347.5   \u001b[0m |\n",
            "| \u001b[0m 42      \u001b[0m | \u001b[0m-284.9   \u001b[0m | \u001b[0m 4.3     \u001b[0m | \u001b[0m 347.5   \u001b[0m |\n",
            "| \u001b[0m 43      \u001b[0m | \u001b[0m-287.5   \u001b[0m | \u001b[0m 5.155   \u001b[0m | \u001b[0m 347.4   \u001b[0m |\n",
            "| \u001b[0m 44      \u001b[0m | \u001b[0m-287.5   \u001b[0m | \u001b[0m 5.08    \u001b[0m | \u001b[0m 347.7   \u001b[0m |\n",
            "| \u001b[0m 45      \u001b[0m | \u001b[0m-284.9   \u001b[0m | \u001b[0m 4.619   \u001b[0m | \u001b[0m 347.7   \u001b[0m |\n",
            "=================================================\n",
            "Final result: {'target': -284.8534231930876, 'params': {'depth': 4.904574899715719, 'n_estimators': 347.5296024007898}}\n"
          ],
          "name": "stdout"
        }
      ]
    },
    {
      "cell_type": "code",
      "metadata": {
        "id": "632PKpDSB8Ae"
      },
      "source": [
        "cb = CatBoostRegressor(n_estimators=347.5296024007898,\n",
        "                      depth = 4.904574899715719,\n",
        "                      verbose = 0,\n",
        "                      random_state = 42)"
      ],
      "execution_count": 21,
      "outputs": []
    },
    {
      "cell_type": "markdown",
      "metadata": {
        "id": "fRRe-UzoCGpA"
      },
      "source": [
        "#Hyperparameter tuning of XGBoost RandomForest Regressor using Bayesian optimization"
      ]
    },
    {
      "cell_type": "code",
      "metadata": {
        "id": "5H8_BIAvCHU_"
      },
      "source": [
        "\n",
        "def xgb_cv(n_estimators, max_depth, gamma, min_child_weight, subsample, data, targets):\n",
        "    estimator = XGBRFRegressor(\n",
        "        n_estimators=n_estimators,\n",
        "        max_depth = max_depth,\n",
        "        gamma = gamma,\n",
        "        min_child_weight=min_child_weight,\n",
        "        subsample = subsample,\n",
        "        random_state = 2,\n",
        "    )\n",
        "    cval = cross_val_score(estimator, data, targets,\n",
        "                           scoring=rmse, cv=5)\n",
        "    return cval.mean()"
      ],
      "execution_count": 22,
      "outputs": []
    },
    {
      "cell_type": "code",
      "metadata": {
        "id": "igS1O7gsCMQL"
      },
      "source": [
        "def optimize_xgb(data, targets):\n",
        "    def xgb_crossval(n_estimators, max_depth, gamma, min_child_weight, subsample):\n",
        "        return xgb_cv(\n",
        "            n_estimators=int(n_estimators),\n",
        "            max_depth = int(max_depth),\n",
        "            gamma = gamma,\n",
        "            min_child_weight=min_child_weight,\n",
        "            subsample=subsample,\n",
        "            data=data,\n",
        "            targets=targets,\n",
        "        )\n",
        "\n",
        "    optimizer = BayesianOptimization(\n",
        "        f=xgb_crossval,\n",
        "        pbounds={\n",
        "            \"n_estimators\": (200, 500),\n",
        "            \"max_depth\": (6,15),\n",
        "            \"gamma\": (0,10),\n",
        "            \"min_child_weight\": (0,10),\n",
        "            \"subsample\": (0.8,1.0)\n",
        "        },\n",
        "        random_state=1234,\n",
        "        verbose=2\n",
        "    )\n",
        "    optimizer.maximize(n_iter=25, init_points=20)\n",
        "\n",
        "    print(\"Final result:\", optimizer.max)"
      ],
      "execution_count": 23,
      "outputs": []
    },
    {
      "cell_type": "code",
      "metadata": {
        "id": "4V6X76w_CRyp",
        "outputId": "6dbcb5a9-cda3-4277-9e62-5fd9312e9827",
        "colab": {
          "base_uri": "https://localhost:8080/",
          "height": 1000
        }
      },
      "source": [
        "print(Colours.red(\"--- Optimizing XGBoost RandomForest ---\"))\n",
        "optimize_xgb(X,Y)"
      ],
      "execution_count": 24,
      "outputs": [
        {
          "output_type": "stream",
          "text": [
            "\u001b[91m--- Optimizing XGBoost RandomForest ---\u001b[0m\n",
            "|   iter    |  target   |   gamma   | max_depth | min_ch... | n_esti... | subsample |\n",
            "-------------------------------------------------------------------------------------\n",
            "[11:52:32] WARNING: /workspace/src/objective/regression_obj.cu:152: reg:linear is now deprecated in favor of reg:squarederror.\n",
            "[11:52:49] WARNING: /workspace/src/objective/regression_obj.cu:152: reg:linear is now deprecated in favor of reg:squarederror.\n",
            "[11:53:07] WARNING: /workspace/src/objective/regression_obj.cu:152: reg:linear is now deprecated in favor of reg:squarederror.\n",
            "[11:53:24] WARNING: /workspace/src/objective/regression_obj.cu:152: reg:linear is now deprecated in favor of reg:squarederror.\n",
            "[11:53:41] WARNING: /workspace/src/objective/regression_obj.cu:152: reg:linear is now deprecated in favor of reg:squarederror.\n",
            "| \u001b[0m 1       \u001b[0m | \u001b[0m-267.6   \u001b[0m | \u001b[0m 1.915   \u001b[0m | \u001b[0m 11.6    \u001b[0m | \u001b[0m 4.377   \u001b[0m | \u001b[0m 435.6   \u001b[0m | \u001b[0m 0.956   \u001b[0m |\n",
            "[11:53:58] WARNING: /workspace/src/objective/regression_obj.cu:152: reg:linear is now deprecated in favor of reg:squarederror.\n",
            "[11:54:10] WARNING: /workspace/src/objective/regression_obj.cu:152: reg:linear is now deprecated in favor of reg:squarederror.\n",
            "[11:54:22] WARNING: /workspace/src/objective/regression_obj.cu:152: reg:linear is now deprecated in favor of reg:squarederror.\n",
            "[11:54:33] WARNING: /workspace/src/objective/regression_obj.cu:152: reg:linear is now deprecated in favor of reg:squarederror.\n",
            "[11:54:45] WARNING: /workspace/src/objective/regression_obj.cu:152: reg:linear is now deprecated in favor of reg:squarederror.\n",
            "| \u001b[0m 2       \u001b[0m | \u001b[0m-299.3   \u001b[0m | \u001b[0m 2.726   \u001b[0m | \u001b[0m 8.488   \u001b[0m | \u001b[0m 8.019   \u001b[0m | \u001b[0m 487.4   \u001b[0m | \u001b[0m 0.9752  \u001b[0m |\n",
            "[11:54:56] WARNING: /workspace/src/objective/regression_obj.cu:152: reg:linear is now deprecated in favor of reg:squarederror.\n",
            "[11:55:11] WARNING: /workspace/src/objective/regression_obj.cu:152: reg:linear is now deprecated in favor of reg:squarederror.\n",
            "[11:55:25] WARNING: /workspace/src/objective/regression_obj.cu:152: reg:linear is now deprecated in favor of reg:squarederror.\n",
            "[11:55:40] WARNING: /workspace/src/objective/regression_obj.cu:152: reg:linear is now deprecated in favor of reg:squarederror.\n",
            "[11:55:54] WARNING: /workspace/src/objective/regression_obj.cu:152: reg:linear is now deprecated in favor of reg:squarederror.\n",
            "| \u001b[0m 3       \u001b[0m | \u001b[0m-292.8   \u001b[0m | \u001b[0m 3.578   \u001b[0m | \u001b[0m 10.51   \u001b[0m | \u001b[0m 6.835   \u001b[0m | \u001b[0m 413.8   \u001b[0m | \u001b[0m 0.8741  \u001b[0m |\n",
            "[11:56:08] WARNING: /workspace/src/objective/regression_obj.cu:152: reg:linear is now deprecated in favor of reg:squarederror.\n",
            "[11:56:27] WARNING: /workspace/src/objective/regression_obj.cu:152: reg:linear is now deprecated in favor of reg:squarederror.\n",
            "[11:56:42] WARNING: /workspace/src/objective/regression_obj.cu:152: reg:linear is now deprecated in favor of reg:squarederror.\n",
            "[11:56:56] WARNING: /workspace/src/objective/regression_obj.cu:152: reg:linear is now deprecated in favor of reg:squarederror.\n",
            "[11:57:11] WARNING: /workspace/src/objective/regression_obj.cu:152: reg:linear is now deprecated in favor of reg:squarederror.\n",
            "| \u001b[95m 4       \u001b[0m | \u001b[95m-231.3   \u001b[0m | \u001b[95m 5.612   \u001b[0m | \u001b[95m 10.53   \u001b[0m | \u001b[95m 0.1377  \u001b[0m | \u001b[95m 431.8   \u001b[0m | \u001b[95m 0.9765  \u001b[0m |\n",
            "[11:57:26] WARNING: /workspace/src/objective/regression_obj.cu:152: reg:linear is now deprecated in favor of reg:squarederror.\n",
            "[11:57:38] WARNING: /workspace/src/objective/regression_obj.cu:152: reg:linear is now deprecated in favor of reg:squarederror.\n",
            "[11:57:50] WARNING: /workspace/src/objective/regression_obj.cu:152: reg:linear is now deprecated in favor of reg:squarederror.\n",
            "[11:58:02] WARNING: /workspace/src/objective/regression_obj.cu:152: reg:linear is now deprecated in favor of reg:squarederror.\n",
            "[11:58:14] WARNING: /workspace/src/objective/regression_obj.cu:152: reg:linear is now deprecated in favor of reg:squarederror.\n",
            "| \u001b[95m 5       \u001b[0m | \u001b[95m-230.6   \u001b[0m | \u001b[95m 3.649   \u001b[0m | \u001b[95m 11.54   \u001b[0m | \u001b[95m 0.7538  \u001b[0m | \u001b[95m 310.6   \u001b[0m | \u001b[95m 0.9866  \u001b[0m |\n",
            "[11:58:27] WARNING: /workspace/src/objective/regression_obj.cu:152: reg:linear is now deprecated in favor of reg:squarederror.\n",
            "[11:58:35] WARNING: /workspace/src/objective/regression_obj.cu:152: reg:linear is now deprecated in favor of reg:squarederror.\n",
            "[11:58:44] WARNING: /workspace/src/objective/regression_obj.cu:152: reg:linear is now deprecated in favor of reg:squarederror.\n",
            "[11:58:52] WARNING: /workspace/src/objective/regression_obj.cu:152: reg:linear is now deprecated in favor of reg:squarederror.\n",
            "[11:59:00] WARNING: /workspace/src/objective/regression_obj.cu:152: reg:linear is now deprecated in favor of reg:squarederror.\n",
            "| \u001b[0m 6       \u001b[0m | \u001b[0m-295.4   \u001b[0m | \u001b[0m 6.514   \u001b[0m | \u001b[0m 9.575   \u001b[0m | \u001b[0m 7.887   \u001b[0m | \u001b[0m 295.1   \u001b[0m | \u001b[0m 0.9136  \u001b[0m |\n",
            "[11:59:09] WARNING: /workspace/src/objective/regression_obj.cu:152: reg:linear is now deprecated in favor of reg:squarederror.\n",
            "[11:59:16] WARNING: /workspace/src/objective/regression_obj.cu:152: reg:linear is now deprecated in favor of reg:squarederror.\n",
            "[11:59:23] WARNING: /workspace/src/objective/regression_obj.cu:152: reg:linear is now deprecated in favor of reg:squarederror.\n",
            "[11:59:30] WARNING: /workspace/src/objective/regression_obj.cu:152: reg:linear is now deprecated in favor of reg:squarederror.\n",
            "[11:59:36] WARNING: /workspace/src/objective/regression_obj.cu:152: reg:linear is now deprecated in favor of reg:squarederror.\n",
            "| \u001b[0m 7       \u001b[0m | \u001b[0m-298.0   \u001b[0m | \u001b[0m 8.691   \u001b[0m | \u001b[0m 9.926   \u001b[0m | \u001b[0m 8.021   \u001b[0m | \u001b[0m 243.1   \u001b[0m | \u001b[0m 0.9409  \u001b[0m |\n",
            "[11:59:43] WARNING: /workspace/src/objective/regression_obj.cu:152: reg:linear is now deprecated in favor of reg:squarederror.\n",
            "[11:59:50] WARNING: /workspace/src/objective/regression_obj.cu:152: reg:linear is now deprecated in favor of reg:squarederror.\n",
            "[11:59:56] WARNING: /workspace/src/objective/regression_obj.cu:152: reg:linear is now deprecated in favor of reg:squarederror.\n",
            "[12:00:03] WARNING: /workspace/src/objective/regression_obj.cu:152: reg:linear is now deprecated in favor of reg:squarederror.\n",
            "[12:00:10] WARNING: /workspace/src/objective/regression_obj.cu:152: reg:linear is now deprecated in favor of reg:squarederror.\n",
            "| \u001b[0m 8       \u001b[0m | \u001b[0m-301.2   \u001b[0m | \u001b[0m 7.046   \u001b[0m | \u001b[0m 7.969   \u001b[0m | \u001b[0m 9.249   \u001b[0m | \u001b[0m 332.6   \u001b[0m | \u001b[0m 0.9819  \u001b[0m |\n",
            "[12:00:16] WARNING: /workspace/src/objective/regression_obj.cu:152: reg:linear is now deprecated in favor of reg:squarederror.\n",
            "[12:00:25] WARNING: /workspace/src/objective/regression_obj.cu:152: reg:linear is now deprecated in favor of reg:squarederror.\n",
            "[12:00:33] WARNING: /workspace/src/objective/regression_obj.cu:152: reg:linear is now deprecated in favor of reg:squarederror.\n",
            "[12:00:41] WARNING: /workspace/src/objective/regression_obj.cu:152: reg:linear is now deprecated in favor of reg:squarederror.\n",
            "[12:00:50] WARNING: /workspace/src/objective/regression_obj.cu:152: reg:linear is now deprecated in favor of reg:squarederror.\n",
            "| \u001b[0m 9       \u001b[0m | \u001b[0m-234.7   \u001b[0m | \u001b[0m 0.5981  \u001b[0m | \u001b[0m 7.659   \u001b[0m | \u001b[0m 0.4736  \u001b[0m | \u001b[0m 402.5   \u001b[0m | \u001b[0m 0.9189  \u001b[0m |\n",
            "[12:00:58] WARNING: /workspace/src/objective/regression_obj.cu:152: reg:linear is now deprecated in favor of reg:squarederror.\n",
            "[12:01:03] WARNING: /workspace/src/objective/regression_obj.cu:152: reg:linear is now deprecated in favor of reg:squarederror.\n",
            "[12:01:09] WARNING: /workspace/src/objective/regression_obj.cu:152: reg:linear is now deprecated in favor of reg:squarederror.\n",
            "[12:01:14] WARNING: /workspace/src/objective/regression_obj.cu:152: reg:linear is now deprecated in favor of reg:squarederror.\n",
            "[12:01:19] WARNING: /workspace/src/objective/regression_obj.cu:152: reg:linear is now deprecated in favor of reg:squarederror.\n",
            "| \u001b[0m 10      \u001b[0m | \u001b[0m-288.2   \u001b[0m | \u001b[0m 5.333   \u001b[0m | \u001b[0m 6.39    \u001b[0m | \u001b[0m 5.614   \u001b[0m | \u001b[0m 298.9   \u001b[0m | \u001b[0m 0.9006  \u001b[0m |\n",
            "[12:01:24] WARNING: /workspace/src/objective/regression_obj.cu:152: reg:linear is now deprecated in favor of reg:squarederror.\n",
            "[12:01:32] WARNING: /workspace/src/objective/regression_obj.cu:152: reg:linear is now deprecated in favor of reg:squarederror.\n",
            "[12:01:39] WARNING: /workspace/src/objective/regression_obj.cu:152: reg:linear is now deprecated in favor of reg:squarederror.\n",
            "[12:01:47] WARNING: /workspace/src/objective/regression_obj.cu:152: reg:linear is now deprecated in favor of reg:squarederror.\n",
            "[12:01:55] WARNING: /workspace/src/objective/regression_obj.cu:152: reg:linear is now deprecated in favor of reg:squarederror.\n",
            "| \u001b[0m 11      \u001b[0m | \u001b[0m-282.9   \u001b[0m | \u001b[0m 1.119   \u001b[0m | \u001b[0m 11.46   \u001b[0m | \u001b[0m 5.659   \u001b[0m | \u001b[0m 202.0   \u001b[0m | \u001b[0m 0.9235  \u001b[0m |\n",
            "[12:02:02] WARNING: /workspace/src/objective/regression_obj.cu:152: reg:linear is now deprecated in favor of reg:squarederror.\n",
            "[12:02:27] WARNING: /workspace/src/objective/regression_obj.cu:152: reg:linear is now deprecated in favor of reg:squarederror.\n",
            "[12:02:52] WARNING: /workspace/src/objective/regression_obj.cu:152: reg:linear is now deprecated in favor of reg:squarederror.\n",
            "[12:03:17] WARNING: /workspace/src/objective/regression_obj.cu:152: reg:linear is now deprecated in favor of reg:squarederror.\n",
            "[12:03:41] WARNING: /workspace/src/objective/regression_obj.cu:152: reg:linear is now deprecated in favor of reg:squarederror.\n",
            "| \u001b[0m 12      \u001b[0m | \u001b[0m-298.3   \u001b[0m | \u001b[0m 9.121   \u001b[0m | \u001b[0m 13.11   \u001b[0m | \u001b[0m 9.921   \u001b[0m | \u001b[0m 487.6   \u001b[0m | \u001b[0m 0.9584  \u001b[0m |\n",
            "[12:04:07] WARNING: /workspace/src/objective/regression_obj.cu:152: reg:linear is now deprecated in favor of reg:squarederror.\n",
            "[12:04:17] WARNING: /workspace/src/objective/regression_obj.cu:152: reg:linear is now deprecated in favor of reg:squarederror.\n",
            "[12:04:27] WARNING: /workspace/src/objective/regression_obj.cu:152: reg:linear is now deprecated in favor of reg:squarederror.\n",
            "[12:04:37] WARNING: /workspace/src/objective/regression_obj.cu:152: reg:linear is now deprecated in favor of reg:squarederror.\n",
            "[12:04:47] WARNING: /workspace/src/objective/regression_obj.cu:152: reg:linear is now deprecated in favor of reg:squarederror.\n",
            "| \u001b[0m 13      \u001b[0m | \u001b[0m-268.8   \u001b[0m | \u001b[0m 2.853   \u001b[0m | \u001b[0m 11.62   \u001b[0m | \u001b[0m 4.781   \u001b[0m | \u001b[0m 258.7   \u001b[0m | \u001b[0m 0.8765  \u001b[0m |\n",
            "[12:04:57] WARNING: /workspace/src/objective/regression_obj.cu:152: reg:linear is now deprecated in favor of reg:squarederror.\n",
            "[12:05:06] WARNING: /workspace/src/objective/regression_obj.cu:152: reg:linear is now deprecated in favor of reg:squarederror.\n",
            "[12:05:14] WARNING: /workspace/src/objective/regression_obj.cu:152: reg:linear is now deprecated in favor of reg:squarederror.\n",
            "[12:05:22] WARNING: /workspace/src/objective/regression_obj.cu:152: reg:linear is now deprecated in favor of reg:squarederror.\n",
            "[12:05:30] WARNING: /workspace/src/objective/regression_obj.cu:152: reg:linear is now deprecated in favor of reg:squarederror.\n",
            "| \u001b[0m 14      \u001b[0m | \u001b[0m-293.7   \u001b[0m | \u001b[0m 0.5387  \u001b[0m | \u001b[0m 10.06   \u001b[0m | \u001b[0m 9.82    \u001b[0m | \u001b[0m 237.2   \u001b[0m | \u001b[0m 0.8239  \u001b[0m |\n",
            "[12:05:38] WARNING: /workspace/src/objective/regression_obj.cu:152: reg:linear is now deprecated in favor of reg:squarederror.\n",
            "[12:05:48] WARNING: /workspace/src/objective/regression_obj.cu:152: reg:linear is now deprecated in favor of reg:squarederror.\n",
            "[12:05:57] WARNING: /workspace/src/objective/regression_obj.cu:152: reg:linear is now deprecated in favor of reg:squarederror.\n",
            "[12:06:06] WARNING: /workspace/src/objective/regression_obj.cu:152: reg:linear is now deprecated in favor of reg:squarederror.\n",
            "[12:06:15] WARNING: /workspace/src/objective/regression_obj.cu:152: reg:linear is now deprecated in favor of reg:squarederror.\n",
            "| \u001b[0m 15      \u001b[0m | \u001b[0m-271.0   \u001b[0m | \u001b[0m 7.385   \u001b[0m | \u001b[0m 11.29   \u001b[0m | \u001b[0m 4.716   \u001b[0m | \u001b[0m 232.1   \u001b[0m | \u001b[0m 0.8458  \u001b[0m |\n",
            "[12:06:25] WARNING: /workspace/src/objective/regression_obj.cu:152: reg:linear is now deprecated in favor of reg:squarederror.\n",
            "[12:06:31] WARNING: /workspace/src/objective/regression_obj.cu:152: reg:linear is now deprecated in favor of reg:squarederror.\n",
            "[12:06:37] WARNING: /workspace/src/objective/regression_obj.cu:152: reg:linear is now deprecated in favor of reg:squarederror.\n",
            "[12:06:43] WARNING: /workspace/src/objective/regression_obj.cu:152: reg:linear is now deprecated in favor of reg:squarederror.\n",
            "[12:06:49] WARNING: /workspace/src/objective/regression_obj.cu:152: reg:linear is now deprecated in favor of reg:squarederror.\n",
            "| \u001b[0m 16      \u001b[0m | \u001b[0m-286.5   \u001b[0m | \u001b[0m 9.0     \u001b[0m | \u001b[0m 9.751   \u001b[0m | \u001b[0m 5.359   \u001b[0m | \u001b[0m 201.9   \u001b[0m | \u001b[0m 0.8601  \u001b[0m |\n",
            "[12:06:55] WARNING: /workspace/src/objective/regression_obj.cu:152: reg:linear is now deprecated in favor of reg:squarederror.\n",
            "[12:07:09] WARNING: /workspace/src/objective/regression_obj.cu:152: reg:linear is now deprecated in favor of reg:squarederror.\n",
            "[12:07:24] WARNING: /workspace/src/objective/regression_obj.cu:152: reg:linear is now deprecated in favor of reg:squarederror.\n",
            "[12:07:39] WARNING: /workspace/src/objective/regression_obj.cu:152: reg:linear is now deprecated in favor of reg:squarederror.\n",
            "[12:07:54] WARNING: /workspace/src/objective/regression_obj.cu:152: reg:linear is now deprecated in favor of reg:squarederror.\n",
            "| \u001b[0m 17      \u001b[0m | \u001b[0m-297.4   \u001b[0m | \u001b[0m 4.369   \u001b[0m | \u001b[0m 11.51   \u001b[0m | \u001b[0m 9.182   \u001b[0m | \u001b[0m 387.7   \u001b[0m | \u001b[0m 0.9412  \u001b[0m |\n",
            "[12:08:09] WARNING: /workspace/src/objective/regression_obj.cu:152: reg:linear is now deprecated in favor of reg:squarederror.\n",
            "[12:08:27] WARNING: /workspace/src/objective/regression_obj.cu:152: reg:linear is now deprecated in favor of reg:squarederror.\n",
            "[12:08:44] WARNING: /workspace/src/objective/regression_obj.cu:152: reg:linear is now deprecated in favor of reg:squarederror.\n",
            "[12:09:02] WARNING: /workspace/src/objective/regression_obj.cu:152: reg:linear is now deprecated in favor of reg:squarederror.\n",
            "[12:09:20] WARNING: /workspace/src/objective/regression_obj.cu:152: reg:linear is now deprecated in favor of reg:squarederror.\n",
            "| \u001b[0m 18      \u001b[0m | \u001b[0m-296.7   \u001b[0m | \u001b[0m 1.498   \u001b[0m | \u001b[0m 12.71   \u001b[0m | \u001b[0m 8.31    \u001b[0m | \u001b[0m 390.1   \u001b[0m | \u001b[0m 0.8877  \u001b[0m |\n",
            "[12:09:38] WARNING: /workspace/src/objective/regression_obj.cu:152: reg:linear is now deprecated in favor of reg:squarederror.\n",
            "[12:09:58] WARNING: /workspace/src/objective/regression_obj.cu:152: reg:linear is now deprecated in favor of reg:squarederror.\n",
            "[12:10:18] WARNING: /workspace/src/objective/regression_obj.cu:152: reg:linear is now deprecated in favor of reg:squarederror.\n",
            "[12:10:37] WARNING: /workspace/src/objective/regression_obj.cu:152: reg:linear is now deprecated in favor of reg:squarederror.\n",
            "[12:10:56] WARNING: /workspace/src/objective/regression_obj.cu:152: reg:linear is now deprecated in favor of reg:squarederror.\n",
            "| \u001b[0m 19      \u001b[0m | \u001b[0m-285.7   \u001b[0m | \u001b[0m 1.526   \u001b[0m | \u001b[0m 11.12   \u001b[0m | \u001b[0m 5.282   \u001b[0m | \u001b[0m 485.4   \u001b[0m | \u001b[0m 0.8961  \u001b[0m |\n",
            "[12:11:16] WARNING: /workspace/src/objective/regression_obj.cu:152: reg:linear is now deprecated in favor of reg:squarederror.\n",
            "[12:11:23] WARNING: /workspace/src/objective/regression_obj.cu:152: reg:linear is now deprecated in favor of reg:squarederror.\n",
            "[12:11:30] WARNING: /workspace/src/objective/regression_obj.cu:152: reg:linear is now deprecated in favor of reg:squarederror.\n",
            "[12:11:38] WARNING: /workspace/src/objective/regression_obj.cu:152: reg:linear is now deprecated in favor of reg:squarederror.\n",
            "[12:11:45] WARNING: /workspace/src/objective/regression_obj.cu:152: reg:linear is now deprecated in favor of reg:squarederror.\n",
            "| \u001b[0m 20      \u001b[0m | \u001b[0m-297.5   \u001b[0m | \u001b[0m 5.026   \u001b[0m | \u001b[0m 10.83   \u001b[0m | \u001b[0m 8.192   \u001b[0m | \u001b[0m 217.1   \u001b[0m | \u001b[0m 0.9339  \u001b[0m |\n",
            "[12:11:52] WARNING: /workspace/src/objective/regression_obj.cu:152: reg:linear is now deprecated in favor of reg:squarederror.\n",
            "[12:12:04] WARNING: /workspace/src/objective/regression_obj.cu:152: reg:linear is now deprecated in favor of reg:squarederror.\n",
            "[12:12:16] WARNING: /workspace/src/objective/regression_obj.cu:152: reg:linear is now deprecated in favor of reg:squarederror.\n",
            "[12:12:28] WARNING: /workspace/src/objective/regression_obj.cu:152: reg:linear is now deprecated in favor of reg:squarederror.\n",
            "[12:12:40] WARNING: /workspace/src/objective/regression_obj.cu:152: reg:linear is now deprecated in favor of reg:squarederror.\n",
            "| \u001b[95m 21      \u001b[0m | \u001b[95m-230.4   \u001b[0m | \u001b[95m 3.622   \u001b[0m | \u001b[95m 11.58   \u001b[0m | \u001b[95m 0.683   \u001b[0m | \u001b[95m 310.8   \u001b[0m | \u001b[95m 0.9876  \u001b[0m |\n",
            "[12:12:52] WARNING: /workspace/src/objective/regression_obj.cu:152: reg:linear is now deprecated in favor of reg:squarederror.\n",
            "[12:13:05] WARNING: /workspace/src/objective/regression_obj.cu:152: reg:linear is now deprecated in favor of reg:squarederror.\n",
            "[12:13:17] WARNING: /workspace/src/objective/regression_obj.cu:152: reg:linear is now deprecated in favor of reg:squarederror.\n",
            "[12:13:29] WARNING: /workspace/src/objective/regression_obj.cu:152: reg:linear is now deprecated in favor of reg:squarederror.\n",
            "[12:13:41] WARNING: /workspace/src/objective/regression_obj.cu:152: reg:linear is now deprecated in favor of reg:squarederror.\n",
            "| \u001b[0m 22      \u001b[0m | \u001b[0m-230.7   \u001b[0m | \u001b[0m 3.705   \u001b[0m | \u001b[0m 11.59   \u001b[0m | \u001b[0m 0.5063  \u001b[0m | \u001b[0m 310.8   \u001b[0m | \u001b[0m 0.9675  \u001b[0m |\n",
            "[12:13:54] WARNING: /workspace/src/objective/regression_obj.cu:152: reg:linear is now deprecated in favor of reg:squarederror.\n",
            "[12:14:06] WARNING: /workspace/src/objective/regression_obj.cu:152: reg:linear is now deprecated in favor of reg:squarederror.\n",
            "[12:14:19] WARNING: /workspace/src/objective/regression_obj.cu:152: reg:linear is now deprecated in favor of reg:squarederror.\n",
            "[12:14:31] WARNING: /workspace/src/objective/regression_obj.cu:152: reg:linear is now deprecated in favor of reg:squarederror.\n",
            "[12:14:43] WARNING: /workspace/src/objective/regression_obj.cu:152: reg:linear is now deprecated in favor of reg:squarederror.\n",
            "| \u001b[0m 23      \u001b[0m | \u001b[0m-231.0   \u001b[0m | \u001b[0m 3.411   \u001b[0m | \u001b[0m 11.8    \u001b[0m | \u001b[0m 0.9192  \u001b[0m | \u001b[0m 310.9   \u001b[0m | \u001b[0m 0.9654  \u001b[0m |\n",
            "[12:14:56] WARNING: /workspace/src/objective/regression_obj.cu:152: reg:linear is now deprecated in favor of reg:squarederror.\n",
            "[12:15:08] WARNING: /workspace/src/objective/regression_obj.cu:152: reg:linear is now deprecated in favor of reg:squarederror.\n",
            "[12:15:20] WARNING: /workspace/src/objective/regression_obj.cu:152: reg:linear is now deprecated in favor of reg:squarederror.\n",
            "[12:15:32] WARNING: /workspace/src/objective/regression_obj.cu:152: reg:linear is now deprecated in favor of reg:squarederror.\n",
            "[12:15:43] WARNING: /workspace/src/objective/regression_obj.cu:152: reg:linear is now deprecated in favor of reg:squarederror.\n",
            "| \u001b[95m 24      \u001b[0m | \u001b[95m-229.7   \u001b[0m | \u001b[95m 3.497   \u001b[0m | \u001b[95m 11.1    \u001b[0m | \u001b[95m 0.8353  \u001b[0m | \u001b[95m 311.1   \u001b[0m | \u001b[95m 1.0     \u001b[0m |\n",
            "[12:15:56] WARNING: /workspace/src/objective/regression_obj.cu:152: reg:linear is now deprecated in favor of reg:squarederror.\n",
            "[12:16:11] WARNING: /workspace/src/objective/regression_obj.cu:152: reg:linear is now deprecated in favor of reg:squarederror.\n",
            "[12:16:25] WARNING: /workspace/src/objective/regression_obj.cu:152: reg:linear is now deprecated in favor of reg:squarederror.\n",
            "[12:16:40] WARNING: /workspace/src/objective/regression_obj.cu:152: reg:linear is now deprecated in favor of reg:squarederror.\n",
            "[12:16:55] WARNING: /workspace/src/objective/regression_obj.cu:152: reg:linear is now deprecated in favor of reg:squarederror.\n",
            "| \u001b[0m 25      \u001b[0m | \u001b[0m-231.3   \u001b[0m | \u001b[0m 5.754   \u001b[0m | \u001b[0m 10.49   \u001b[0m | \u001b[0m 0.0     \u001b[0m | \u001b[0m 431.7   \u001b[0m | \u001b[0m 0.9774  \u001b[0m |\n",
            "[12:17:10] WARNING: /workspace/src/objective/regression_obj.cu:152: reg:linear is now deprecated in favor of reg:squarederror.\n",
            "[12:17:25] WARNING: /workspace/src/objective/regression_obj.cu:152: reg:linear is now deprecated in favor of reg:squarederror.\n",
            "[12:17:39] WARNING: /workspace/src/objective/regression_obj.cu:152: reg:linear is now deprecated in favor of reg:squarederror.\n",
            "[12:17:54] WARNING: /workspace/src/objective/regression_obj.cu:152: reg:linear is now deprecated in favor of reg:squarederror.\n",
            "[12:18:09] WARNING: /workspace/src/objective/regression_obj.cu:152: reg:linear is now deprecated in favor of reg:squarederror.\n",
            "| \u001b[0m 26      \u001b[0m | \u001b[0m-231.2   \u001b[0m | \u001b[0m 5.535   \u001b[0m | \u001b[0m 10.54   \u001b[0m | \u001b[0m 0.0     \u001b[0m | \u001b[0m 431.7   \u001b[0m | \u001b[0m 0.979   \u001b[0m |\n",
            "[12:18:24] WARNING: /workspace/src/objective/regression_obj.cu:152: reg:linear is now deprecated in favor of reg:squarederror.\n",
            "[12:18:36] WARNING: /workspace/src/objective/regression_obj.cu:152: reg:linear is now deprecated in favor of reg:squarederror.\n",
            "[12:18:47] WARNING: /workspace/src/objective/regression_obj.cu:152: reg:linear is now deprecated in favor of reg:squarederror.\n",
            "[12:18:59] WARNING: /workspace/src/objective/regression_obj.cu:152: reg:linear is now deprecated in favor of reg:squarederror.\n",
            "[12:19:11] WARNING: /workspace/src/objective/regression_obj.cu:152: reg:linear is now deprecated in favor of reg:squarederror.\n",
            "| \u001b[0m 27      \u001b[0m | \u001b[0m-229.7   \u001b[0m | \u001b[0m 3.359   \u001b[0m | \u001b[0m 11.13   \u001b[0m | \u001b[0m 0.7398  \u001b[0m | \u001b[0m 311.0   \u001b[0m | \u001b[0m 1.0     \u001b[0m |\n",
            "[12:19:23] WARNING: /workspace/src/objective/regression_obj.cu:152: reg:linear is now deprecated in favor of reg:squarederror.\n",
            "[12:19:35] WARNING: /workspace/src/objective/regression_obj.cu:152: reg:linear is now deprecated in favor of reg:squarederror.\n",
            "[12:19:47] WARNING: /workspace/src/objective/regression_obj.cu:152: reg:linear is now deprecated in favor of reg:squarederror.\n",
            "[12:19:59] WARNING: /workspace/src/objective/regression_obj.cu:152: reg:linear is now deprecated in favor of reg:squarederror.\n",
            "[12:20:11] WARNING: /workspace/src/objective/regression_obj.cu:152: reg:linear is now deprecated in favor of reg:squarederror.\n",
            "| \u001b[0m 28      \u001b[0m | \u001b[0m-229.7   \u001b[0m | \u001b[0m 3.454   \u001b[0m | \u001b[0m 11.16   \u001b[0m | \u001b[0m 0.7687  \u001b[0m | \u001b[0m 311.1   \u001b[0m | \u001b[0m 1.0     \u001b[0m |\n",
            "[12:20:23] WARNING: /workspace/src/objective/regression_obj.cu:152: reg:linear is now deprecated in favor of reg:squarederror.\n",
            "[12:20:39] WARNING: /workspace/src/objective/regression_obj.cu:152: reg:linear is now deprecated in favor of reg:squarederror.\n",
            "[12:20:56] WARNING: /workspace/src/objective/regression_obj.cu:152: reg:linear is now deprecated in favor of reg:squarederror.\n",
            "[12:21:12] WARNING: /workspace/src/objective/regression_obj.cu:152: reg:linear is now deprecated in favor of reg:squarederror.\n",
            "[12:21:28] WARNING: /workspace/src/objective/regression_obj.cu:152: reg:linear is now deprecated in favor of reg:squarederror.\n",
            "| \u001b[0m 29      \u001b[0m | \u001b[0m-235.9   \u001b[0m | \u001b[0m 5.535   \u001b[0m | \u001b[0m 10.69   \u001b[0m | \u001b[0m 0.0     \u001b[0m | \u001b[0m 431.6   \u001b[0m | \u001b[0m 0.8     \u001b[0m |\n",
            "[12:21:45] WARNING: /workspace/src/objective/regression_obj.cu:152: reg:linear is now deprecated in favor of reg:squarederror.\n",
            "[12:21:59] WARNING: /workspace/src/objective/regression_obj.cu:152: reg:linear is now deprecated in favor of reg:squarederror.\n",
            "[12:22:14] WARNING: /workspace/src/objective/regression_obj.cu:152: reg:linear is now deprecated in favor of reg:squarederror.\n",
            "[12:22:28] WARNING: /workspace/src/objective/regression_obj.cu:152: reg:linear is now deprecated in favor of reg:squarederror.\n",
            "[12:22:42] WARNING: /workspace/src/objective/regression_obj.cu:152: reg:linear is now deprecated in favor of reg:squarederror.\n",
            "| \u001b[0m 30      \u001b[0m | \u001b[0m-230.2   \u001b[0m | \u001b[0m 5.455   \u001b[0m | \u001b[0m 10.04   \u001b[0m | \u001b[0m 0.0     \u001b[0m | \u001b[0m 431.8   \u001b[0m | \u001b[0m 1.0     \u001b[0m |\n",
            "[12:22:57] WARNING: /workspace/src/objective/regression_obj.cu:152: reg:linear is now deprecated in favor of reg:squarederror.\n",
            "[12:23:11] WARNING: /workspace/src/objective/regression_obj.cu:152: reg:linear is now deprecated in favor of reg:squarederror.\n",
            "[12:23:26] WARNING: /workspace/src/objective/regression_obj.cu:152: reg:linear is now deprecated in favor of reg:squarederror.\n",
            "[12:23:40] WARNING: /workspace/src/objective/regression_obj.cu:152: reg:linear is now deprecated in favor of reg:squarederror.\n",
            "[12:23:54] WARNING: /workspace/src/objective/regression_obj.cu:152: reg:linear is now deprecated in favor of reg:squarederror.\n",
            "| \u001b[0m 31      \u001b[0m | \u001b[0m-230.2   \u001b[0m | \u001b[0m 5.525   \u001b[0m | \u001b[0m 10.27   \u001b[0m | \u001b[0m 0.0     \u001b[0m | \u001b[0m 431.8   \u001b[0m | \u001b[0m 1.0     \u001b[0m |\n",
            "[12:24:09] WARNING: /workspace/src/objective/regression_obj.cu:152: reg:linear is now deprecated in favor of reg:squarederror.\n",
            "[12:24:24] WARNING: /workspace/src/objective/regression_obj.cu:152: reg:linear is now deprecated in favor of reg:squarederror.\n",
            "[12:24:38] WARNING: /workspace/src/objective/regression_obj.cu:152: reg:linear is now deprecated in favor of reg:squarederror.\n",
            "[12:24:53] WARNING: /workspace/src/objective/regression_obj.cu:152: reg:linear is now deprecated in favor of reg:squarederror.\n",
            "[12:25:07] WARNING: /workspace/src/objective/regression_obj.cu:152: reg:linear is now deprecated in favor of reg:squarederror.\n",
            "| \u001b[0m 32      \u001b[0m | \u001b[0m-230.2   \u001b[0m | \u001b[0m 5.534   \u001b[0m | \u001b[0m 10.18   \u001b[0m | \u001b[0m 0.2257  \u001b[0m | \u001b[0m 431.5   \u001b[0m | \u001b[0m 1.0     \u001b[0m |\n",
            "[12:25:22] WARNING: /workspace/src/objective/regression_obj.cu:152: reg:linear is now deprecated in favor of reg:squarederror.\n",
            "[12:25:35] WARNING: /workspace/src/objective/regression_obj.cu:152: reg:linear is now deprecated in favor of reg:squarederror.\n",
            "[12:25:49] WARNING: /workspace/src/objective/regression_obj.cu:152: reg:linear is now deprecated in favor of reg:squarederror.\n",
            "[12:26:02] WARNING: /workspace/src/objective/regression_obj.cu:152: reg:linear is now deprecated in favor of reg:squarederror.\n",
            "[12:26:15] WARNING: /workspace/src/objective/regression_obj.cu:152: reg:linear is now deprecated in favor of reg:squarederror.\n",
            "| \u001b[0m 33      \u001b[0m | \u001b[0m-235.3   \u001b[0m | \u001b[0m 3.474   \u001b[0m | \u001b[0m 11.22   \u001b[0m | \u001b[0m 0.8459  \u001b[0m | \u001b[0m 310.9   \u001b[0m | \u001b[0m 0.8     \u001b[0m |\n",
            "[12:26:28] WARNING: /workspace/src/objective/regression_obj.cu:152: reg:linear is now deprecated in favor of reg:squarederror.\n",
            "[12:26:41] WARNING: /workspace/src/objective/regression_obj.cu:152: reg:linear is now deprecated in favor of reg:squarederror.\n",
            "[12:26:54] WARNING: /workspace/src/objective/regression_obj.cu:152: reg:linear is now deprecated in favor of reg:squarederror.\n",
            "[12:27:07] WARNING: /workspace/src/objective/regression_obj.cu:152: reg:linear is now deprecated in favor of reg:squarederror.\n",
            "[12:27:20] WARNING: /workspace/src/objective/regression_obj.cu:152: reg:linear is now deprecated in favor of reg:squarederror.\n",
            "| \u001b[0m 34      \u001b[0m | \u001b[0m-237.8   \u001b[0m | \u001b[0m 3.331   \u001b[0m | \u001b[0m 11.8    \u001b[0m | \u001b[0m 1.282   \u001b[0m | \u001b[0m 310.3   \u001b[0m | \u001b[0m 0.8113  \u001b[0m |\n",
            "[12:27:33] WARNING: /workspace/src/objective/regression_obj.cu:152: reg:linear is now deprecated in favor of reg:squarederror.\n",
            "[12:27:44] WARNING: /workspace/src/objective/regression_obj.cu:152: reg:linear is now deprecated in favor of reg:squarederror.\n",
            "[12:27:54] WARNING: /workspace/src/objective/regression_obj.cu:152: reg:linear is now deprecated in favor of reg:squarederror.\n",
            "[12:28:05] WARNING: /workspace/src/objective/regression_obj.cu:152: reg:linear is now deprecated in favor of reg:squarederror.\n",
            "[12:28:15] WARNING: /workspace/src/objective/regression_obj.cu:152: reg:linear is now deprecated in favor of reg:squarederror.\n",
            "| \u001b[0m 35      \u001b[0m | \u001b[0m-235.1   \u001b[0m | \u001b[0m 1.064   \u001b[0m | \u001b[0m 8.645   \u001b[0m | \u001b[0m 0.414   \u001b[0m | \u001b[0m 402.6   \u001b[0m | \u001b[0m 0.8652  \u001b[0m |\n",
            "[12:28:26] WARNING: /workspace/src/objective/regression_obj.cu:152: reg:linear is now deprecated in favor of reg:squarederror.\n",
            "[12:28:41] WARNING: /workspace/src/objective/regression_obj.cu:152: reg:linear is now deprecated in favor of reg:squarederror.\n",
            "[12:28:55] WARNING: /workspace/src/objective/regression_obj.cu:152: reg:linear is now deprecated in favor of reg:squarederror.\n",
            "[12:29:10] WARNING: /workspace/src/objective/regression_obj.cu:152: reg:linear is now deprecated in favor of reg:squarederror.\n",
            "[12:29:25] WARNING: /workspace/src/objective/regression_obj.cu:152: reg:linear is now deprecated in favor of reg:squarederror.\n",
            "| \u001b[0m 36      \u001b[0m | \u001b[0m-232.9   \u001b[0m | \u001b[0m 3.165   \u001b[0m | \u001b[0m 12.17   \u001b[0m | \u001b[0m 0.7422  \u001b[0m | \u001b[0m 310.6   \u001b[0m | \u001b[0m 0.866   \u001b[0m |\n",
            "[12:29:40] WARNING: /workspace/src/objective/regression_obj.cu:152: reg:linear is now deprecated in favor of reg:squarederror.\n",
            "[12:29:51] WARNING: /workspace/src/objective/regression_obj.cu:152: reg:linear is now deprecated in favor of reg:squarederror.\n",
            "[12:30:02] WARNING: /workspace/src/objective/regression_obj.cu:152: reg:linear is now deprecated in favor of reg:squarederror.\n",
            "[12:30:13] WARNING: /workspace/src/objective/regression_obj.cu:152: reg:linear is now deprecated in favor of reg:squarederror.\n",
            "[12:30:24] WARNING: /workspace/src/objective/regression_obj.cu:152: reg:linear is now deprecated in favor of reg:squarederror.\n",
            "| \u001b[0m 37      \u001b[0m | \u001b[0m-233.9   \u001b[0m | \u001b[0m 3.388   \u001b[0m | \u001b[0m 10.09   \u001b[0m | \u001b[0m 0.2482  \u001b[0m | \u001b[0m 311.3   \u001b[0m | \u001b[0m 0.8433  \u001b[0m |\n",
            "[12:30:36] WARNING: /workspace/src/objective/regression_obj.cu:152: reg:linear is now deprecated in favor of reg:squarederror.\n",
            "[12:30:48] WARNING: /workspace/src/objective/regression_obj.cu:152: reg:linear is now deprecated in favor of reg:squarederror.\n",
            "[12:31:00] WARNING: /workspace/src/objective/regression_obj.cu:152: reg:linear is now deprecated in favor of reg:squarederror.\n",
            "[12:31:12] WARNING: /workspace/src/objective/regression_obj.cu:152: reg:linear is now deprecated in favor of reg:squarederror.\n",
            "[12:31:23] WARNING: /workspace/src/objective/regression_obj.cu:152: reg:linear is now deprecated in favor of reg:squarederror.\n",
            "| \u001b[0m 38      \u001b[0m | \u001b[0m-229.7   \u001b[0m | \u001b[0m 3.493   \u001b[0m | \u001b[0m 11.86   \u001b[0m | \u001b[0m 0.689   \u001b[0m | \u001b[0m 310.7   \u001b[0m | \u001b[0m 1.0     \u001b[0m |\n",
            "[12:31:35] WARNING: /workspace/src/objective/regression_obj.cu:152: reg:linear is now deprecated in favor of reg:squarederror.\n",
            "[12:31:45] WARNING: /workspace/src/objective/regression_obj.cu:152: reg:linear is now deprecated in favor of reg:squarederror.\n",
            "[12:31:57] WARNING: /workspace/src/objective/regression_obj.cu:152: reg:linear is now deprecated in favor of reg:squarederror.\n",
            "[12:32:07] WARNING: /workspace/src/objective/regression_obj.cu:152: reg:linear is now deprecated in favor of reg:squarederror.\n",
            "[12:32:17] WARNING: /workspace/src/objective/regression_obj.cu:152: reg:linear is now deprecated in favor of reg:squarederror.\n",
            "| \u001b[0m 39      \u001b[0m | \u001b[0m-231.9   \u001b[0m | \u001b[0m 0.8186  \u001b[0m | \u001b[0m 8.581   \u001b[0m | \u001b[0m 0.1596  \u001b[0m | \u001b[0m 401.9   \u001b[0m | \u001b[0m 0.9955  \u001b[0m |\n",
            "[12:32:26] WARNING: /workspace/src/objective/regression_obj.cu:152: reg:linear is now deprecated in favor of reg:squarederror.\n",
            "[12:32:37] WARNING: /workspace/src/objective/regression_obj.cu:152: reg:linear is now deprecated in favor of reg:squarederror.\n",
            "[12:32:48] WARNING: /workspace/src/objective/regression_obj.cu:152: reg:linear is now deprecated in favor of reg:squarederror.\n",
            "[12:32:59] WARNING: /workspace/src/objective/regression_obj.cu:152: reg:linear is now deprecated in favor of reg:squarederror.\n",
            "[12:33:10] WARNING: /workspace/src/objective/regression_obj.cu:152: reg:linear is now deprecated in favor of reg:squarederror.\n",
            "| \u001b[0m 40      \u001b[0m | \u001b[0m-237.8   \u001b[0m | \u001b[0m 3.132   \u001b[0m | \u001b[0m 10.56   \u001b[0m | \u001b[0m 1.013   \u001b[0m | \u001b[0m 311.8   \u001b[0m | \u001b[0m 0.8532  \u001b[0m |\n",
            "[12:33:21] WARNING: /workspace/src/objective/regression_obj.cu:152: reg:linear is now deprecated in favor of reg:squarederror.\n",
            "[12:33:31] WARNING: /workspace/src/objective/regression_obj.cu:152: reg:linear is now deprecated in favor of reg:squarederror.\n",
            "[12:33:41] WARNING: /workspace/src/objective/regression_obj.cu:152: reg:linear is now deprecated in favor of reg:squarederror.\n",
            "[12:33:51] WARNING: /workspace/src/objective/regression_obj.cu:152: reg:linear is now deprecated in favor of reg:squarederror.\n",
            "[12:34:01] WARNING: /workspace/src/objective/regression_obj.cu:152: reg:linear is now deprecated in favor of reg:squarederror.\n",
            "| \u001b[0m 41      \u001b[0m | \u001b[0m-232.5   \u001b[0m | \u001b[0m 0.7763  \u001b[0m | \u001b[0m 8.286   \u001b[0m | \u001b[0m 0.2935  \u001b[0m | \u001b[0m 402.2   \u001b[0m | \u001b[0m 0.9545  \u001b[0m |\n",
            "[12:34:11] WARNING: /workspace/src/objective/regression_obj.cu:152: reg:linear is now deprecated in favor of reg:squarederror.\n",
            "[12:34:23] WARNING: /workspace/src/objective/regression_obj.cu:152: reg:linear is now deprecated in favor of reg:squarederror.\n",
            "[12:34:34] WARNING: /workspace/src/objective/regression_obj.cu:152: reg:linear is now deprecated in favor of reg:squarederror.\n",
            "[12:34:46] WARNING: /workspace/src/objective/regression_obj.cu:152: reg:linear is now deprecated in favor of reg:squarederror.\n",
            "[12:34:58] WARNING: /workspace/src/objective/regression_obj.cu:152: reg:linear is now deprecated in favor of reg:squarederror.\n",
            "| \u001b[95m 42      \u001b[0m | \u001b[95m-226.8   \u001b[0m | \u001b[95m 2.93    \u001b[0m | \u001b[95m 11.52   \u001b[0m | \u001b[95m 2.043   \u001b[0m | \u001b[95m 311.2   \u001b[0m | \u001b[95m 0.9832  \u001b[0m |\n",
            "[12:35:10] WARNING: /workspace/src/objective/regression_obj.cu:152: reg:linear is now deprecated in favor of reg:squarederror.\n",
            "[12:35:20] WARNING: /workspace/src/objective/regression_obj.cu:152: reg:linear is now deprecated in favor of reg:squarederror.\n",
            "[12:35:30] WARNING: /workspace/src/objective/regression_obj.cu:152: reg:linear is now deprecated in favor of reg:squarederror.\n",
            "[12:35:40] WARNING: /workspace/src/objective/regression_obj.cu:152: reg:linear is now deprecated in favor of reg:squarederror.\n",
            "[12:35:50] WARNING: /workspace/src/objective/regression_obj.cu:152: reg:linear is now deprecated in favor of reg:squarederror.\n",
            "| \u001b[0m 43      \u001b[0m | \u001b[0m-232.3   \u001b[0m | \u001b[0m 0.8753  \u001b[0m | \u001b[0m 8.588   \u001b[0m | \u001b[0m 0.2226  \u001b[0m | \u001b[0m 402.1   \u001b[0m | \u001b[0m 0.9639  \u001b[0m |\n",
            "[12:36:00] WARNING: /workspace/src/objective/regression_obj.cu:152: reg:linear is now deprecated in favor of reg:squarederror.\n",
            "[12:36:11] WARNING: /workspace/src/objective/regression_obj.cu:152: reg:linear is now deprecated in favor of reg:squarederror.\n",
            "[12:36:23] WARNING: /workspace/src/objective/regression_obj.cu:152: reg:linear is now deprecated in favor of reg:squarederror.\n",
            "[12:36:35] WARNING: /workspace/src/objective/regression_obj.cu:152: reg:linear is now deprecated in favor of reg:squarederror.\n",
            "[12:36:46] WARNING: /workspace/src/objective/regression_obj.cu:152: reg:linear is now deprecated in favor of reg:squarederror.\n",
            "| \u001b[0m 44      \u001b[0m | \u001b[0m-237.9   \u001b[0m | \u001b[0m 2.981   \u001b[0m | \u001b[0m 11.49   \u001b[0m | \u001b[0m 1.812   \u001b[0m | \u001b[0m 311.2   \u001b[0m | \u001b[0m 1.0     \u001b[0m |\n",
            "[12:36:58] WARNING: /workspace/src/objective/regression_obj.cu:152: reg:linear is now deprecated in favor of reg:squarederror.\n",
            "[12:37:09] WARNING: /workspace/src/objective/regression_obj.cu:152: reg:linear is now deprecated in favor of reg:squarederror.\n",
            "[12:37:19] WARNING: /workspace/src/objective/regression_obj.cu:152: reg:linear is now deprecated in favor of reg:squarederror.\n",
            "[12:37:29] WARNING: /workspace/src/objective/regression_obj.cu:152: reg:linear is now deprecated in favor of reg:squarederror.\n",
            "[12:37:39] WARNING: /workspace/src/objective/regression_obj.cu:152: reg:linear is now deprecated in favor of reg:squarederror.\n",
            "| \u001b[0m 45      \u001b[0m | \u001b[0m-238.0   \u001b[0m | \u001b[0m 2.765   \u001b[0m | \u001b[0m 10.08   \u001b[0m | \u001b[0m 1.384   \u001b[0m | \u001b[0m 312.1   \u001b[0m | \u001b[0m 0.9699  \u001b[0m |\n",
            "=====================================================================================\n",
            "Final result: {'target': -226.82195941741548, 'params': {'gamma': 2.930052221096433, 'max_depth': 11.520264838187105, 'min_child_weight': 2.0426839186671897, 'n_estimators': 311.18895799284957, 'subsample': 0.9831854660202296}}\n"
          ],
          "name": "stdout"
        }
      ]
    },
    {
      "cell_type": "code",
      "metadata": {
        "id": "vSLlnW7ACUwp"
      },
      "source": [
        "xgbrf = XGBRFRegressor(\n",
        "        n_estimators=int(311.18895799284957),\n",
        "        max_depth = int(11.520264838187105),\n",
        "        gamma = 2.930052221096433,\n",
        "        min_child_weight=0.0,\n",
        "        subsample = 0.9831854660202296,\n",
        "        random_state = 42,\n",
        "    )"
      ],
      "execution_count": 25,
      "outputs": []
    },
    {
      "cell_type": "markdown",
      "metadata": {
        "id": "1pObUi0ZCVkY"
      },
      "source": [
        "#Stacking least correlated models"
      ]
    },
    {
      "cell_type": "code",
      "metadata": {
        "id": "-p90X5dkCYLz"
      },
      "source": [
        "\n",
        "estimators = [('etc', etc), ('rfc', rfc), ('xgb', xgb), ('lgb', lgb), ('xgbrf', xgbrf)]\n",
        "\n",
        "model = StackingRegressor(estimators=estimators)"
      ],
      "execution_count": 33,
      "outputs": []
    },
    {
      "cell_type": "markdown",
      "metadata": {
        "id": "H98yv2ABnwOL"
      },
      "source": [
        "# Train the model\n"
      ]
    },
    {
      "cell_type": "code",
      "metadata": {
        "id": "75fJluAhCbsJ",
        "outputId": "b60dc41e-f667-4629-e305-0c06b881dc4f",
        "colab": {
          "base_uri": "https://localhost:8080/",
          "height": 751
        }
      },
      "source": [
        "model.fit(X,Y)"
      ],
      "execution_count": 34,
      "outputs": [
        {
          "output_type": "stream",
          "text": [
            "[13:42:56] WARNING: /workspace/src/objective/regression_obj.cu:152: reg:linear is now deprecated in favor of reg:squarederror.\n",
            "[13:43:12] WARNING: /workspace/src/objective/regression_obj.cu:152: reg:linear is now deprecated in favor of reg:squarederror.\n",
            "[13:46:06] WARNING: /workspace/src/objective/regression_obj.cu:152: reg:linear is now deprecated in favor of reg:squarederror.\n",
            "[13:46:18] WARNING: /workspace/src/objective/regression_obj.cu:152: reg:linear is now deprecated in favor of reg:squarederror.\n",
            "[13:46:30] WARNING: /workspace/src/objective/regression_obj.cu:152: reg:linear is now deprecated in favor of reg:squarederror.\n",
            "[13:46:42] WARNING: /workspace/src/objective/regression_obj.cu:152: reg:linear is now deprecated in favor of reg:squarederror.\n",
            "[13:46:54] WARNING: /workspace/src/objective/regression_obj.cu:152: reg:linear is now deprecated in favor of reg:squarederror.\n",
            "[13:47:11] WARNING: /workspace/src/objective/regression_obj.cu:152: reg:linear is now deprecated in favor of reg:squarederror.\n",
            "[13:47:24] WARNING: /workspace/src/objective/regression_obj.cu:152: reg:linear is now deprecated in favor of reg:squarederror.\n",
            "[13:47:37] WARNING: /workspace/src/objective/regression_obj.cu:152: reg:linear is now deprecated in favor of reg:squarederror.\n",
            "[13:47:50] WARNING: /workspace/src/objective/regression_obj.cu:152: reg:linear is now deprecated in favor of reg:squarederror.\n",
            "[13:48:03] WARNING: /workspace/src/objective/regression_obj.cu:152: reg:linear is now deprecated in favor of reg:squarederror.\n"
          ],
          "name": "stdout"
        },
        {
          "output_type": "execute_result",
          "data": {
            "text/plain": [
              "StackingRegressor(cv=None,\n",
              "                  estimators=[('etc',\n",
              "                               ExtraTreesRegressor(bootstrap=False,\n",
              "                                                   ccp_alpha=0.0,\n",
              "                                                   criterion='mse',\n",
              "                                                   max_depth=None,\n",
              "                                                   max_features=0.9361287564089558,\n",
              "                                                   max_leaf_nodes=None,\n",
              "                                                   max_samples=None,\n",
              "                                                   min_impurity_decrease=0.0,\n",
              "                                                   min_impurity_split=None,\n",
              "                                                   min_samples_leaf=1,\n",
              "                                                   min_samples_split=9,\n",
              "                                                   min_weight_fraction_leaf=0.0,\n",
              "                                                   n_estimators=250, n_jobs=-1,\n",
              "                                                   oob_score=...\n",
              "                                              gamma=2.930052221096433,\n",
              "                                              learning_rate=1, max_delta_step=0,\n",
              "                                              max_depth=11,\n",
              "                                              min_child_weight=0.0,\n",
              "                                              missing=None, n_estimators=311,\n",
              "                                              n_jobs=1, nthread=None,\n",
              "                                              objective='reg:linear',\n",
              "                                              random_state=42, reg_alpha=0,\n",
              "                                              reg_lambda=1, scale_pos_weight=1,\n",
              "                                              seed=None, silent=None,\n",
              "                                              subsample=0.9831854660202296,\n",
              "                                              verbosity=1))],\n",
              "                  final_estimator=None, n_jobs=None, passthrough=False,\n",
              "                  verbose=0)"
            ]
          },
          "metadata": {
            "tags": []
          },
          "execution_count": 34
        }
      ]
    },
    {
      "cell_type": "code",
      "metadata": {
        "id": "WcaA8eHZ-h2B"
      },
      "source": [
        "x_coord = X[['LONGITUDE','LATITUDE']]"
      ],
      "execution_count": 53,
      "outputs": []
    },
    {
      "cell_type": "code",
      "metadata": {
        "id": "UFkZwdFZ-MNH"
      },
      "source": [
        "from sklearn.cluster import KMeans\n",
        "K = range(1,10) \n",
        "inertias = []\n",
        "inertias_map = {}\n",
        "for k in K: \n",
        "    #Building and fitting the model \n",
        "    kmeanModel = KMeans(n_clusters=k).fit(X) \n",
        "    kmeanModel.fit(x_coord)     \n",
        "    inertias_map[k] = kmeanModel.inertia_\n",
        "    inertias.append(kmeanModel.inertia_)"
      ],
      "execution_count": 54,
      "outputs": []
    },
    {
      "cell_type": "code",
      "metadata": {
        "id": "jNelmcIH_Q2M",
        "outputId": "2f60d29b-d68a-4b22-9b05-a3074b7dc8a8",
        "colab": {
          "base_uri": "https://localhost:8080/",
          "height": 295
        }
      },
      "source": [
        "plt.plot(K, inertias, 'bx-') \n",
        "plt.xlabel('Values of K') \n",
        "plt.ylabel('Inertia') \n",
        "plt.title('The Elbow Method using Inertia') \n",
        "plt.show() "
      ],
      "execution_count": 55,
      "outputs": [
        {
          "output_type": "display_data",
          "data": {
            "image/png": "[encoded data removed]",
            "text/plain": [
              "<Figure size 432x288 with 1 Axes>"
            ]
          },
          "metadata": {
            "tags": [],
            "needs_background": "light"
          }
        }
      ]
    },
    {
      "cell_type": "code",
      "metadata": {
        "id": "RpC06I9Q_XF2"
      },
      "source": [
        "kmeanModel = KMeans(n_clusters=3)\n",
        "kmeanModel.fit(x_coord) \n",
        "labels =  kmeanModel.predict(x_coord)"
      ],
      "execution_count": 56,
      "outputs": []
    },
    {
      "cell_type": "code",
      "metadata": {
        "id": "uuKjvD1W_tgx",
        "outputId": "45bda128-4731-4756-a361-b3480ba5b2bc",
        "colab": {
          "base_uri": "https://localhost:8080/",
          "height": 336
        }
      },
      "source": [
        "sns.countplot(labels)"
      ],
      "execution_count": 57,
      "outputs": [
        {
          "output_type": "stream",
          "text": [
            "/usr/local/lib/python3.6/dist-packages/seaborn/_decorators.py:43: FutureWarning: Pass the following variable as a keyword arg: x. From version 0.12, the only valid positional argument will be `data`, and passing other arguments without an explicit keyword will result in an error or misinterpretation.\n",
            "  FutureWarning\n"
          ],
          "name": "stderr"
        },
        {
          "output_type": "execute_result",
          "data": {
            "text/plain": [
              "<matplotlib.axes._subplots.AxesSubplot at 0x7f75ff1ef780>"
            ]
          },
          "metadata": {
            "tags": []
          },
          "execution_count": 57
        },
        {
          "output_type": "display_data",
          "data": {
            "image/png": "[encoded data removed]",
            "text/plain": [
              "<Figure size 432x288 with 1 Axes>"
            ]
          },
          "metadata": {
            "tags": [],
            "needs_background": "light"
          }
        }
      ]
    },
    {
      "cell_type": "code",
      "metadata": {
        "id": "IHbm2D-u_xFr",
        "outputId": "1bafaa3b-2dbe-4e8a-a171-eb9b369ae380",
        "colab": {
          "base_uri": "https://localhost:8080/",
          "height": 139
        }
      },
      "source": [
        "x_coord [\"GROUP\"] = labels"
      ],
      "execution_count": 58,
      "outputs": [
        {
          "output_type": "stream",
          "text": [
            "/usr/local/lib/python3.6/dist-packages/ipykernel_launcher.py:1: SettingWithCopyWarning: \n",
            "A value is trying to be set on a copy of a slice from a DataFrame.\n",
            "Try using .loc[row_indexer,col_indexer] = value instead\n",
            "\n",
            "See the caveats in the documentation: https://pandas.pydata.org/pandas-docs/stable/user_guide/indexing.html#returning-a-view-versus-a-copy\n",
            "  \"\"\"Entry point for launching an IPython kernel.\n"
          ],
          "name": "stderr"
        }
      ]
    },
    {
      "cell_type": "code",
      "metadata": {
        "id": "8PXUZp63_55y",
        "outputId": "81e006d0-2879-417c-c6c5-b5bc46b4f983",
        "colab": {
          "base_uri": "https://localhost:8080/",
          "height": 204
        }
      },
      "source": [
        "x_coord.head()"
      ],
      "execution_count": 59,
      "outputs": [
        {
          "output_type": "execute_result",
          "data": {
            "text/html": [
              "<div>\n",
              "<style scoped>\n",
              "    .dataframe tbody tr th:only-of-type {\n",
              "        vertical-align: middle;\n",
              "    }\n",
              "\n",
              "    .dataframe tbody tr th {\n",
              "        vertical-align: top;\n",
              "    }\n",
              "\n",
              "    .dataframe thead th {\n",
              "        text-align: right;\n",
              "    }\n",
              "</style>\n",
              "<table border=\"1\" class=\"dataframe\">\n",
              "  <thead>\n",
              "    <tr style=\"text-align: right;\">\n",
              "      <th></th>\n",
              "      <th>LONGITUDE</th>\n",
              "      <th>LATITUDE</th>\n",
              "      <th>GROUP</th>\n",
              "    </tr>\n",
              "  </thead>\n",
              "  <tbody>\n",
              "    <tr>\n",
              "      <th>0</th>\n",
              "      <td>12.969910</td>\n",
              "      <td>77.597960</td>\n",
              "      <td>0</td>\n",
              "    </tr>\n",
              "    <tr>\n",
              "      <th>1</th>\n",
              "      <td>12.274538</td>\n",
              "      <td>76.644605</td>\n",
              "      <td>0</td>\n",
              "    </tr>\n",
              "    <tr>\n",
              "      <th>2</th>\n",
              "      <td>12.778033</td>\n",
              "      <td>77.632191</td>\n",
              "      <td>0</td>\n",
              "    </tr>\n",
              "    <tr>\n",
              "      <th>3</th>\n",
              "      <td>28.642300</td>\n",
              "      <td>77.344500</td>\n",
              "      <td>1</td>\n",
              "    </tr>\n",
              "    <tr>\n",
              "      <th>4</th>\n",
              "      <td>22.592200</td>\n",
              "      <td>88.484911</td>\n",
              "      <td>1</td>\n",
              "    </tr>\n",
              "  </tbody>\n",
              "</table>\n",
              "</div>"
            ],
            "text/plain": [
              "   LONGITUDE   LATITUDE  GROUP\n",
              "0  12.969910  77.597960      0\n",
              "1  12.274538  76.644605      0\n",
              "2  12.778033  77.632191      0\n",
              "3  28.642300  77.344500      1\n",
              "4  22.592200  88.484911      1"
            ]
          },
          "metadata": {
            "tags": []
          },
          "execution_count": 59
        }
      ]
    },
    {
      "cell_type": "code",
      "metadata": {
        "id": "6G3SNqZPApcI",
        "outputId": "a4a0daff-7e9d-4fc9-c2ad-c8b13ea1dd91",
        "colab": {
          "base_uri": "https://localhost:8080/",
          "height": 34
        }
      },
      "source": [
        "len(labels),x_coord.shape"
      ],
      "execution_count": 67,
      "outputs": [
        {
          "output_type": "execute_result",
          "data": {
            "text/plain": [
              "(29451, (29451, 3))"
            ]
          },
          "metadata": {
            "tags": []
          },
          "execution_count": 67
        }
      ]
    },
    {
      "cell_type": "code",
      "metadata": {
        "id": "-lUHwO9j_8Qx",
        "outputId": "9dfe2a82-9dad-436b-d393-64f18cc1e385",
        "colab": {
          "base_uri": "https://localhost:8080/",
          "height": 139
        }
      },
      "source": [
        "X[\"GROUP\"] = labels"
      ],
      "execution_count": 68,
      "outputs": [
        {
          "output_type": "stream",
          "text": [
            "/usr/local/lib/python3.6/dist-packages/ipykernel_launcher.py:1: SettingWithCopyWarning: \n",
            "A value is trying to be set on a copy of a slice from a DataFrame.\n",
            "Try using .loc[row_indexer,col_indexer] = value instead\n",
            "\n",
            "See the caveats in the documentation: https://pandas.pydata.org/pandas-docs/stable/user_guide/indexing.html#returning-a-view-versus-a-copy\n",
            "  \"\"\"Entry point for launching an IPython kernel.\n"
          ],
          "name": "stderr"
        }
      ]
    },
    {
      "cell_type": "code",
      "metadata": {
        "id": "YVI3AjaUAQBm",
        "outputId": "9c20b930-5326-45b0-f3fa-93e5bb948e1b",
        "colab": {
          "base_uri": "https://localhost:8080/",
          "height": 224
        }
      },
      "source": [
        "X.head()"
      ],
      "execution_count": 69,
      "outputs": [
        {
          "output_type": "execute_result",
          "data": {
            "text/html": [
              "<div>\n",
              "<style scoped>\n",
              "    .dataframe tbody tr th:only-of-type {\n",
              "        vertical-align: middle;\n",
              "    }\n",
              "\n",
              "    .dataframe tbody tr th {\n",
              "        vertical-align: top;\n",
              "    }\n",
              "\n",
              "    .dataframe thead th {\n",
              "        text-align: right;\n",
              "    }\n",
              "</style>\n",
              "<table border=\"1\" class=\"dataframe\">\n",
              "  <thead>\n",
              "    <tr style=\"text-align: right;\">\n",
              "      <th></th>\n",
              "      <th>UNDER_CONSTRUCTION</th>\n",
              "      <th>RERA</th>\n",
              "      <th>BHK_NO.</th>\n",
              "      <th>SQUARE_FT</th>\n",
              "      <th>READY_TO_MOVE</th>\n",
              "      <th>RESALE</th>\n",
              "      <th>LONGITUDE</th>\n",
              "      <th>LATITUDE</th>\n",
              "      <th>Builder</th>\n",
              "      <th>Dealer</th>\n",
              "      <th>Owner</th>\n",
              "      <th>BHK</th>\n",
              "      <th>RK</th>\n",
              "      <th>GROUP</th>\n",
              "    </tr>\n",
              "  </thead>\n",
              "  <tbody>\n",
              "    <tr>\n",
              "      <th>0</th>\n",
              "      <td>0</td>\n",
              "      <td>0</td>\n",
              "      <td>2</td>\n",
              "      <td>1300.236407</td>\n",
              "      <td>1</td>\n",
              "      <td>1</td>\n",
              "      <td>12.969910</td>\n",
              "      <td>77.597960</td>\n",
              "      <td>0</td>\n",
              "      <td>0</td>\n",
              "      <td>1</td>\n",
              "      <td>1</td>\n",
              "      <td>0</td>\n",
              "      <td>0</td>\n",
              "    </tr>\n",
              "    <tr>\n",
              "      <th>1</th>\n",
              "      <td>0</td>\n",
              "      <td>0</td>\n",
              "      <td>2</td>\n",
              "      <td>1275.000000</td>\n",
              "      <td>1</td>\n",
              "      <td>1</td>\n",
              "      <td>12.274538</td>\n",
              "      <td>76.644605</td>\n",
              "      <td>0</td>\n",
              "      <td>1</td>\n",
              "      <td>0</td>\n",
              "      <td>1</td>\n",
              "      <td>0</td>\n",
              "      <td>0</td>\n",
              "    </tr>\n",
              "    <tr>\n",
              "      <th>2</th>\n",
              "      <td>0</td>\n",
              "      <td>0</td>\n",
              "      <td>2</td>\n",
              "      <td>933.159722</td>\n",
              "      <td>1</td>\n",
              "      <td>1</td>\n",
              "      <td>12.778033</td>\n",
              "      <td>77.632191</td>\n",
              "      <td>0</td>\n",
              "      <td>0</td>\n",
              "      <td>1</td>\n",
              "      <td>1</td>\n",
              "      <td>0</td>\n",
              "      <td>0</td>\n",
              "    </tr>\n",
              "    <tr>\n",
              "      <th>3</th>\n",
              "      <td>0</td>\n",
              "      <td>1</td>\n",
              "      <td>2</td>\n",
              "      <td>929.921143</td>\n",
              "      <td>1</td>\n",
              "      <td>1</td>\n",
              "      <td>28.642300</td>\n",
              "      <td>77.344500</td>\n",
              "      <td>0</td>\n",
              "      <td>0</td>\n",
              "      <td>1</td>\n",
              "      <td>1</td>\n",
              "      <td>0</td>\n",
              "      <td>1</td>\n",
              "    </tr>\n",
              "    <tr>\n",
              "      <th>4</th>\n",
              "      <td>1</td>\n",
              "      <td>0</td>\n",
              "      <td>2</td>\n",
              "      <td>999.009247</td>\n",
              "      <td>0</td>\n",
              "      <td>1</td>\n",
              "      <td>22.592200</td>\n",
              "      <td>88.484911</td>\n",
              "      <td>0</td>\n",
              "      <td>1</td>\n",
              "      <td>0</td>\n",
              "      <td>1</td>\n",
              "      <td>0</td>\n",
              "      <td>1</td>\n",
              "    </tr>\n",
              "  </tbody>\n",
              "</table>\n",
              "</div>"
            ],
            "text/plain": [
              "   UNDER_CONSTRUCTION  RERA  BHK_NO.    SQUARE_FT  ...  Owner  BHK  RK  GROUP\n",
              "0                   0     0        2  1300.236407  ...      1    1   0      0\n",
              "1                   0     0        2  1275.000000  ...      0    1   0      0\n",
              "2                   0     0        2   933.159722  ...      1    1   0      0\n",
              "3                   0     1        2   929.921143  ...      1    1   0      1\n",
              "4                   1     0        2   999.009247  ...      0    1   0      1\n",
              "\n",
              "[5 rows x 14 columns]"
            ]
          },
          "metadata": {
            "tags": []
          },
          "execution_count": 69
        }
      ]
    },
    {
      "cell_type": "code",
      "metadata": {
        "id": "d4wqnlytHMIA",
        "outputId": "1b1a62f4-336e-482b-fbbe-e5d912c497e1",
        "colab": {
          "base_uri": "https://localhost:8080/",
          "height": 351
        }
      },
      "source": [
        "sns.lineplot(X[\"READY_TO_MOVE\"],Y)"
      ],
      "execution_count": 87,
      "outputs": [
        {
          "output_type": "stream",
          "text": [
            "/usr/local/lib/python3.6/dist-packages/seaborn/_decorators.py:43: FutureWarning: Pass the following variables as keyword args: x, y. From version 0.12, the only valid positional argument will be `data`, and passing other arguments without an explicit keyword will result in an error or misinterpretation.\n",
            "  FutureWarning\n"
          ],
          "name": "stderr"
        },
        {
          "output_type": "execute_result",
          "data": {
            "text/plain": [
              "<matplotlib.axes._subplots.AxesSubplot at 0x7f75fe8a8e48>"
            ]
          },
          "metadata": {
            "tags": []
          },
          "execution_count": 87
        },
        {
          "output_type": "display_data",
          "data": {
            "image/png": "[encoded data removed]",
            "text/plain": [
              "<Figure size 432x288 with 1 Axes>"
            ]
          },
          "metadata": {
            "tags": [],
            "needs_background": "light"
          }
        }
      ]
    },
    {
      "cell_type": "code",
      "metadata": {
        "id": "bP59KRLOBWV3",
        "outputId": "9d3590ec-dd2b-4dbe-e6dd-8f8479f5783c",
        "colab": {
          "base_uri": "https://localhost:8080/",
          "height": 350
        }
      },
      "source": [
        "sns.lineplot(X[\"GROUP\"],Y)"
      ],
      "execution_count": 75,
      "outputs": [
        {
          "output_type": "stream",
          "text": [
            "/usr/local/lib/python3.6/dist-packages/seaborn/_decorators.py:43: FutureWarning: Pass the following variables as keyword args: x, y. From version 0.12, the only valid positional argument will be `data`, and passing other arguments without an explicit keyword will result in an error or misinterpretation.\n",
            "  FutureWarning\n"
          ],
          "name": "stderr"
        },
        {
          "output_type": "execute_result",
          "data": {
            "text/plain": [
              "<matplotlib.axes._subplots.AxesSubplot at 0x7f75ff1baeb8>"
            ]
          },
          "metadata": {
            "tags": []
          },
          "execution_count": 75
        },
        {
          "output_type": "display_data",
          "data": {
            "image/png": "[encoded data removed]",
            "text/plain": [
              "<Figure size 432x288 with 1 Axes>"
            ]
          },
          "metadata": {
            "tags": [],
            "needs_background": "light"
          }
        }
      ]
    },
    {
      "cell_type": "code",
      "metadata": {
        "id": "vtV5desMDdwb"
      },
      "source": [
        "train[\"GROUP\"] = labels"
      ],
      "execution_count": 76,
      "outputs": []
    },
    {
      "cell_type": "code",
      "metadata": {
        "id": "WPg_1E88D8py",
        "outputId": "9af700f3-2f1a-4084-ffed-f4a722bfa508",
        "colab": {
          "base_uri": "https://localhost:8080/",
          "height": 297
        }
      },
      "source": [
        "sns.countplot(x=\"BHK_OR_RK\",data=train)"
      ],
      "execution_count": 79,
      "outputs": [
        {
          "output_type": "execute_result",
          "data": {
            "text/plain": [
              "<matplotlib.axes._subplots.AxesSubplot at 0x7f75ff1982b0>"
            ]
          },
          "metadata": {
            "tags": []
          },
          "execution_count": 79
        },
        {
          "output_type": "display_data",
          "data": {
            "image/png": "[encoded data removed]",
            "text/plain": [
              "<Figure size 432x288 with 1 Axes>"
            ]
          },
          "metadata": {
            "tags": [],
            "needs_background": "light"
          }
        }
      ]
    },
    {
      "cell_type": "code",
      "metadata": {
        "id": "7Wss-5JGDkxd",
        "outputId": "832d9b91-44bf-446f-ef17-fb9ba6df7e26",
        "colab": {
          "base_uri": "https://localhost:8080/",
          "height": 297
        }
      },
      "source": [
        "sns.countplot(x=\"BHK_OR_RK\",data=train,hue=\"GROUP\")"
      ],
      "execution_count": 78,
      "outputs": [
        {
          "output_type": "execute_result",
          "data": {
            "text/plain": [
              "<matplotlib.axes._subplots.AxesSubplot at 0x7f75ff1afef0>"
            ]
          },
          "metadata": {
            "tags": []
          },
          "execution_count": 78
        },
        {
          "output_type": "display_data",
          "data": {
            "image/png": "[encoded data removed]",
            "text/plain": [
              "<Figure size 432x288 with 1 Axes>"
            ]
          },
          "metadata": {
            "tags": [],
            "needs_background": "light"
          }
        }
      ]
    },
    {
      "cell_type": "code",
      "metadata": {
        "id": "5ebb2stNAeXD",
        "outputId": "8521158b-f17d-41e0-9630-331ef846ad82",
        "colab": {
          "base_uri": "https://localhost:8080/",
          "height": 272
        }
      },
      "source": [
        "X.isnull().sum()"
      ],
      "execution_count": 70,
      "outputs": [
        {
          "output_type": "execute_result",
          "data": {
            "text/plain": [
              "UNDER_CONSTRUCTION    0\n",
              "RERA                  0\n",
              "BHK_NO.               0\n",
              "SQUARE_FT             0\n",
              "READY_TO_MOVE         0\n",
              "RESALE                0\n",
              "LONGITUDE             0\n",
              "LATITUDE              0\n",
              "Builder               0\n",
              "Dealer                0\n",
              "Owner                 0\n",
              "BHK                   0\n",
              "RK                    0\n",
              "GROUP                 0\n",
              "dtype: int64"
            ]
          },
          "metadata": {
            "tags": []
          },
          "execution_count": 70
        }
      ]
    },
    {
      "cell_type": "code",
      "metadata": {
        "id": "Meu1SGxDAjhy",
        "outputId": "b29efe59-a1a5-4727-8ffd-c8ad676fb475",
        "colab": {
          "base_uri": "https://localhost:8080/",
          "height": 34
        }
      },
      "source": [
        "X.shape,Y.shape"
      ],
      "execution_count": 64,
      "outputs": [
        {
          "output_type": "execute_result",
          "data": {
            "text/plain": [
              "((3270011, 14), (29451,))"
            ]
          },
          "metadata": {
            "tags": []
          },
          "execution_count": 64
        }
      ]
    },
    {
      "cell_type": "code",
      "metadata": {
        "id": "qS6MKFnK7JLU"
      },
      "source": [
        "from sklearn.model_selection import train_test_split\n",
        "X_train,X_test,y_train,y_test = train_test_split(X,Y,test_size=.20,random_state=42)"
      ],
      "execution_count": 71,
      "outputs": []
    },
    {
      "cell_type": "code",
      "metadata": {
        "id": "Aky8z33K7e-W",
        "outputId": "fdacc7dd-246c-4941-bf37-410b6eea6b73",
        "colab": {
          "base_uri": "https://localhost:8080/",
          "height": 751
        }
      },
      "source": [
        "model.fit(X_train,y_train)"
      ],
      "execution_count": 72,
      "outputs": [
        {
          "output_type": "stream",
          "text": [
            "[14:31:03] WARNING: /workspace/src/objective/regression_obj.cu:152: reg:linear is now deprecated in favor of reg:squarederror.\n",
            "[14:31:17] WARNING: /workspace/src/objective/regression_obj.cu:152: reg:linear is now deprecated in favor of reg:squarederror.\n",
            "[14:34:03] WARNING: /workspace/src/objective/regression_obj.cu:152: reg:linear is now deprecated in favor of reg:squarederror.\n",
            "[14:34:14] WARNING: /workspace/src/objective/regression_obj.cu:152: reg:linear is now deprecated in favor of reg:squarederror.\n",
            "[14:34:24] WARNING: /workspace/src/objective/regression_obj.cu:152: reg:linear is now deprecated in favor of reg:squarederror.\n",
            "[14:34:34] WARNING: /workspace/src/objective/regression_obj.cu:152: reg:linear is now deprecated in favor of reg:squarederror.\n",
            "[14:34:45] WARNING: /workspace/src/objective/regression_obj.cu:152: reg:linear is now deprecated in favor of reg:squarederror.\n",
            "[14:35:00] WARNING: /workspace/src/objective/regression_obj.cu:152: reg:linear is now deprecated in favor of reg:squarederror.\n",
            "[14:35:12] WARNING: /workspace/src/objective/regression_obj.cu:152: reg:linear is now deprecated in favor of reg:squarederror.\n",
            "[14:35:23] WARNING: /workspace/src/objective/regression_obj.cu:152: reg:linear is now deprecated in favor of reg:squarederror.\n",
            "[14:35:35] WARNING: /workspace/src/objective/regression_obj.cu:152: reg:linear is now deprecated in favor of reg:squarederror.\n",
            "[14:35:46] WARNING: /workspace/src/objective/regression_obj.cu:152: reg:linear is now deprecated in favor of reg:squarederror.\n"
          ],
          "name": "stdout"
        },
        {
          "output_type": "execute_result",
          "data": {
            "text/plain": [
              "StackingRegressor(cv=None,\n",
              "                  estimators=[('etc',\n",
              "                               ExtraTreesRegressor(bootstrap=False,\n",
              "                                                   ccp_alpha=0.0,\n",
              "                                                   criterion='mse',\n",
              "                                                   max_depth=None,\n",
              "                                                   max_features=0.9361287564089558,\n",
              "                                                   max_leaf_nodes=None,\n",
              "                                                   max_samples=None,\n",
              "                                                   min_impurity_decrease=0.0,\n",
              "                                                   min_impurity_split=None,\n",
              "                                                   min_samples_leaf=1,\n",
              "                                                   min_samples_split=9,\n",
              "                                                   min_weight_fraction_leaf=0.0,\n",
              "                                                   n_estimators=250, n_jobs=-1,\n",
              "                                                   oob_score=...\n",
              "                                              gamma=2.930052221096433,\n",
              "                                              learning_rate=1, max_delta_step=0,\n",
              "                                              max_depth=11,\n",
              "                                              min_child_weight=0.0,\n",
              "                                              missing=None, n_estimators=311,\n",
              "                                              n_jobs=1, nthread=None,\n",
              "                                              objective='reg:linear',\n",
              "                                              random_state=42, reg_alpha=0,\n",
              "                                              reg_lambda=1, scale_pos_weight=1,\n",
              "                                              seed=None, silent=None,\n",
              "                                              subsample=0.9831854660202296,\n",
              "                                              verbosity=1))],\n",
              "                  final_estimator=None, n_jobs=None, passthrough=False,\n",
              "                  verbose=0)"
            ]
          },
          "metadata": {
            "tags": []
          },
          "execution_count": 72
        }
      ]
    },
    {
      "cell_type": "code",
      "metadata": {
        "id": "K82JBc2O7nyY"
      },
      "source": [
        "y_pred = model.predict(X_test)"
      ],
      "execution_count": 73,
      "outputs": []
    },
    {
      "cell_type": "markdown",
      "metadata": {
        "id": "3-bgJ8Fi75Lc"
      },
      "source": [
        "# RMSE score"
      ]
    },
    {
      "cell_type": "code",
      "metadata": {
        "id": "tv9na50R72nF",
        "outputId": "e4f854bb-24b3-46dc-88ed-c96c144a2327",
        "colab": {
          "base_uri": "https://localhost:8080/",
          "height": 34
        }
      },
      "source": [
        "RMSE(y_test, y_pred)"
      ],
      "execution_count": 52,
      "outputs": [
        {
          "output_type": "execute_result",
          "data": {
            "text/plain": [
              "331.3414666265043"
            ]
          },
          "metadata": {
            "tags": []
          },
          "execution_count": 52
        }
      ]
    },
    {
      "cell_type": "markdown",
      "metadata": {
        "id": "JAEFS2zTBH8F"
      },
      "source": [
        "After adding *group*"
      ]
    },
    {
      "cell_type": "code",
      "metadata": {
        "id": "AIwSXheiBHPQ",
        "outputId": "be7a447e-b8db-4bcc-a4a7-2c98fa4d884b",
        "colab": {
          "base_uri": "https://localhost:8080/",
          "height": 34
        }
      },
      "source": [
        "RMSE(y_test, y_pred)"
      ],
      "execution_count": 74,
      "outputs": [
        {
          "output_type": "execute_result",
          "data": {
            "text/plain": [
              "331.3999921635641"
            ]
          },
          "metadata": {
            "tags": []
          },
          "execution_count": 74
        }
      ]
    },
    {
      "cell_type": "markdown",
      "metadata": {
        "id": "pDvYQlFrn6hB"
      },
      "source": [
        "#Predicting\n"
      ]
    },
    {
      "cell_type": "markdown",
      "metadata": {
        "id": "tgfM4bjjn939"
      },
      "source": [
        "Test Data PreProcessing"
      ]
    },
    {
      "cell_type": "code",
      "metadata": {
        "id": "fpXVeWoQ2Gp_",
        "outputId": "51eadf35-0924-4afb-85ab-5599e69cd683",
        "colab": {
          "base_uri": "https://localhost:8080/",
          "height": 275
        }
      },
      "source": [
        "test.head()"
      ],
      "execution_count": 35,
      "outputs": [
        {
          "output_type": "execute_result",
          "data": {
            "text/html": [
              "<div>\n",
              "<style scoped>\n",
              "    .dataframe tbody tr th:only-of-type {\n",
              "        vertical-align: middle;\n",
              "    }\n",
              "\n",
              "    .dataframe tbody tr th {\n",
              "        vertical-align: top;\n",
              "    }\n",
              "\n",
              "    .dataframe thead th {\n",
              "        text-align: right;\n",
              "    }\n",
              "</style>\n",
              "<table border=\"1\" class=\"dataframe\">\n",
              "  <thead>\n",
              "    <tr style=\"text-align: right;\">\n",
              "      <th></th>\n",
              "      <th>POSTED_BY</th>\n",
              "      <th>UNDER_CONSTRUCTION</th>\n",
              "      <th>RERA</th>\n",
              "      <th>BHK_NO.</th>\n",
              "      <th>BHK_OR_RK</th>\n",
              "      <th>SQUARE_FT</th>\n",
              "      <th>READY_TO_MOVE</th>\n",
              "      <th>RESALE</th>\n",
              "      <th>ADDRESS</th>\n",
              "      <th>LONGITUDE</th>\n",
              "      <th>LATITUDE</th>\n",
              "    </tr>\n",
              "  </thead>\n",
              "  <tbody>\n",
              "    <tr>\n",
              "      <th>0</th>\n",
              "      <td>Owner</td>\n",
              "      <td>0</td>\n",
              "      <td>0</td>\n",
              "      <td>1</td>\n",
              "      <td>BHK</td>\n",
              "      <td>545.171340</td>\n",
              "      <td>1</td>\n",
              "      <td>1</td>\n",
              "      <td>Kamrej,Surat</td>\n",
              "      <td>21.262000</td>\n",
              "      <td>73.047700</td>\n",
              "    </tr>\n",
              "    <tr>\n",
              "      <th>1</th>\n",
              "      <td>Dealer</td>\n",
              "      <td>1</td>\n",
              "      <td>1</td>\n",
              "      <td>2</td>\n",
              "      <td>BHK</td>\n",
              "      <td>800.000000</td>\n",
              "      <td>0</td>\n",
              "      <td>0</td>\n",
              "      <td>Panvel,Lalitpur</td>\n",
              "      <td>18.966114</td>\n",
              "      <td>73.148278</td>\n",
              "    </tr>\n",
              "    <tr>\n",
              "      <th>2</th>\n",
              "      <td>Dealer</td>\n",
              "      <td>0</td>\n",
              "      <td>0</td>\n",
              "      <td>2</td>\n",
              "      <td>BHK</td>\n",
              "      <td>1257.096513</td>\n",
              "      <td>1</td>\n",
              "      <td>1</td>\n",
              "      <td>New Town,Kolkata</td>\n",
              "      <td>22.592200</td>\n",
              "      <td>88.484911</td>\n",
              "    </tr>\n",
              "    <tr>\n",
              "      <th>3</th>\n",
              "      <td>Dealer</td>\n",
              "      <td>0</td>\n",
              "      <td>0</td>\n",
              "      <td>3</td>\n",
              "      <td>BHK</td>\n",
              "      <td>1400.329489</td>\n",
              "      <td>1</td>\n",
              "      <td>1</td>\n",
              "      <td>Kalwar Road,Jaipur</td>\n",
              "      <td>26.988300</td>\n",
              "      <td>75.584600</td>\n",
              "    </tr>\n",
              "    <tr>\n",
              "      <th>4</th>\n",
              "      <td>Owner</td>\n",
              "      <td>0</td>\n",
              "      <td>0</td>\n",
              "      <td>1</td>\n",
              "      <td>BHK</td>\n",
              "      <td>430.477830</td>\n",
              "      <td>1</td>\n",
              "      <td>1</td>\n",
              "      <td>Mai Mandir,Nadiad</td>\n",
              "      <td>22.700000</td>\n",
              "      <td>72.870000</td>\n",
              "    </tr>\n",
              "  </tbody>\n",
              "</table>\n",
              "</div>"
            ],
            "text/plain": [
              "  POSTED_BY  UNDER_CONSTRUCTION  RERA  ...             ADDRESS  LONGITUDE   LATITUDE\n",
              "0     Owner                   0     0  ...        Kamrej,Surat  21.262000  73.047700\n",
              "1    Dealer                   1     1  ...     Panvel,Lalitpur  18.966114  73.148278\n",
              "2    Dealer                   0     0  ...    New Town,Kolkata  22.592200  88.484911\n",
              "3    Dealer                   0     0  ...  Kalwar Road,Jaipur  26.988300  75.584600\n",
              "4     Owner                   0     0  ...   Mai Mandir,Nadiad  22.700000  72.870000\n",
              "\n",
              "[5 rows x 11 columns]"
            ]
          },
          "metadata": {
            "tags": []
          },
          "execution_count": 35
        }
      ]
    },
    {
      "cell_type": "code",
      "metadata": {
        "id": "dGxBpcV94ZBV"
      },
      "source": [
        "bhk_enc_test = pd.get_dummies(test['BHK_OR_RK'])\n",
        "owner_enc_test = pd.get_dummies(test['POSTED_BY'])\n",
        "test = pd.concat([test,owner_enc_test,bhk_enc_test],axis=1)"
      ],
      "execution_count": 36,
      "outputs": []
    },
    {
      "cell_type": "code",
      "metadata": {
        "id": "5jLaBNKtEVvK"
      },
      "source": [
        "test_coord = test[[\"LATITUDE\",\"LONGITUDE\"]]"
      ],
      "execution_count": 80,
      "outputs": []
    },
    {
      "cell_type": "code",
      "metadata": {
        "id": "6AEMfsi1EREq"
      },
      "source": [
        "label_test  = kmeanModel.predict(test_coord)"
      ],
      "execution_count": 81,
      "outputs": []
    },
    {
      "cell_type": "code",
      "metadata": {
        "id": "k9gG3xjjEeAn"
      },
      "source": [
        "test[\"GROUP\"] = label_test"
      ],
      "execution_count": 82,
      "outputs": []
    },
    {
      "cell_type": "code",
      "metadata": {
        "id": "NW_FBgQ-5bvP"
      },
      "source": [
        "test_new = test[X.columns.tolist()]"
      ],
      "execution_count": 83,
      "outputs": []
    },
    {
      "cell_type": "code",
      "metadata": {
        "id": "ZOdQlC_m5jUY",
        "outputId": "bcc3779c-f13b-4661-92c3-1f8a2a19e132",
        "colab": {
          "base_uri": "https://localhost:8080/",
          "height": 224
        }
      },
      "source": [
        "test_new.head()"
      ],
      "execution_count": 84,
      "outputs": [
        {
          "output_type": "execute_result",
          "data": {
            "text/html": [
              "<div>\n",
              "<style scoped>\n",
              "    .dataframe tbody tr th:only-of-type {\n",
              "        vertical-align: middle;\n",
              "    }\n",
              "\n",
              "    .dataframe tbody tr th {\n",
              "        vertical-align: top;\n",
              "    }\n",
              "\n",
              "    .dataframe thead th {\n",
              "        text-align: right;\n",
              "    }\n",
              "</style>\n",
              "<table border=\"1\" class=\"dataframe\">\n",
              "  <thead>\n",
              "    <tr style=\"text-align: right;\">\n",
              "      <th></th>\n",
              "      <th>UNDER_CONSTRUCTION</th>\n",
              "      <th>RERA</th>\n",
              "      <th>BHK_NO.</th>\n",
              "      <th>SQUARE_FT</th>\n",
              "      <th>READY_TO_MOVE</th>\n",
              "      <th>RESALE</th>\n",
              "      <th>LONGITUDE</th>\n",
              "      <th>LATITUDE</th>\n",
              "      <th>Builder</th>\n",
              "      <th>Dealer</th>\n",
              "      <th>Owner</th>\n",
              "      <th>BHK</th>\n",
              "      <th>RK</th>\n",
              "      <th>GROUP</th>\n",
              "    </tr>\n",
              "  </thead>\n",
              "  <tbody>\n",
              "    <tr>\n",
              "      <th>0</th>\n",
              "      <td>0</td>\n",
              "      <td>0</td>\n",
              "      <td>1</td>\n",
              "      <td>545.171340</td>\n",
              "      <td>1</td>\n",
              "      <td>1</td>\n",
              "      <td>21.262000</td>\n",
              "      <td>73.047700</td>\n",
              "      <td>0</td>\n",
              "      <td>0</td>\n",
              "      <td>1</td>\n",
              "      <td>1</td>\n",
              "      <td>0</td>\n",
              "      <td>2</td>\n",
              "    </tr>\n",
              "    <tr>\n",
              "      <th>1</th>\n",
              "      <td>1</td>\n",
              "      <td>1</td>\n",
              "      <td>2</td>\n",
              "      <td>800.000000</td>\n",
              "      <td>0</td>\n",
              "      <td>0</td>\n",
              "      <td>18.966114</td>\n",
              "      <td>73.148278</td>\n",
              "      <td>0</td>\n",
              "      <td>1</td>\n",
              "      <td>0</td>\n",
              "      <td>1</td>\n",
              "      <td>0</td>\n",
              "      <td>2</td>\n",
              "    </tr>\n",
              "    <tr>\n",
              "      <th>2</th>\n",
              "      <td>0</td>\n",
              "      <td>0</td>\n",
              "      <td>2</td>\n",
              "      <td>1257.096513</td>\n",
              "      <td>1</td>\n",
              "      <td>1</td>\n",
              "      <td>22.592200</td>\n",
              "      <td>88.484911</td>\n",
              "      <td>0</td>\n",
              "      <td>1</td>\n",
              "      <td>0</td>\n",
              "      <td>1</td>\n",
              "      <td>0</td>\n",
              "      <td>2</td>\n",
              "    </tr>\n",
              "    <tr>\n",
              "      <th>3</th>\n",
              "      <td>0</td>\n",
              "      <td>0</td>\n",
              "      <td>3</td>\n",
              "      <td>1400.329489</td>\n",
              "      <td>1</td>\n",
              "      <td>1</td>\n",
              "      <td>26.988300</td>\n",
              "      <td>75.584600</td>\n",
              "      <td>0</td>\n",
              "      <td>1</td>\n",
              "      <td>0</td>\n",
              "      <td>1</td>\n",
              "      <td>0</td>\n",
              "      <td>1</td>\n",
              "    </tr>\n",
              "    <tr>\n",
              "      <th>4</th>\n",
              "      <td>0</td>\n",
              "      <td>0</td>\n",
              "      <td>1</td>\n",
              "      <td>430.477830</td>\n",
              "      <td>1</td>\n",
              "      <td>1</td>\n",
              "      <td>22.700000</td>\n",
              "      <td>72.870000</td>\n",
              "      <td>0</td>\n",
              "      <td>0</td>\n",
              "      <td>1</td>\n",
              "      <td>1</td>\n",
              "      <td>0</td>\n",
              "      <td>2</td>\n",
              "    </tr>\n",
              "  </tbody>\n",
              "</table>\n",
              "</div>"
            ],
            "text/plain": [
              "   UNDER_CONSTRUCTION  RERA  BHK_NO.    SQUARE_FT  ...  Owner  BHK  RK  GROUP\n",
              "0                   0     0        1   545.171340  ...      1    1   0      2\n",
              "1                   1     1        2   800.000000  ...      0    1   0      2\n",
              "2                   0     0        2  1257.096513  ...      0    1   0      2\n",
              "3                   0     0        3  1400.329489  ...      0    1   0      1\n",
              "4                   0     0        1   430.477830  ...      1    1   0      2\n",
              "\n",
              "[5 rows x 14 columns]"
            ]
          },
          "metadata": {
            "tags": []
          },
          "execution_count": 84
        }
      ]
    },
    {
      "cell_type": "code",
      "metadata": {
        "id": "9M-VyZt8n84F"
      },
      "source": [
        "\n",
        "preds = model.predict(test_new)"
      ],
      "execution_count": 85,
      "outputs": []
    },
    {
      "cell_type": "code",
      "metadata": {
        "id": "rpL5idsO5n9h"
      },
      "source": [
        "sub = pd.read_csv(\"/content/Participants_Data_HPP/sample_submission.csv\")"
      ],
      "execution_count": 40,
      "outputs": []
    },
    {
      "cell_type": "code",
      "metadata": {
        "id": "rSDgcMMh5uMY",
        "outputId": "c15b4d74-d2a7-43b4-d398-7990a14ce9f8",
        "colab": {
          "base_uri": "https://localhost:8080/",
          "height": 204
        }
      },
      "source": [
        "sub.head()"
      ],
      "execution_count": 41,
      "outputs": [
        {
          "output_type": "execute_result",
          "data": {
            "text/html": [
              "<div>\n",
              "<style scoped>\n",
              "    .dataframe tbody tr th:only-of-type {\n",
              "        vertical-align: middle;\n",
              "    }\n",
              "\n",
              "    .dataframe tbody tr th {\n",
              "        vertical-align: top;\n",
              "    }\n",
              "\n",
              "    .dataframe thead th {\n",
              "        text-align: right;\n",
              "    }\n",
              "</style>\n",
              "<table border=\"1\" class=\"dataframe\">\n",
              "  <thead>\n",
              "    <tr style=\"text-align: right;\">\n",
              "      <th></th>\n",
              "      <th>TARGET(PRICE_IN_LACS)</th>\n",
              "    </tr>\n",
              "  </thead>\n",
              "  <tbody>\n",
              "    <tr>\n",
              "      <th>0</th>\n",
              "      <td>0.0</td>\n",
              "    </tr>\n",
              "    <tr>\n",
              "      <th>1</th>\n",
              "      <td>0.0</td>\n",
              "    </tr>\n",
              "    <tr>\n",
              "      <th>2</th>\n",
              "      <td>0.0</td>\n",
              "    </tr>\n",
              "    <tr>\n",
              "      <th>3</th>\n",
              "      <td>0.0</td>\n",
              "    </tr>\n",
              "    <tr>\n",
              "      <th>4</th>\n",
              "      <td>0.0</td>\n",
              "    </tr>\n",
              "  </tbody>\n",
              "</table>\n",
              "</div>"
            ],
            "text/plain": [
              "   TARGET(PRICE_IN_LACS)\n",
              "0                    0.0\n",
              "1                    0.0\n",
              "2                    0.0\n",
              "3                    0.0\n",
              "4                    0.0"
            ]
          },
          "metadata": {
            "tags": []
          },
          "execution_count": 41
        }
      ]
    },
    {
      "cell_type": "code",
      "metadata": {
        "id": "eWk_MKLL5vwa"
      },
      "source": [
        "sub['TARGET(PRICE_IN_LACS)'] = preds"
      ],
      "execution_count": 43,
      "outputs": []
    },
    {
      "cell_type": "code",
      "metadata": {
        "id": "LtPXNfKc5yO6",
        "outputId": "598823eb-d015-43a7-c8a6-8ebf825dcb30",
        "colab": {
          "base_uri": "https://localhost:8080/",
          "height": 204
        }
      },
      "source": [
        "sub.head()"
      ],
      "execution_count": 44,
      "outputs": [
        {
          "output_type": "execute_result",
          "data": {
            "text/html": [
              "<div>\n",
              "<style scoped>\n",
              "    .dataframe tbody tr th:only-of-type {\n",
              "        vertical-align: middle;\n",
              "    }\n",
              "\n",
              "    .dataframe tbody tr th {\n",
              "        vertical-align: top;\n",
              "    }\n",
              "\n",
              "    .dataframe thead th {\n",
              "        text-align: right;\n",
              "    }\n",
              "</style>\n",
              "<table border=\"1\" class=\"dataframe\">\n",
              "  <thead>\n",
              "    <tr style=\"text-align: right;\">\n",
              "      <th></th>\n",
              "      <th>TARGET(PRICE_IN_LACS)</th>\n",
              "    </tr>\n",
              "  </thead>\n",
              "  <tbody>\n",
              "    <tr>\n",
              "      <th>0</th>\n",
              "      <td>30.034004</td>\n",
              "    </tr>\n",
              "    <tr>\n",
              "      <th>1</th>\n",
              "      <td>79.431009</td>\n",
              "    </tr>\n",
              "    <tr>\n",
              "      <th>2</th>\n",
              "      <td>61.529254</td>\n",
              "    </tr>\n",
              "    <tr>\n",
              "      <th>3</th>\n",
              "      <td>38.789242</td>\n",
              "    </tr>\n",
              "    <tr>\n",
              "      <th>4</th>\n",
              "      <td>11.828358</td>\n",
              "    </tr>\n",
              "  </tbody>\n",
              "</table>\n",
              "</div>"
            ],
            "text/plain": [
              "   TARGET(PRICE_IN_LACS)\n",
              "0              30.034004\n",
              "1              79.431009\n",
              "2              61.529254\n",
              "3              38.789242\n",
              "4              11.828358"
            ]
          },
          "metadata": {
            "tags": []
          },
          "execution_count": 44
        }
      ]
    },
    {
      "cell_type": "code",
      "metadata": {
        "id": "hle6UjF857cJ",
        "outputId": "bd030993-f90d-43ea-dc14-b72104d0f800",
        "colab": {
          "base_uri": "https://localhost:8080/",
          "height": 34
        }
      },
      "source": [
        "test.shape,sub.shape"
      ],
      "execution_count": 45,
      "outputs": [
        {
          "output_type": "execute_result",
          "data": {
            "text/plain": [
              "((68720, 16), (68720, 1))"
            ]
          },
          "metadata": {
            "tags": []
          },
          "execution_count": 45
        }
      ]
    },
    {
      "cell_type": "code",
      "metadata": {
        "id": "1xU-H_SF59Sz"
      },
      "source": [
        "sub.to_csv('MH_Hosuing_price.csv',index=False)"
      ],
      "execution_count": 46,
      "outputs": []
    },
    {
      "cell_type": "code",
      "metadata": {
        "id": "QghjdGnl7_nd"
      },
      "source": [
        "\n",
        "preds1 = model.predict(test_new)\n",
        "sub['TARGET(PRICE_IN_LACS)'] = preds1\n",
        "sub.to_csv('MH_Hosuing_price1.csv',index=False)"
      ],
      "execution_count": 86,
      "outputs": []
    }
  ]
}